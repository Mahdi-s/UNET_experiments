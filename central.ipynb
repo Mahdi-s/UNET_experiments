{
 "cells": [
  {
   "cell_type": "code",
   "execution_count": 1,
   "id": "eda3fc1a-cb7d-45a2-9b11-76b58dfd5e08",
   "metadata": {
    "tags": []
   },
   "outputs": [],
   "source": [
    "import os\n",
    "from PIL import Image\n",
    "from torch.utils.data import Dataset\n",
    "import numpy as np\n",
    "import pandas as pd\n",
    "import torch\n",
    "import torch.nn as nn\n",
    "import torchvision.transforms.functional as TF\n",
    "import torchvision\n",
    "from torch.utils.data import DataLoader\n",
    "import albumentations as A\n",
    "from albumentations.pytorch import ToTensorV2\n",
    "from tqdm import tqdm\n",
    "import torch.optim as optim"
   ]
  },
  {
   "cell_type": "markdown",
   "id": "d50a5900-22ff-454b-a490-a1bbf1e4354d",
   "metadata": {},
   "source": [
    "##### Custom Dataloader definition"
   ]
  },
  {
   "cell_type": "code",
   "execution_count": 2,
   "id": "de90a09a-7def-4111-9caf-77ce17502782",
   "metadata": {
    "tags": []
   },
   "outputs": [],
   "source": [
    "class WoundDataset(Dataset):\n",
    "    def __init__(self, image_dir, mask_dir, transform=None):\n",
    "        self.image_dir = image_dir\n",
    "        self.mask_dir = mask_dir\n",
    "        self.transform = transform\n",
    "        self.images = os.listdir(image_dir)\n",
    "\n",
    "    def __len__(self):\n",
    "        return len(self.images)\n",
    "\n",
    "    def __getitem__(self, index):\n",
    "        img_path = os.path.join(self.image_dir, self.images[index])\n",
    "        mask_path = os.path.join(self.mask_dir, self.images[index])\n",
    "        image = np.array(Image.open(img_path).convert(\"RGB\"))\n",
    "        mask = np.array(Image.open(mask_path).convert(\"L\"), dtype=np.float32)\n",
    "        mask[mask == 255.0] = 1.0\n",
    "        if self.transform is not None:\n",
    "            augmentations = self.transform(image=image, mask=mask)\n",
    "            image = augmentations[\"image\"]\n",
    "            mask = augmentations[\"mask\"]\n",
    "        return image, mask"
   ]
  },
  {
   "cell_type": "markdown",
   "id": "cff6beda-f600-4b68-99e1-87bd0db48c1c",
   "metadata": {},
   "source": [
    "#### UNET Model Definition"
   ]
  },
  {
   "cell_type": "code",
   "execution_count": 3,
   "id": "186c08ce-cf94-4ca3-abb3-55c46040b489",
   "metadata": {
    "tags": []
   },
   "outputs": [],
   "source": [
    "# how to add dropout in UNET architecture\n",
    "class DoubleConv(nn.Module):\n",
    "    def __init__(self, in_channels, out_channels):\n",
    "        super(DoubleConv, self).__init__()\n",
    "        self.conv = nn.Sequential(\n",
    "            nn.Conv2d(in_channels, out_channels, 3, 1, 1, bias=False),\n",
    "            nn.BatchNorm2d(out_channels),\n",
    "            nn.ReLU(inplace=True),\n",
    "            nn.Conv2d(out_channels, out_channels, 3, 1, 1, bias=False),\n",
    "            nn.BatchNorm2d(out_channels),\n",
    "            nn.ReLU(inplace=True),\n",
    "            nn.Dropout(0.2),\n",
    "        )\n",
    "\n",
    "    def forward(self, x):\n",
    "        return self.conv(x)\n",
    "\n",
    "class UNET(nn.Module):\n",
    "    def __init__(\n",
    "            self, in_channels=3, out_channels=1, features=[64, 128, 256, 512],\n",
    "    ):\n",
    "        super(UNET, self).__init__()\n",
    "        self.ups = nn.ModuleList()\n",
    "        self.downs = nn.ModuleList()\n",
    "        self.pool = nn.MaxPool2d(kernel_size=2, stride=2)\n",
    "\n",
    "        # Down part of UNET\n",
    "        for feature in features:\n",
    "            self.downs.append(DoubleConv(in_channels, feature))\n",
    "            in_channels = feature\n",
    "\n",
    "        # Up part of UNET\n",
    "        for feature in reversed(features):\n",
    "            self.ups.append(\n",
    "                nn.ConvTranspose2d(\n",
    "                    feature*2, feature, kernel_size=2, stride=2,\n",
    "                )\n",
    "            )\n",
    "            self.ups.append(DoubleConv(feature*2, feature))\n",
    "\n",
    "        self.bottleneck = DoubleConv(features[-1], features[-1]*2)\n",
    "        self.final_conv = nn.Conv2d(features[0], out_channels, kernel_size=1)\n",
    "\n",
    "    def forward(self, x):\n",
    "        skip_connections = []\n",
    "\n",
    "        for down in self.downs:\n",
    "            x = down(x)\n",
    "            skip_connections.append(x)\n",
    "            x = self.pool(x)\n",
    "\n",
    "        x = self.bottleneck(x)\n",
    "        skip_connections = skip_connections[::-1]\n",
    "\n",
    "        for idx in range(0, len(self.ups), 2):\n",
    "            x = self.ups[idx](x)\n",
    "            skip_connection = skip_connections[idx//2]\n",
    "\n",
    "            if x.shape != skip_connection.shape:\n",
    "                x = TF.resize(x, size=skip_connection.shape[2:])\n",
    "\n",
    "            concat_skip = torch.cat((skip_connection, x), dim=1)\n",
    "            x = self.ups[idx+1](concat_skip)\n",
    "\n",
    "        return self.final_conv(x)"
   ]
  },
  {
   "cell_type": "markdown",
   "id": "196f0449-1877-485c-8e4f-48d4f16737b6",
   "metadata": {},
   "source": [
    "#### Utility Function Definitions"
   ]
  },
  {
   "cell_type": "code",
   "execution_count": 4,
   "id": "baf91cbc-7fe8-4c5f-a9a9-115757b9c94b",
   "metadata": {
    "tags": []
   },
   "outputs": [],
   "source": [
    "def save_checkpoint(state, filename=\"my_checkpoint_large_04lr.pth.tar\"):\n",
    "    print(\"=> Saving checkpoint\")\n",
    "    torch.save(state, filename)\n",
    "\n",
    "def load_checkpoint(checkpoint, model):\n",
    "    print(\"=> Loading checkpoint\")\n",
    "    model.load_state_dict(checkpoint[\"state_dict\"])\n",
    "\n",
    "def get_loaders(\n",
    "    train_dir,\n",
    "    train_maskdir,\n",
    "    val_dir,\n",
    "    val_maskdir,\n",
    "    batch_size,\n",
    "    train_transform,\n",
    "    val_transform,\n",
    "    num_workers=4,\n",
    "    pin_memory=True,\n",
    "):\n",
    "    train_ds = WoundDataset(\n",
    "        image_dir=train_dir,\n",
    "        mask_dir=train_maskdir,\n",
    "        transform=train_transform,\n",
    "    )\n",
    "\n",
    "    train_loader = DataLoader(\n",
    "        train_ds,\n",
    "        batch_size=batch_size,\n",
    "        num_workers=num_workers,\n",
    "        pin_memory=pin_memory,\n",
    "        shuffle=True,\n",
    "    )\n",
    "\n",
    "    val_ds = WoundDataset(\n",
    "        image_dir=val_dir,\n",
    "        mask_dir=val_maskdir,\n",
    "        transform=val_transform,\n",
    "    )\n",
    "\n",
    "    val_loader = DataLoader(\n",
    "        val_ds,\n",
    "        batch_size=batch_size,\n",
    "        num_workers=num_workers,\n",
    "        pin_memory=pin_memory,\n",
    "        shuffle=False,\n",
    "    )\n",
    "\n",
    "    return train_loader, val_loader\n",
    "\n",
    "def save_predictions_as_imgs(\n",
    "    loader, model, folder=\"prediction_images/\", device=\"cuda\"\n",
    "):\n",
    "    model.eval()\n",
    "    for idx, (x, y) in enumerate(loader):\n",
    "        x = x.to(device=device)\n",
    "        with torch.no_grad():\n",
    "            preds = torch.sigmoid(model(x))\n",
    "            preds = (preds > 0.5).float()\n",
    "        torchvision.utils.save_image(\n",
    "            preds, f\"{folder}/pred_{idx}.png\"\n",
    "        )\n",
    "        torchvision.utils.save_image(y.unsqueeze(1), f\"{folder}{idx}.png\")\n",
    "\n",
    "    model.train()"
   ]
  },
  {
   "cell_type": "markdown",
   "id": "87847413-2d8a-4aff-a051-884efb305873",
   "metadata": {},
   "source": [
    "#### Train & Validation Function Definitions"
   ]
  },
  {
   "cell_type": "code",
   "execution_count": 5,
   "id": "222f4a22-a5f6-4b14-8cfe-12861667251e",
   "metadata": {
    "tags": []
   },
   "outputs": [],
   "source": [
    "def validate_model(loader, model, device=\"cuda\"):\n",
    "    \"\"\"Test the network on the training set.\"\"\"\n",
    "    print(\"~~~~ In test ~~~~\")\n",
    "    criterion = torch.nn.BCEWithLogitsLoss()\n",
    "    loss = 0\n",
    "    num_correct = 0\n",
    "    num_pixels = 0\n",
    "    dice_score = 0\n",
    "    iou_score  = 0\n",
    "    result = []\n",
    "    model.eval()\n",
    "\n",
    "    with torch.no_grad():\n",
    "        for x, y in loader:\n",
    "            x = x.to(device)\n",
    "            y = y.to(device).unsqueeze(1)\n",
    "            preds = torch.sigmoid(model(x))\n",
    "            loss += criterion(preds, y).item()\n",
    "            preds = (preds > 0.5).float()\n",
    "            num_correct += (preds == y).sum()\n",
    "            num_pixels += torch.numel(preds)\n",
    "            dice_score += (2 * (preds * y).sum()) / (\n",
    "                (preds.sum() + y.sum()) + 1e-8\n",
    "            )\n",
    "            # Calculate IoU score\n",
    "            intersection = (preds * y).sum()\n",
    "            union = (preds + y).sum() - intersection\n",
    "            iou_score += (intersection + 1e-8) / (union + 1e-8)\n",
    "\n",
    "    num_batches = len(loader)\n",
    "    loss /= num_batches\n",
    "    acc = num_correct/num_pixels*100\n",
    "    diceS = dice_score/num_batches\n",
    "    iouS = iou_score/num_batches\n",
    "    correct_pixel = num_correct\n",
    "    total_pixel = num_pixels\n",
    "    print(f\"Loss = {loss}\")\n",
    "    print(f\"IoU Score = {iouS}\")\n",
    "    print(f\"Dice Score = {diceS}\")\n",
    "    print(\"~~~~~ Out of test ~~~~~\")\n",
    "\n",
    "    model.train()\n",
    "    \n",
    "    result = [acc.item(), diceS.item(), iouS.item(), loss, correct_pixel.item(), total_pixel]\n",
    "    \n",
    "    return result\n",
    "\n",
    "def train_model(loader, model, optimizer, loss_fn, scaler):\n",
    "    print(\"In Train\")\n",
    "    print(f'length of loader {len(loader)}')\n",
    "    model.train()\n",
    "    loop = tqdm(loader)\n",
    "\n",
    "    for batch_idx, (data, targets) in enumerate(loop):\n",
    "        data = data.to(device=DEVICE)\n",
    "        targets = targets.float().unsqueeze(1).to(device=DEVICE)\n",
    "\n",
    "        # forward\n",
    "        with torch.cuda.amp.autocast():\n",
    "            predictions = model(data)\n",
    "            loss = loss_fn(predictions, targets)\n",
    "\n",
    "        # backward\n",
    "        \n",
    "        optimizer.zero_grad()\n",
    "        scaler.scale(loss).backward()\n",
    "        scaler.step(optimizer)\n",
    "        scaler.update()\n",
    "\n",
    "        # update tqdm loop\n",
    "        loop.set_postfix(loss=loss.item())\n",
    "    print(\"Out of Train\")"
   ]
  },
  {
   "cell_type": "markdown",
   "id": "e476b0ed-112b-4adf-88f4-c4fa9cb5585b",
   "metadata": {},
   "source": [
    "#### Define Parameters"
   ]
  },
  {
   "cell_type": "code",
   "execution_count": 6,
   "id": "96e5c93e-4763-4046-b325-f2f76e9deacc",
   "metadata": {
    "tags": []
   },
   "outputs": [],
   "source": [
    "# Hyperparameters etc.\n",
    "LEARNING_RATE = 0.00001\n",
    "DEVICE = \"cuda\" if torch.cuda.is_available() else \"cpu\"\n",
    "BATCH_SIZE = 16\n",
    "NUM_EPOCHS = 200\n",
    "NUM_WORKERS = 0\n",
    "IMAGE_HEIGHT = 240 \n",
    "IMAGE_WIDTH = 240  \n",
    "PIN_MEMORY = True\n",
    "LOAD_MODEL = False\n",
    "# TRAIN_IMG_DIR = \"../data/train_data_small/train_images/\"\n",
    "# TRAIN_MASK_DIR = \"../data/train_data_small/train_masks/\"\n",
    "# VAL_IMG_DIR = \"../data/validation_data/val_images/\"\n",
    "# VAL_MASK_DIR = \"../data/validation_data/val_masks/\"\n",
    "TRAIN_IMG_DIR = \"../data/woundData/train_images/\"\n",
    "TRAIN_MASK_DIR = \"../data/woundData/train_masks/\"\n",
    "VAL_IMG_DIR = \"../data/woundData/val_images/\"\n",
    "VAL_MASK_DIR = \"../data/woundData/val_masks/\"\n",
    "csv_filename = \"output_e\" + str(NUM_EPOCHS) + \"bs\" + str(BATCH_SIZE) + \"lr\" + str(LEARNING_RATE) + \".csv\""
   ]
  },
  {
   "cell_type": "code",
   "execution_count": 7,
   "id": "68f97eec-66ef-4ef5-9260-d21cff444805",
   "metadata": {
    "tags": []
   },
   "outputs": [
    {
     "name": "stdout",
     "output_type": "stream",
     "text": [
      "cuda\n"
     ]
    }
   ],
   "source": [
    "print(DEVICE)"
   ]
  },
  {
   "cell_type": "markdown",
   "id": "692f07fd-14cc-4d50-ab44-8804a4811afa",
   "metadata": {},
   "source": [
    "#### Image transform function"
   ]
  },
  {
   "cell_type": "code",
   "execution_count": 8,
   "id": "78357f85-8328-4fe0-8990-466d40c58d4d",
   "metadata": {
    "tags": []
   },
   "outputs": [],
   "source": [
    "# used to transform training set\n",
    "train_transform = A.Compose(\n",
    "    [\n",
    "        A.Resize(height=IMAGE_HEIGHT, width=IMAGE_WIDTH),\n",
    "        A.Rotate(limit=35, p=1.0),\n",
    "        A.HorizontalFlip(p=0.5),\n",
    "        A.VerticalFlip(p=0.1),\n",
    "        A.Normalize(\n",
    "            mean=[0.0, 0.0, 0.0],\n",
    "            std=[1.0, 1.0, 1.0],\n",
    "            max_pixel_value=255.0,\n",
    "        ),\n",
    "        ToTensorV2(),\n",
    "    ],\n",
    ")\n",
    "\n",
    "# used to transform validation set\n",
    "val_transforms = A.Compose(\n",
    "    [\n",
    "        A.Resize(height=IMAGE_HEIGHT, width=IMAGE_WIDTH),\n",
    "        A.Normalize(\n",
    "            mean=[0.0, 0.0, 0.0],\n",
    "            std=[1.0, 1.0, 1.0],\n",
    "            max_pixel_value=255.0,\n",
    "        ),\n",
    "        ToTensorV2(),\n",
    "    ],\n",
    ")\n"
   ]
  },
  {
   "cell_type": "code",
   "execution_count": 9,
   "id": "a1cc8119-d1f2-4949-b731-ba34a5207b0f",
   "metadata": {
    "tags": []
   },
   "outputs": [
    {
     "name": "stdout",
     "output_type": "stream",
     "text": [
      "~~~~ In test ~~~~\n",
      "Loss = 0.985631539271428\n",
      "IoU Score = 0.013426982797682285\n",
      "Dice Score = 0.02647390589118004\n",
      "~~~~~ Out of test ~~~~~\n",
      "length of train loader -> 39\n",
      "First Check - Before training starts\n",
      "Accuracy: 1.353515625\n",
      "Dice Score: 0.02647390589118004\n",
      "IOU: 0.013426982797682285\n",
      "Loss: 0.985631539271428\n",
      "Correct Pixel: 155925\n",
      "Total Pixel: 11520000\n",
      "In Train\n",
      "length of loader 39\n"
     ]
    },
    {
     "name": "stderr",
     "output_type": "stream",
     "text": [
      "100%|██████████████████████████████████████████████████████████████████████| 39/39 [00:16<00:00,  2.41it/s, loss=0.683]\n"
     ]
    },
    {
     "name": "stdout",
     "output_type": "stream",
     "text": [
      "Out of Train\n",
      "=> Saving checkpoint\n",
      "~~~~ In test ~~~~\n",
      "Loss = 0.9570801716584426\n",
      "IoU Score = 0.018705179914832115\n",
      "Dice Score = 0.036642301827669144\n",
      "~~~~~ Out of test ~~~~~\n",
      "~~~~~epoch => 0\n",
      "Accuracy: 68.32682800292969\n",
      "Dice Score: 0.036642301827669144\n",
      "IOU: 0.018705179914832115\n",
      "Loss: 0.9570801716584426\n",
      "Correct Pixel: 7871250\n",
      "Total Pixel: 11520000\n",
      "~~~~~~~~~~~~~~~~~end epoch\n",
      "In Train\n",
      "length of loader 39\n"
     ]
    },
    {
     "name": "stderr",
     "output_type": "stream",
     "text": [
      "100%|██████████████████████████████████████████████████████████████████████| 39/39 [00:15<00:00,  2.48it/s, loss=0.635]\n"
     ]
    },
    {
     "name": "stdout",
     "output_type": "stream",
     "text": [
      "Out of Train\n",
      "=> Saving checkpoint\n",
      "~~~~ In test ~~~~\n",
      "Loss = 0.9257071568415716\n",
      "IoU Score = 0.0933094248175621\n",
      "Dice Score = 0.16935494542121887\n",
      "~~~~~ Out of test ~~~~~\n",
      "~~~~~epoch => 1\n",
      "Accuracy: 90.68452453613281\n",
      "Dice Score: 0.16935494542121887\n",
      "IOU: 0.0933094248175621\n",
      "Loss: 0.9257071568415716\n",
      "Correct Pixel: 10446857\n",
      "Total Pixel: 11520000\n",
      "~~~~~~~~~~~~~~~~~end epoch\n",
      "In Train\n",
      "length of loader 39\n"
     ]
    },
    {
     "name": "stderr",
     "output_type": "stream",
     "text": [
      "100%|███████████████████████████████████████████████████████████████████████| 39/39 [00:15<00:00,  2.53it/s, loss=0.55]\n"
     ]
    },
    {
     "name": "stdout",
     "output_type": "stream",
     "text": [
      "Out of Train\n",
      "=> Saving checkpoint\n",
      "~~~~ In test ~~~~\n",
      "Loss = 0.9014993585073031\n",
      "IoU Score = 0.1899762898683548\n",
      "Dice Score = 0.3159208297729492\n",
      "~~~~~ Out of test ~~~~~\n",
      "~~~~~epoch => 2\n",
      "Accuracy: 96.28181457519531\n",
      "Dice Score: 0.3159208297729492\n",
      "IOU: 0.1899762898683548\n",
      "Loss: 0.9014993585073031\n",
      "Correct Pixel: 11091665\n",
      "Total Pixel: 11520000\n",
      "~~~~~~~~~~~~~~~~~end epoch\n",
      "In Train\n",
      "length of loader 39\n"
     ]
    },
    {
     "name": "stderr",
     "output_type": "stream",
     "text": [
      "100%|██████████████████████████████████████████████████████████████████████| 39/39 [00:15<00:00,  2.50it/s, loss=0.469]\n"
     ]
    },
    {
     "name": "stdout",
     "output_type": "stream",
     "text": [
      "Out of Train\n",
      "=> Saving checkpoint\n",
      "~~~~ In test ~~~~\n",
      "Loss = 0.8832458303524897\n",
      "IoU Score = 0.33174702525138855\n",
      "Dice Score = 0.493233323097229\n",
      "~~~~~ Out of test ~~~~~\n",
      "~~~~~epoch => 3\n",
      "Accuracy: 98.3024673461914\n",
      "Dice Score: 0.493233323097229\n",
      "IOU: 0.33174702525138855\n",
      "Loss: 0.8832458303524897\n",
      "Correct Pixel: 11324444\n",
      "Total Pixel: 11520000\n",
      "~~~~~~~~~~~~~~~~~end epoch\n",
      "In Train\n",
      "length of loader 39\n"
     ]
    },
    {
     "name": "stderr",
     "output_type": "stream",
     "text": [
      "100%|██████████████████████████████████████████████████████████████████████| 39/39 [00:15<00:00,  2.53it/s, loss=0.443]\n"
     ]
    },
    {
     "name": "stdout",
     "output_type": "stream",
     "text": [
      "Out of Train\n",
      "=> Saving checkpoint\n",
      "~~~~ In test ~~~~\n",
      "Loss = 0.870183738378378\n",
      "IoU Score = 0.3331433832645416\n",
      "Dice Score = 0.4798389673233032\n",
      "~~~~~ Out of test ~~~~~\n",
      "~~~~~epoch => 4\n",
      "Accuracy: 99.01902770996094\n",
      "Dice Score: 0.4798389673233032\n",
      "IOU: 0.3331433832645416\n",
      "Loss: 0.870183738378378\n",
      "Correct Pixel: 11406992\n",
      "Total Pixel: 11520000\n",
      "~~~~~~~~~~~~~~~~~end epoch\n",
      "In Train\n",
      "length of loader 39\n"
     ]
    },
    {
     "name": "stderr",
     "output_type": "stream",
     "text": [
      "100%|██████████████████████████████████████████████████████████████████████| 39/39 [00:15<00:00,  2.56it/s, loss=0.445]\n"
     ]
    },
    {
     "name": "stdout",
     "output_type": "stream",
     "text": [
      "Out of Train\n",
      "=> Saving checkpoint\n",
      "~~~~ In test ~~~~\n",
      "Loss = 0.8635627902471102\n",
      "IoU Score = 0.4136657118797302\n",
      "Dice Score = 0.5743053555488586\n",
      "~~~~~ Out of test ~~~~~\n",
      "~~~~~epoch => 5\n",
      "Accuracy: 98.99282836914062\n",
      "Dice Score: 0.5743053555488586\n",
      "IOU: 0.4136657118797302\n",
      "Loss: 0.8635627902471102\n",
      "Correct Pixel: 11403973\n",
      "Total Pixel: 11520000\n",
      "~~~~~~~~~~~~~~~~~end epoch\n",
      "In Train\n",
      "length of loader 39\n"
     ]
    },
    {
     "name": "stderr",
     "output_type": "stream",
     "text": [
      "100%|██████████████████████████████████████████████████████████████████████| 39/39 [00:15<00:00,  2.56it/s, loss=0.399]\n"
     ]
    },
    {
     "name": "stdout",
     "output_type": "stream",
     "text": [
      "Out of Train\n",
      "=> Saving checkpoint\n",
      "~~~~ In test ~~~~\n",
      "Loss = 0.859065450154818\n",
      "IoU Score = 0.39040887355804443\n",
      "Dice Score = 0.5460240244865417\n",
      "~~~~~ Out of test ~~~~~\n",
      "~~~~~epoch => 6\n",
      "Accuracy: 99.0731201171875\n",
      "Dice Score: 0.5460240244865417\n",
      "IOU: 0.39040887355804443\n",
      "Loss: 0.859065450154818\n",
      "Correct Pixel: 11413224\n",
      "Total Pixel: 11520000\n",
      "~~~~~~~~~~~~~~~~~end epoch\n",
      "In Train\n",
      "length of loader 39\n"
     ]
    },
    {
     "name": "stderr",
     "output_type": "stream",
     "text": [
      "100%|██████████████████████████████████████████████████████████████████████| 39/39 [00:15<00:00,  2.57it/s, loss=0.389]\n"
     ]
    },
    {
     "name": "stdout",
     "output_type": "stream",
     "text": [
      "Out of Train\n",
      "=> Saving checkpoint\n",
      "~~~~ In test ~~~~\n",
      "Loss = 0.8552877215238718\n",
      "IoU Score = 0.2735973000526428\n",
      "Dice Score = 0.4113929569721222\n",
      "~~~~~ Out of test ~~~~~\n",
      "~~~~~epoch => 7\n",
      "Accuracy: 98.98802947998047\n",
      "Dice Score: 0.4113929569721222\n",
      "IOU: 0.2735973000526428\n",
      "Loss: 0.8552877215238718\n",
      "Correct Pixel: 11403421\n",
      "Total Pixel: 11520000\n",
      "~~~~~~~~~~~~~~~~~end epoch\n",
      "In Train\n",
      "length of loader 39\n"
     ]
    },
    {
     "name": "stderr",
     "output_type": "stream",
     "text": [
      "100%|██████████████████████████████████████████████████████████████████████| 39/39 [00:15<00:00,  2.56it/s, loss=0.385]\n"
     ]
    },
    {
     "name": "stdout",
     "output_type": "stream",
     "text": [
      "Out of Train\n",
      "=> Saving checkpoint\n",
      "~~~~ In test ~~~~\n",
      "Loss = 0.8528227806091309\n",
      "IoU Score = 0.2568992078304291\n",
      "Dice Score = 0.3920959532260895\n",
      "~~~~~ Out of test ~~~~~\n",
      "~~~~~epoch => 8\n",
      "Accuracy: 98.98050689697266\n",
      "Dice Score: 0.3920959532260895\n",
      "IOU: 0.2568992078304291\n",
      "Loss: 0.8528227806091309\n",
      "Correct Pixel: 11402554\n",
      "Total Pixel: 11520000\n",
      "~~~~~~~~~~~~~~~~~end epoch\n",
      "In Train\n",
      "length of loader 39\n"
     ]
    },
    {
     "name": "stderr",
     "output_type": "stream",
     "text": [
      "100%|███████████████████████████████████████████████████████████████████████| 39/39 [00:15<00:00,  2.55it/s, loss=0.41]\n"
     ]
    },
    {
     "name": "stdout",
     "output_type": "stream",
     "text": [
      "Out of Train\n",
      "=> Saving checkpoint\n",
      "~~~~ In test ~~~~\n",
      "Loss = 0.8512179851531982\n",
      "IoU Score = 0.24232041835784912\n",
      "Dice Score = 0.3713177442550659\n",
      "~~~~~ Out of test ~~~~~\n",
      "~~~~~epoch => 9\n",
      "Accuracy: 98.97233581542969\n",
      "Dice Score: 0.3713177442550659\n",
      "IOU: 0.24232041835784912\n",
      "Loss: 0.8512179851531982\n",
      "Correct Pixel: 11401613\n",
      "Total Pixel: 11520000\n",
      "~~~~~~~~~~~~~~~~~end epoch\n",
      "In Train\n",
      "length of loader 39\n"
     ]
    },
    {
     "name": "stderr",
     "output_type": "stream",
     "text": [
      "100%|██████████████████████████████████████████████████████████████████████| 39/39 [00:15<00:00,  2.52it/s, loss=0.404]\n"
     ]
    },
    {
     "name": "stdout",
     "output_type": "stream",
     "text": [
      "Out of Train\n",
      "=> Saving checkpoint\n",
      "~~~~ In test ~~~~\n",
      "Loss = 0.8489253108318036\n",
      "IoU Score = 0.32041290402412415\n",
      "Dice Score = 0.46374616026878357\n",
      "~~~~~ Out of test ~~~~~\n",
      "~~~~~epoch => 10\n",
      "Accuracy: 99.04500579833984\n",
      "Dice Score: 0.46374616026878357\n",
      "IOU: 0.32041290402412415\n",
      "Loss: 0.8489253108318036\n",
      "Correct Pixel: 11409984\n",
      "Total Pixel: 11520000\n",
      "~~~~~~~~~~~~~~~~~end epoch\n",
      "In Train\n",
      "length of loader 39\n"
     ]
    },
    {
     "name": "stderr",
     "output_type": "stream",
     "text": [
      "100%|██████████████████████████████████████████████████████████████████████| 39/39 [00:15<00:00,  2.56it/s, loss=0.374]\n"
     ]
    },
    {
     "name": "stdout",
     "output_type": "stream",
     "text": [
      "Out of Train\n",
      "=> Saving checkpoint\n",
      "~~~~ In test ~~~~\n",
      "Loss = 0.8471730122199426\n",
      "IoU Score = 0.3205960690975189\n",
      "Dice Score = 0.46959489583969116\n",
      "~~~~~ Out of test ~~~~~\n",
      "~~~~~epoch => 11\n",
      "Accuracy: 99.05333709716797\n",
      "Dice Score: 0.46959489583969116\n",
      "IOU: 0.3205960690975189\n",
      "Loss: 0.8471730122199426\n",
      "Correct Pixel: 11410944\n",
      "Total Pixel: 11520000\n",
      "~~~~~~~~~~~~~~~~~end epoch\n",
      "In Train\n",
      "length of loader 39\n"
     ]
    },
    {
     "name": "stderr",
     "output_type": "stream",
     "text": [
      "100%|██████████████████████████████████████████████████████████████████████| 39/39 [00:15<00:00,  2.54it/s, loss=0.372]\n"
     ]
    },
    {
     "name": "stdout",
     "output_type": "stream",
     "text": [
      "Out of Train\n",
      "=> Saving checkpoint\n",
      "~~~~ In test ~~~~\n",
      "Loss = 0.8452321611917936\n",
      "IoU Score = 0.18832701444625854\n",
      "Dice Score = 0.30264100432395935\n",
      "~~~~~ Out of test ~~~~~\n",
      "~~~~~epoch => 12\n",
      "Accuracy: 98.90750885009766\n",
      "Dice Score: 0.30264100432395935\n",
      "IOU: 0.18832701444625854\n",
      "Loss: 0.8452321611917936\n",
      "Correct Pixel: 11394145\n",
      "Total Pixel: 11520000\n",
      "~~~~~~~~~~~~~~~~~end epoch\n",
      "In Train\n",
      "length of loader 39\n"
     ]
    },
    {
     "name": "stderr",
     "output_type": "stream",
     "text": [
      "100%|███████████████████████████████████████████████████████████████████████| 39/39 [00:15<00:00,  2.56it/s, loss=0.36]\n"
     ]
    },
    {
     "name": "stdout",
     "output_type": "stream",
     "text": [
      "Out of Train\n",
      "=> Saving checkpoint\n",
      "~~~~ In test ~~~~\n",
      "Loss = 0.8425043821334839\n",
      "IoU Score = 0.3627811372280121\n",
      "Dice Score = 0.5111403465270996\n",
      "~~~~~ Out of test ~~~~~\n",
      "~~~~~epoch => 13\n",
      "Accuracy: 99.10912322998047\n",
      "Dice Score: 0.5111403465270996\n",
      "IOU: 0.3627811372280121\n",
      "Loss: 0.8425043821334839\n",
      "Correct Pixel: 11417371\n",
      "Total Pixel: 11520000\n",
      "~~~~~~~~~~~~~~~~~end epoch\n",
      "In Train\n",
      "length of loader 39\n"
     ]
    },
    {
     "name": "stderr",
     "output_type": "stream",
     "text": [
      "100%|██████████████████████████████████████████████████████████████████████| 39/39 [00:15<00:00,  2.54it/s, loss=0.414]\n"
     ]
    },
    {
     "name": "stdout",
     "output_type": "stream",
     "text": [
      "Out of Train\n",
      "=> Saving checkpoint\n",
      "~~~~ In test ~~~~\n",
      "Loss = 0.841112746642186\n",
      "IoU Score = 0.3370453417301178\n",
      "Dice Score = 0.48190587759017944\n",
      "~~~~~ Out of test ~~~~~\n",
      "~~~~~epoch => 14\n",
      "Accuracy: 99.07829284667969\n",
      "Dice Score: 0.48190587759017944\n",
      "IOU: 0.3370453417301178\n",
      "Loss: 0.841112746642186\n",
      "Correct Pixel: 11413819\n",
      "Total Pixel: 11520000\n",
      "~~~~~~~~~~~~~~~~~end epoch\n",
      "In Train\n",
      "length of loader 39\n"
     ]
    },
    {
     "name": "stderr",
     "output_type": "stream",
     "text": [
      "100%|██████████████████████████████████████████████████████████████████████| 39/39 [00:15<00:00,  2.46it/s, loss=0.512]\n"
     ]
    },
    {
     "name": "stdout",
     "output_type": "stream",
     "text": [
      "Out of Train\n",
      "=> Saving checkpoint\n",
      "~~~~ In test ~~~~\n",
      "Loss = 0.8402177462211022\n",
      "IoU Score = 0.41125166416168213\n",
      "Dice Score = 0.5640179514884949\n",
      "~~~~~ Out of test ~~~~~\n",
      "~~~~~epoch => 15\n",
      "Accuracy: 99.15819549560547\n",
      "Dice Score: 0.5640179514884949\n",
      "IOU: 0.41125166416168213\n",
      "Loss: 0.8402177462211022\n",
      "Correct Pixel: 11423024\n",
      "Total Pixel: 11520000\n",
      "~~~~~~~~~~~~~~~~~end epoch\n",
      "In Train\n",
      "length of loader 39\n"
     ]
    },
    {
     "name": "stderr",
     "output_type": "stream",
     "text": [
      "100%|██████████████████████████████████████████████████████████████████████| 39/39 [00:15<00:00,  2.48it/s, loss=0.342]\n"
     ]
    },
    {
     "name": "stdout",
     "output_type": "stream",
     "text": [
      "Out of Train\n",
      "=> Saving checkpoint\n",
      "~~~~ In test ~~~~\n",
      "Loss = 0.8382055713580205\n",
      "IoU Score = 0.27107739448547363\n",
      "Dice Score = 0.40992221236228943\n",
      "~~~~~ Out of test ~~~~~\n",
      "~~~~~epoch => 16\n",
      "Accuracy: 99.003173828125\n",
      "Dice Score: 0.40992221236228943\n",
      "IOU: 0.27107739448547363\n",
      "Loss: 0.8382055713580205\n",
      "Correct Pixel: 11405165\n",
      "Total Pixel: 11520000\n",
      "~~~~~~~~~~~~~~~~~end epoch\n",
      "In Train\n",
      "length of loader 39\n"
     ]
    },
    {
     "name": "stderr",
     "output_type": "stream",
     "text": [
      "100%|██████████████████████████████████████████████████████████████████████| 39/39 [00:15<00:00,  2.55it/s, loss=0.344]\n"
     ]
    },
    {
     "name": "stdout",
     "output_type": "stream",
     "text": [
      "Out of Train\n",
      "=> Saving checkpoint\n",
      "~~~~ In test ~~~~\n",
      "Loss = 0.8353176483741174\n",
      "IoU Score = 0.30685073137283325\n",
      "Dice Score = 0.45023468136787415\n",
      "~~~~~ Out of test ~~~~~\n",
      "~~~~~epoch => 17\n",
      "Accuracy: 99.06027221679688\n",
      "Dice Score: 0.45023468136787415\n",
      "IOU: 0.30685073137283325\n",
      "Loss: 0.8353176483741174\n",
      "Correct Pixel: 11411743\n",
      "Total Pixel: 11520000\n",
      "~~~~~~~~~~~~~~~~~end epoch\n",
      "In Train\n",
      "length of loader 39\n"
     ]
    },
    {
     "name": "stderr",
     "output_type": "stream",
     "text": [
      "100%|██████████████████████████████████████████████████████████████████████| 39/39 [00:15<00:00,  2.45it/s, loss=0.346]\n"
     ]
    },
    {
     "name": "stdout",
     "output_type": "stream",
     "text": [
      "Out of Train\n",
      "=> Saving checkpoint\n",
      "~~~~ In test ~~~~\n",
      "Loss = 0.8334473142257104\n",
      "IoU Score = 0.3463534712791443\n",
      "Dice Score = 0.4918334186077118\n",
      "~~~~~ Out of test ~~~~~\n",
      "~~~~~epoch => 18\n",
      "Accuracy: 99.09745788574219\n",
      "Dice Score: 0.4918334186077118\n",
      "IOU: 0.3463534712791443\n",
      "Loss: 0.8334473142257104\n",
      "Correct Pixel: 11416027\n",
      "Total Pixel: 11520000\n",
      "~~~~~~~~~~~~~~~~~end epoch\n",
      "In Train\n",
      "length of loader 39\n"
     ]
    },
    {
     "name": "stderr",
     "output_type": "stream",
     "text": [
      "100%|███████████████████████████████████████████████████████████████████████| 39/39 [00:15<00:00,  2.54it/s, loss=0.35]\n"
     ]
    },
    {
     "name": "stdout",
     "output_type": "stream",
     "text": [
      "Out of Train\n",
      "=> Saving checkpoint\n",
      "~~~~ In test ~~~~\n",
      "Loss = 0.8319056171637315\n",
      "IoU Score = 0.24851037561893463\n",
      "Dice Score = 0.3783705532550812\n",
      "~~~~~ Out of test ~~~~~\n",
      "~~~~~epoch => 19\n",
      "Accuracy: 98.9836196899414\n",
      "Dice Score: 0.3783705532550812\n",
      "IOU: 0.24851037561893463\n",
      "Loss: 0.8319056171637315\n",
      "Correct Pixel: 11402913\n",
      "Total Pixel: 11520000\n",
      "~~~~~~~~~~~~~~~~~end epoch\n",
      "In Train\n",
      "length of loader 39\n"
     ]
    },
    {
     "name": "stderr",
     "output_type": "stream",
     "text": [
      "100%|██████████████████████████████████████████████████████████████████████| 39/39 [00:15<00:00,  2.55it/s, loss=0.387]\n"
     ]
    },
    {
     "name": "stdout",
     "output_type": "stream",
     "text": [
      "Out of Train\n",
      "=> Saving checkpoint\n",
      "~~~~ In test ~~~~\n",
      "Loss = 0.8306273909715506\n",
      "IoU Score = 0.3301890790462494\n",
      "Dice Score = 0.47394782304763794\n",
      "~~~~~ Out of test ~~~~~\n",
      "~~~~~epoch => 20\n",
      "Accuracy: 99.08673858642578\n",
      "Dice Score: 0.47394782304763794\n",
      "IOU: 0.3301890790462494\n",
      "Loss: 0.8306273909715506\n",
      "Correct Pixel: 11414792\n",
      "Total Pixel: 11520000\n",
      "~~~~~~~~~~~~~~~~~end epoch\n",
      "In Train\n",
      "length of loader 39\n"
     ]
    },
    {
     "name": "stderr",
     "output_type": "stream",
     "text": [
      "100%|██████████████████████████████████████████████████████████████████████| 39/39 [00:15<00:00,  2.50it/s, loss=0.331]\n"
     ]
    },
    {
     "name": "stdout",
     "output_type": "stream",
     "text": [
      "Out of Train\n",
      "=> Saving checkpoint\n",
      "~~~~ In test ~~~~\n",
      "Loss = 0.8294436014615573\n",
      "IoU Score = 0.3539251685142517\n",
      "Dice Score = 0.4985082745552063\n",
      "~~~~~ Out of test ~~~~~\n",
      "~~~~~epoch => 21\n",
      "Accuracy: 99.11323547363281\n",
      "Dice Score: 0.4985082745552063\n",
      "IOU: 0.3539251685142517\n",
      "Loss: 0.8294436014615573\n",
      "Correct Pixel: 11417845\n",
      "Total Pixel: 11520000\n",
      "~~~~~~~~~~~~~~~~~end epoch\n",
      "In Train\n",
      "length of loader 39\n"
     ]
    },
    {
     "name": "stderr",
     "output_type": "stream",
     "text": [
      "100%|██████████████████████████████████████████████████████████████████████| 39/39 [00:15<00:00,  2.47it/s, loss=0.373]\n"
     ]
    },
    {
     "name": "stdout",
     "output_type": "stream",
     "text": [
      "Out of Train\n",
      "=> Saving checkpoint\n",
      "~~~~ In test ~~~~\n",
      "Loss = 0.8304658440443186\n",
      "IoU Score = 0.27675557136535645\n",
      "Dice Score = 0.4179570972919464\n",
      "~~~~~ Out of test ~~~~~\n",
      "~~~~~epoch => 22\n",
      "Accuracy: 99.0096206665039\n",
      "Dice Score: 0.4179570972919464\n",
      "IOU: 0.27675557136535645\n",
      "Loss: 0.8304658440443186\n",
      "Correct Pixel: 11405908\n",
      "Total Pixel: 11520000\n",
      "~~~~~~~~~~~~~~~~~end epoch\n",
      "In Train\n",
      "length of loader 39\n"
     ]
    },
    {
     "name": "stderr",
     "output_type": "stream",
     "text": [
      "100%|██████████████████████████████████████████████████████████████████████| 39/39 [00:15<00:00,  2.52it/s, loss=0.324]\n"
     ]
    },
    {
     "name": "stdout",
     "output_type": "stream",
     "text": [
      "Out of Train\n",
      "=> Saving checkpoint\n",
      "~~~~ In test ~~~~\n",
      "Loss = 0.8282784544504606\n",
      "IoU Score = 0.23642848432064056\n",
      "Dice Score = 0.3709108531475067\n",
      "~~~~~ Out of test ~~~~~\n",
      "~~~~~epoch => 23\n",
      "Accuracy: 98.96192932128906\n",
      "Dice Score: 0.3709108531475067\n",
      "IOU: 0.23642848432064056\n",
      "Loss: 0.8282784544504606\n",
      "Correct Pixel: 11400414\n",
      "Total Pixel: 11520000\n",
      "~~~~~~~~~~~~~~~~~end epoch\n",
      "In Train\n",
      "length of loader 39\n"
     ]
    },
    {
     "name": "stderr",
     "output_type": "stream",
     "text": [
      "100%|███████████████████████████████████████████████████████████████████████| 39/39 [00:15<00:00,  2.55it/s, loss=0.37]\n"
     ]
    },
    {
     "name": "stdout",
     "output_type": "stream",
     "text": [
      "Out of Train\n",
      "=> Saving checkpoint\n",
      "~~~~ In test ~~~~\n",
      "Loss = 0.827912477346567\n",
      "IoU Score = 0.4571167230606079\n",
      "Dice Score = 0.6131853461265564\n",
      "~~~~~ Out of test ~~~~~\n",
      "~~~~~epoch => 24\n",
      "Accuracy: 99.15371704101562\n",
      "Dice Score: 0.6131853461265564\n",
      "IOU: 0.4571167230606079\n",
      "Loss: 0.827912477346567\n",
      "Correct Pixel: 11422508\n",
      "Total Pixel: 11520000\n",
      "~~~~~~~~~~~~~~~~~end epoch\n",
      "In Train\n",
      "length of loader 39\n"
     ]
    },
    {
     "name": "stderr",
     "output_type": "stream",
     "text": [
      "100%|██████████████████████████████████████████████████████████████████████| 39/39 [00:15<00:00,  2.55it/s, loss=0.333]\n"
     ]
    },
    {
     "name": "stdout",
     "output_type": "stream",
     "text": [
      "Out of Train\n",
      "=> Saving checkpoint\n",
      "~~~~ In test ~~~~\n",
      "Loss = 0.8262129746950589\n",
      "IoU Score = 0.20780330896377563\n",
      "Dice Score = 0.3311541974544525\n",
      "~~~~~ Out of test ~~~~~\n",
      "~~~~~epoch => 25\n",
      "Accuracy: 98.92611694335938\n",
      "Dice Score: 0.3311541974544525\n",
      "IOU: 0.20780330896377563\n",
      "Loss: 0.8262129746950589\n",
      "Correct Pixel: 11396288\n",
      "Total Pixel: 11520000\n",
      "~~~~~~~~~~~~~~~~~end epoch\n",
      "In Train\n",
      "length of loader 39\n"
     ]
    },
    {
     "name": "stderr",
     "output_type": "stream",
     "text": [
      "100%|██████████████████████████████████████████████████████████████████████| 39/39 [00:15<00:00,  2.54it/s, loss=0.329]\n"
     ]
    },
    {
     "name": "stdout",
     "output_type": "stream",
     "text": [
      "Out of Train\n",
      "=> Saving checkpoint\n",
      "~~~~ In test ~~~~\n",
      "Loss = 0.825077474117279\n",
      "IoU Score = 0.29680925607681274\n",
      "Dice Score = 0.4396234154701233\n",
      "~~~~~ Out of test ~~~~~\n",
      "~~~~~epoch => 26\n",
      "Accuracy: 99.03691101074219\n",
      "Dice Score: 0.4396234154701233\n",
      "IOU: 0.29680925607681274\n",
      "Loss: 0.825077474117279\n",
      "Correct Pixel: 11409052\n",
      "Total Pixel: 11520000\n",
      "~~~~~~~~~~~~~~~~~end epoch\n",
      "In Train\n",
      "length of loader 39\n"
     ]
    },
    {
     "name": "stderr",
     "output_type": "stream",
     "text": [
      "100%|██████████████████████████████████████████████████████████████████████| 39/39 [00:15<00:00,  2.53it/s, loss=0.327]\n"
     ]
    },
    {
     "name": "stdout",
     "output_type": "stream",
     "text": [
      "Out of Train\n",
      "=> Saving checkpoint\n",
      "~~~~ In test ~~~~\n",
      "Loss = 0.8240181482755221\n",
      "IoU Score = 0.3424076735973358\n",
      "Dice Score = 0.48805445432662964\n",
      "~~~~~ Out of test ~~~~~\n",
      "~~~~~epoch => 27\n",
      "Accuracy: 99.10003662109375\n",
      "Dice Score: 0.48805445432662964\n",
      "IOU: 0.3424076735973358\n",
      "Loss: 0.8240181482755221\n",
      "Correct Pixel: 11416324\n",
      "Total Pixel: 11520000\n",
      "~~~~~~~~~~~~~~~~~end epoch\n",
      "In Train\n",
      "length of loader 39\n"
     ]
    },
    {
     "name": "stderr",
     "output_type": "stream",
     "text": [
      "100%|██████████████████████████████████████████████████████████████████████| 39/39 [00:15<00:00,  2.54it/s, loss=0.321]\n"
     ]
    },
    {
     "name": "stdout",
     "output_type": "stream",
     "text": [
      "Out of Train\n",
      "=> Saving checkpoint\n",
      "~~~~ In test ~~~~\n",
      "Loss = 0.8237569377972529\n",
      "IoU Score = 0.31306612491607666\n",
      "Dice Score = 0.45758748054504395\n",
      "~~~~~ Out of test ~~~~~\n",
      "~~~~~epoch => 28\n",
      "Accuracy: 99.05720520019531\n",
      "Dice Score: 0.45758748054504395\n",
      "IOU: 0.31306612491607666\n",
      "Loss: 0.8237569377972529\n",
      "Correct Pixel: 11411390\n",
      "Total Pixel: 11520000\n",
      "~~~~~~~~~~~~~~~~~end epoch\n",
      "In Train\n",
      "length of loader 39\n"
     ]
    },
    {
     "name": "stderr",
     "output_type": "stream",
     "text": [
      "100%|██████████████████████████████████████████████████████████████████████| 39/39 [00:15<00:00,  2.48it/s, loss=0.384]\n"
     ]
    },
    {
     "name": "stdout",
     "output_type": "stream",
     "text": [
      "Out of Train\n",
      "=> Saving checkpoint\n",
      "~~~~ In test ~~~~\n",
      "Loss = 0.8242612756215609\n",
      "IoU Score = 0.3832709789276123\n",
      "Dice Score = 0.5311495065689087\n",
      "~~~~~ Out of test ~~~~~\n",
      "~~~~~epoch => 29\n",
      "Accuracy: 99.14192199707031\n",
      "Dice Score: 0.5311495065689087\n",
      "IOU: 0.3832709789276123\n",
      "Loss: 0.8242612756215609\n",
      "Correct Pixel: 11421149\n",
      "Total Pixel: 11520000\n",
      "~~~~~~~~~~~~~~~~~end epoch\n",
      "In Train\n",
      "length of loader 39\n"
     ]
    },
    {
     "name": "stderr",
     "output_type": "stream",
     "text": [
      "100%|██████████████████████████████████████████████████████████████████████| 39/39 [00:15<00:00,  2.51it/s, loss=0.347]\n"
     ]
    },
    {
     "name": "stdout",
     "output_type": "stream",
     "text": [
      "Out of Train\n",
      "=> Saving checkpoint\n",
      "~~~~ In test ~~~~\n",
      "Loss = 0.823542636174422\n",
      "IoU Score = 0.30647581815719604\n",
      "Dice Score = 0.4513299763202667\n",
      "~~~~~ Out of test ~~~~~\n",
      "~~~~~epoch => 30\n",
      "Accuracy: 99.04120635986328\n",
      "Dice Score: 0.4513299763202667\n",
      "IOU: 0.30647581815719604\n",
      "Loss: 0.823542636174422\n",
      "Correct Pixel: 11409547\n",
      "Total Pixel: 11520000\n",
      "~~~~~~~~~~~~~~~~~end epoch\n",
      "In Train\n",
      "length of loader 39\n"
     ]
    },
    {
     "name": "stderr",
     "output_type": "stream",
     "text": [
      "100%|██████████████████████████████████████████████████████████████████████| 39/39 [00:15<00:00,  2.54it/s, loss=0.338]\n"
     ]
    },
    {
     "name": "stdout",
     "output_type": "stream",
     "text": [
      "Out of Train\n",
      "=> Saving checkpoint\n",
      "~~~~ In test ~~~~\n",
      "Loss = 0.8218415379524231\n",
      "IoU Score = 0.28798505663871765\n",
      "Dice Score = 0.42405974864959717\n",
      "~~~~~ Out of test ~~~~~\n",
      "~~~~~epoch => 31\n",
      "Accuracy: 99.02745819091797\n",
      "Dice Score: 0.42405974864959717\n",
      "IOU: 0.28798505663871765\n",
      "Loss: 0.8218415379524231\n",
      "Correct Pixel: 11407963\n",
      "Total Pixel: 11520000\n",
      "~~~~~~~~~~~~~~~~~end epoch\n",
      "In Train\n",
      "length of loader 39\n"
     ]
    },
    {
     "name": "stderr",
     "output_type": "stream",
     "text": [
      "100%|██████████████████████████████████████████████████████████████████████| 39/39 [00:15<00:00,  2.44it/s, loss=0.318]\n"
     ]
    },
    {
     "name": "stdout",
     "output_type": "stream",
     "text": [
      "Out of Train\n",
      "=> Saving checkpoint\n",
      "~~~~ In test ~~~~\n",
      "Loss = 0.8213915274693415\n",
      "IoU Score = 0.35714423656463623\n",
      "Dice Score = 0.5055578351020813\n",
      "~~~~~ Out of test ~~~~~\n",
      "~~~~~epoch => 32\n",
      "Accuracy: 99.11259460449219\n",
      "Dice Score: 0.5055578351020813\n",
      "IOU: 0.35714423656463623\n",
      "Loss: 0.8213915274693415\n",
      "Correct Pixel: 11417771\n",
      "Total Pixel: 11520000\n",
      "~~~~~~~~~~~~~~~~~end epoch\n",
      "In Train\n",
      "length of loader 39\n"
     ]
    },
    {
     "name": "stderr",
     "output_type": "stream",
     "text": [
      "100%|██████████████████████████████████████████████████████████████████████| 39/39 [00:15<00:00,  2.45it/s, loss=0.313]\n"
     ]
    },
    {
     "name": "stdout",
     "output_type": "stream",
     "text": [
      "Out of Train\n",
      "=> Saving checkpoint\n",
      "~~~~ In test ~~~~\n",
      "Loss = 0.8206065480525677\n",
      "IoU Score = 0.34407493472099304\n",
      "Dice Score = 0.4905582666397095\n",
      "~~~~~ Out of test ~~~~~\n",
      "~~~~~epoch => 33\n",
      "Accuracy: 99.10889434814453\n",
      "Dice Score: 0.4905582666397095\n",
      "IOU: 0.34407493472099304\n",
      "Loss: 0.8206065480525677\n",
      "Correct Pixel: 11417344\n",
      "Total Pixel: 11520000\n",
      "~~~~~~~~~~~~~~~~~end epoch\n",
      "In Train\n",
      "length of loader 39\n"
     ]
    },
    {
     "name": "stderr",
     "output_type": "stream",
     "text": [
      "100%|██████████████████████████████████████████████████████████████████████| 39/39 [00:15<00:00,  2.53it/s, loss=0.327]\n"
     ]
    },
    {
     "name": "stdout",
     "output_type": "stream",
     "text": [
      "Out of Train\n",
      "=> Saving checkpoint\n",
      "~~~~ In test ~~~~\n",
      "Loss = 0.8197032350760239\n",
      "IoU Score = 0.31124264001846313\n",
      "Dice Score = 0.4542127847671509\n",
      "~~~~~ Out of test ~~~~~\n",
      "~~~~~epoch => 34\n",
      "Accuracy: 99.07002258300781\n",
      "Dice Score: 0.4542127847671509\n",
      "IOU: 0.31124264001846313\n",
      "Loss: 0.8197032350760239\n",
      "Correct Pixel: 11412867\n",
      "Total Pixel: 11520000\n",
      "~~~~~~~~~~~~~~~~~end epoch\n",
      "In Train\n",
      "length of loader 39\n"
     ]
    },
    {
     "name": "stderr",
     "output_type": "stream",
     "text": [
      "100%|██████████████████████████████████████████████████████████████████████| 39/39 [00:15<00:00,  2.51it/s, loss=0.318]\n"
     ]
    },
    {
     "name": "stdout",
     "output_type": "stream",
     "text": [
      "Out of Train\n",
      "=> Saving checkpoint\n",
      "~~~~ In test ~~~~\n",
      "Loss = 0.8197274391467755\n",
      "IoU Score = 0.40499550104141235\n",
      "Dice Score = 0.5537154078483582\n",
      "~~~~~ Out of test ~~~~~\n",
      "~~~~~epoch => 35\n",
      "Accuracy: 99.16349792480469\n",
      "Dice Score: 0.5537154078483582\n",
      "IOU: 0.40499550104141235\n",
      "Loss: 0.8197274391467755\n",
      "Correct Pixel: 11423635\n",
      "Total Pixel: 11520000\n",
      "~~~~~~~~~~~~~~~~~end epoch\n",
      "In Train\n",
      "length of loader 39\n"
     ]
    },
    {
     "name": "stderr",
     "output_type": "stream",
     "text": [
      "100%|██████████████████████████████████████████████████████████████████████| 39/39 [00:15<00:00,  2.55it/s, loss=0.292]\n"
     ]
    },
    {
     "name": "stdout",
     "output_type": "stream",
     "text": [
      "Out of Train\n",
      "=> Saving checkpoint\n",
      "~~~~ In test ~~~~\n",
      "Loss = 0.8190104365348816\n",
      "IoU Score = 0.32647809386253357\n",
      "Dice Score = 0.46985286474227905\n",
      "~~~~~ Out of test ~~~~~\n",
      "~~~~~epoch => 36\n",
      "Accuracy: 99.0714340209961\n",
      "Dice Score: 0.46985286474227905\n",
      "IOU: 0.32647809386253357\n",
      "Loss: 0.8190104365348816\n",
      "Correct Pixel: 11413029\n",
      "Total Pixel: 11520000\n",
      "~~~~~~~~~~~~~~~~~end epoch\n",
      "In Train\n",
      "length of loader 39\n"
     ]
    },
    {
     "name": "stderr",
     "output_type": "stream",
     "text": [
      "100%|██████████████████████████████████████████████████████████████████████| 39/39 [00:15<00:00,  2.55it/s, loss=0.297]\n"
     ]
    },
    {
     "name": "stdout",
     "output_type": "stream",
     "text": [
      "Out of Train\n",
      "=> Saving checkpoint\n",
      "~~~~ In test ~~~~\n",
      "Loss = 0.8176165635769184\n",
      "IoU Score = 0.35193997621536255\n",
      "Dice Score = 0.49767082929611206\n",
      "~~~~~ Out of test ~~~~~\n",
      "~~~~~epoch => 37\n",
      "Accuracy: 99.11126708984375\n",
      "Dice Score: 0.49767082929611206\n",
      "IOU: 0.35193997621536255\n",
      "Loss: 0.8176165635769184\n",
      "Correct Pixel: 11417618\n",
      "Total Pixel: 11520000\n",
      "~~~~~~~~~~~~~~~~~end epoch\n",
      "In Train\n",
      "length of loader 39\n"
     ]
    },
    {
     "name": "stderr",
     "output_type": "stream",
     "text": [
      "100%|██████████████████████████████████████████████████████████████████████| 39/39 [00:15<00:00,  2.54it/s, loss=0.306]\n"
     ]
    },
    {
     "name": "stdout",
     "output_type": "stream",
     "text": [
      "Out of Train\n",
      "=> Saving checkpoint\n",
      "~~~~ In test ~~~~\n",
      "Loss = 0.8162837211902325\n",
      "IoU Score = 0.29128584265708923\n",
      "Dice Score = 0.4341539442539215\n",
      "~~~~~ Out of test ~~~~~\n",
      "~~~~~epoch => 38\n",
      "Accuracy: 99.03532409667969\n",
      "Dice Score: 0.4341539442539215\n",
      "IOU: 0.29128584265708923\n",
      "Loss: 0.8162837211902325\n",
      "Correct Pixel: 11408869\n",
      "Total Pixel: 11520000\n",
      "~~~~~~~~~~~~~~~~~end epoch\n",
      "In Train\n",
      "length of loader 39\n"
     ]
    },
    {
     "name": "stderr",
     "output_type": "stream",
     "text": [
      "100%|██████████████████████████████████████████████████████████████████████| 39/39 [00:15<00:00,  2.54it/s, loss=0.288]\n"
     ]
    },
    {
     "name": "stdout",
     "output_type": "stream",
     "text": [
      "Out of Train\n",
      "=> Saving checkpoint\n",
      "~~~~ In test ~~~~\n",
      "Loss = 0.8152629641386179\n",
      "IoU Score = 0.3399209678173065\n",
      "Dice Score = 0.4841366708278656\n",
      "~~~~~ Out of test ~~~~~\n",
      "~~~~~epoch => 39\n",
      "Accuracy: 99.10745239257812\n",
      "Dice Score: 0.4841366708278656\n",
      "IOU: 0.3399209678173065\n",
      "Loss: 0.8152629641386179\n",
      "Correct Pixel: 11417179\n",
      "Total Pixel: 11520000\n",
      "~~~~~~~~~~~~~~~~~end epoch\n",
      "In Train\n",
      "length of loader 39\n"
     ]
    },
    {
     "name": "stderr",
     "output_type": "stream",
     "text": [
      "100%|██████████████████████████████████████████████████████████████████████| 39/39 [00:15<00:00,  2.55it/s, loss=0.352]\n"
     ]
    },
    {
     "name": "stdout",
     "output_type": "stream",
     "text": [
      "Out of Train\n",
      "=> Saving checkpoint\n",
      "~~~~ In test ~~~~\n",
      "Loss = 0.8150291947218088\n",
      "IoU Score = 0.4431573152542114\n",
      "Dice Score = 0.5956555604934692\n",
      "~~~~~ Out of test ~~~~~\n",
      "~~~~~epoch => 40\n",
      "Accuracy: 99.21199035644531\n",
      "Dice Score: 0.5956555604934692\n",
      "IOU: 0.4431573152542114\n",
      "Loss: 0.8150291947218088\n",
      "Correct Pixel: 11429221\n",
      "Total Pixel: 11520000\n",
      "~~~~~~~~~~~~~~~~~end epoch\n",
      "In Train\n",
      "length of loader 39\n"
     ]
    },
    {
     "name": "stderr",
     "output_type": "stream",
     "text": [
      "100%|██████████████████████████████████████████████████████████████████████| 39/39 [00:15<00:00,  2.51it/s, loss=0.291]\n"
     ]
    },
    {
     "name": "stdout",
     "output_type": "stream",
     "text": [
      "Out of Train\n",
      "=> Saving checkpoint\n",
      "~~~~ In test ~~~~\n",
      "Loss = 0.8150388598442078\n",
      "IoU Score = 0.26492196321487427\n",
      "Dice Score = 0.39841708540916443\n",
      "~~~~~ Out of test ~~~~~\n",
      "~~~~~epoch => 41\n",
      "Accuracy: 99.0172348022461\n",
      "Dice Score: 0.39841708540916443\n",
      "IOU: 0.26492196321487427\n",
      "Loss: 0.8150388598442078\n",
      "Correct Pixel: 11406785\n",
      "Total Pixel: 11520000\n",
      "~~~~~~~~~~~~~~~~~end epoch\n",
      "In Train\n",
      "length of loader 39\n"
     ]
    },
    {
     "name": "stderr",
     "output_type": "stream",
     "text": [
      "100%|██████████████████████████████████████████████████████████████████████| 39/39 [00:15<00:00,  2.52it/s, loss=0.292]\n"
     ]
    },
    {
     "name": "stdout",
     "output_type": "stream",
     "text": [
      "Out of Train\n",
      "=> Saving checkpoint\n",
      "~~~~ In test ~~~~\n",
      "Loss = 0.8132168192129868\n",
      "IoU Score = 0.3987288177013397\n",
      "Dice Score = 0.5505928993225098\n",
      "~~~~~ Out of test ~~~~~\n",
      "~~~~~epoch => 42\n",
      "Accuracy: 99.16573333740234\n",
      "Dice Score: 0.5505928993225098\n",
      "IOU: 0.3987288177013397\n",
      "Loss: 0.8132168192129868\n",
      "Correct Pixel: 11423892\n",
      "Total Pixel: 11520000\n",
      "~~~~~~~~~~~~~~~~~end epoch\n",
      "In Train\n",
      "length of loader 39\n"
     ]
    },
    {
     "name": "stderr",
     "output_type": "stream",
     "text": [
      "100%|██████████████████████████████████████████████████████████████████████| 39/39 [00:16<00:00,  2.38it/s, loss=0.291]\n"
     ]
    },
    {
     "name": "stdout",
     "output_type": "stream",
     "text": [
      "Out of Train\n",
      "=> Saving checkpoint\n",
      "~~~~ In test ~~~~\n",
      "Loss = 0.8126072654357324\n",
      "IoU Score = 0.34884220361709595\n",
      "Dice Score = 0.4955109655857086\n",
      "~~~~~ Out of test ~~~~~\n",
      "~~~~~epoch => 43\n",
      "Accuracy: 99.11981964111328\n",
      "Dice Score: 0.4955109655857086\n",
      "IOU: 0.34884220361709595\n",
      "Loss: 0.8126072654357324\n",
      "Correct Pixel: 11418603\n",
      "Total Pixel: 11520000\n",
      "~~~~~~~~~~~~~~~~~end epoch\n",
      "In Train\n",
      "length of loader 39\n"
     ]
    },
    {
     "name": "stderr",
     "output_type": "stream",
     "text": [
      "100%|██████████████████████████████████████████████████████████████████████| 39/39 [00:16<00:00,  2.37it/s, loss=0.278]\n"
     ]
    },
    {
     "name": "stdout",
     "output_type": "stream",
     "text": [
      "Out of Train\n",
      "=> Saving checkpoint\n",
      "~~~~ In test ~~~~\n",
      "Loss = 0.8118991760107187\n",
      "IoU Score = 0.33221688866615295\n",
      "Dice Score = 0.482928991317749\n",
      "~~~~~ Out of test ~~~~~\n",
      "~~~~~epoch => 44\n",
      "Accuracy: 99.08892822265625\n",
      "Dice Score: 0.482928991317749\n",
      "IOU: 0.33221688866615295\n",
      "Loss: 0.8118991760107187\n",
      "Correct Pixel: 11415044\n",
      "Total Pixel: 11520000\n",
      "~~~~~~~~~~~~~~~~~end epoch\n",
      "In Train\n",
      "length of loader 39\n"
     ]
    },
    {
     "name": "stderr",
     "output_type": "stream",
     "text": [
      "100%|██████████████████████████████████████████████████████████████████████| 39/39 [00:15<00:00,  2.53it/s, loss=0.286]\n"
     ]
    },
    {
     "name": "stdout",
     "output_type": "stream",
     "text": [
      "Out of Train\n",
      "=> Saving checkpoint\n",
      "~~~~ In test ~~~~\n",
      "Loss = 0.8110885390868554\n",
      "IoU Score = 0.4063543975353241\n",
      "Dice Score = 0.5613193511962891\n",
      "~~~~~ Out of test ~~~~~\n",
      "~~~~~epoch => 45\n",
      "Accuracy: 99.17500305175781\n",
      "Dice Score: 0.5613193511962891\n",
      "IOU: 0.4063543975353241\n",
      "Loss: 0.8110885390868554\n",
      "Correct Pixel: 11424960\n",
      "Total Pixel: 11520000\n",
      "~~~~~~~~~~~~~~~~~end epoch\n",
      "In Train\n",
      "length of loader 39\n"
     ]
    },
    {
     "name": "stderr",
     "output_type": "stream",
     "text": [
      "100%|██████████████████████████████████████████████████████████████████████| 39/39 [00:15<00:00,  2.54it/s, loss=0.277]\n"
     ]
    },
    {
     "name": "stdout",
     "output_type": "stream",
     "text": [
      "Out of Train\n",
      "=> Saving checkpoint\n",
      "~~~~ In test ~~~~\n",
      "Loss = 0.8103620868462783\n",
      "IoU Score = 0.4265912175178528\n",
      "Dice Score = 0.581257164478302\n",
      "~~~~~ Out of test ~~~~~\n",
      "~~~~~epoch => 46\n",
      "Accuracy: 99.19091796875\n",
      "Dice Score: 0.581257164478302\n",
      "IOU: 0.4265912175178528\n",
      "Loss: 0.8103620868462783\n",
      "Correct Pixel: 11426793\n",
      "Total Pixel: 11520000\n",
      "~~~~~~~~~~~~~~~~~end epoch\n",
      "In Train\n",
      "length of loader 39\n"
     ]
    },
    {
     "name": "stderr",
     "output_type": "stream",
     "text": [
      "100%|██████████████████████████████████████████████████████████████████████| 39/39 [00:14<00:00,  2.61it/s, loss=0.275]\n"
     ]
    },
    {
     "name": "stdout",
     "output_type": "stream",
     "text": [
      "Out of Train\n",
      "=> Saving checkpoint\n",
      "~~~~ In test ~~~~\n",
      "Loss = 0.809472029025738\n",
      "IoU Score = 0.4236432611942291\n",
      "Dice Score = 0.5803220868110657\n",
      "~~~~~ Out of test ~~~~~\n",
      "~~~~~epoch => 47\n",
      "Accuracy: 99.19023132324219\n",
      "Dice Score: 0.5803220868110657\n",
      "IOU: 0.4236432611942291\n",
      "Loss: 0.809472029025738\n",
      "Correct Pixel: 11426715\n",
      "Total Pixel: 11520000\n",
      "~~~~~~~~~~~~~~~~~end epoch\n",
      "In Train\n",
      "length of loader 39\n"
     ]
    },
    {
     "name": "stderr",
     "output_type": "stream",
     "text": [
      "100%|██████████████████████████████████████████████████████████████████████| 39/39 [00:14<00:00,  2.62it/s, loss=0.361]\n"
     ]
    },
    {
     "name": "stdout",
     "output_type": "stream",
     "text": [
      "Out of Train\n",
      "=> Saving checkpoint\n",
      "~~~~ In test ~~~~\n",
      "Loss = 0.8111851077813369\n",
      "IoU Score = 0.5386320352554321\n",
      "Dice Score = 0.689520001411438\n",
      "~~~~~ Out of test ~~~~~\n",
      "~~~~~epoch => 48\n",
      "Accuracy: 99.29203033447266\n",
      "Dice Score: 0.689520001411438\n",
      "IOU: 0.5386320352554321\n",
      "Loss: 0.8111851077813369\n",
      "Correct Pixel: 11438442\n",
      "Total Pixel: 11520000\n",
      "~~~~~~~~~~~~~~~~~end epoch\n",
      "In Train\n",
      "length of loader 39\n"
     ]
    },
    {
     "name": "stderr",
     "output_type": "stream",
     "text": [
      "100%|██████████████████████████████████████████████████████████████████████| 39/39 [00:14<00:00,  2.61it/s, loss=0.277]\n"
     ]
    },
    {
     "name": "stdout",
     "output_type": "stream",
     "text": [
      "Out of Train\n",
      "=> Saving checkpoint\n",
      "~~~~ In test ~~~~\n",
      "Loss = 0.8084491812265836\n",
      "IoU Score = 0.20338739454746246\n",
      "Dice Score = 0.3297472894191742\n",
      "~~~~~ Out of test ~~~~~\n",
      "~~~~~epoch => 49\n",
      "Accuracy: 98.90544891357422\n",
      "Dice Score: 0.3297472894191742\n",
      "IOU: 0.20338739454746246\n",
      "Loss: 0.8084491812265836\n",
      "Correct Pixel: 11393908\n",
      "Total Pixel: 11520000\n",
      "~~~~~~~~~~~~~~~~~end epoch\n",
      "In Train\n",
      "length of loader 39\n"
     ]
    },
    {
     "name": "stderr",
     "output_type": "stream",
     "text": [
      "100%|██████████████████████████████████████████████████████████████████████| 39/39 [00:14<00:00,  2.61it/s, loss=0.279]\n"
     ]
    },
    {
     "name": "stdout",
     "output_type": "stream",
     "text": [
      "Out of Train\n",
      "=> Saving checkpoint\n",
      "~~~~ In test ~~~~\n",
      "Loss = 0.8078450285471402\n",
      "IoU Score = 0.4328954219818115\n",
      "Dice Score = 0.5868462920188904\n",
      "~~~~~ Out of test ~~~~~\n",
      "~~~~~epoch => 50\n",
      "Accuracy: 99.19563293457031\n",
      "Dice Score: 0.5868462920188904\n",
      "IOU: 0.4328954219818115\n",
      "Loss: 0.8078450285471402\n",
      "Correct Pixel: 11427337\n",
      "Total Pixel: 11520000\n",
      "~~~~~~~~~~~~~~~~~end epoch\n",
      "In Train\n",
      "length of loader 39\n"
     ]
    },
    {
     "name": "stderr",
     "output_type": "stream",
     "text": [
      "100%|██████████████████████████████████████████████████████████████████████| 39/39 [00:14<00:00,  2.61it/s, loss=0.277]\n"
     ]
    },
    {
     "name": "stdout",
     "output_type": "stream",
     "text": [
      "Out of Train\n",
      "=> Saving checkpoint\n",
      "~~~~ In test ~~~~\n",
      "Loss = 0.806493511566749\n",
      "IoU Score = 0.3709130883216858\n",
      "Dice Score = 0.5250610113143921\n",
      "~~~~~ Out of test ~~~~~\n",
      "~~~~~epoch => 51\n",
      "Accuracy: 99.13379669189453\n",
      "Dice Score: 0.5250610113143921\n",
      "IOU: 0.3709130883216858\n",
      "Loss: 0.806493511566749\n",
      "Correct Pixel: 11420213\n",
      "Total Pixel: 11520000\n",
      "~~~~~~~~~~~~~~~~~end epoch\n",
      "In Train\n",
      "length of loader 39\n"
     ]
    },
    {
     "name": "stderr",
     "output_type": "stream",
     "text": [
      "100%|██████████████████████████████████████████████████████████████████████| 39/39 [00:14<00:00,  2.61it/s, loss=0.269]\n"
     ]
    },
    {
     "name": "stdout",
     "output_type": "stream",
     "text": [
      "Out of Train\n",
      "=> Saving checkpoint\n",
      "~~~~ In test ~~~~\n",
      "Loss = 0.8063521293493418\n",
      "IoU Score = 0.46170559525489807\n",
      "Dice Score = 0.6145707368850708\n",
      "~~~~~ Out of test ~~~~~\n",
      "~~~~~epoch => 52\n",
      "Accuracy: 99.24674987792969\n",
      "Dice Score: 0.6145707368850708\n",
      "IOU: 0.46170559525489807\n",
      "Loss: 0.8063521293493418\n",
      "Correct Pixel: 11433226\n",
      "Total Pixel: 11520000\n",
      "~~~~~~~~~~~~~~~~~end epoch\n",
      "In Train\n",
      "length of loader 39\n"
     ]
    },
    {
     "name": "stderr",
     "output_type": "stream",
     "text": [
      "100%|██████████████████████████████████████████████████████████████████████| 39/39 [00:14<00:00,  2.61it/s, loss=0.274]\n"
     ]
    },
    {
     "name": "stdout",
     "output_type": "stream",
     "text": [
      "Out of Train\n",
      "=> Saving checkpoint\n",
      "~~~~ In test ~~~~\n",
      "Loss = 0.8057619608365573\n",
      "IoU Score = 0.38321033120155334\n",
      "Dice Score = 0.542016863822937\n",
      "~~~~~ Out of test ~~~~~\n",
      "~~~~~epoch => 53\n",
      "Accuracy: 99.13644409179688\n",
      "Dice Score: 0.542016863822937\n",
      "IOU: 0.38321033120155334\n",
      "Loss: 0.8057619608365573\n",
      "Correct Pixel: 11420518\n",
      "Total Pixel: 11520000\n",
      "~~~~~~~~~~~~~~~~~end epoch\n",
      "In Train\n",
      "length of loader 39\n"
     ]
    },
    {
     "name": "stderr",
     "output_type": "stream",
     "text": [
      "100%|██████████████████████████████████████████████████████████████████████| 39/39 [00:14<00:00,  2.61it/s, loss=0.259]\n"
     ]
    },
    {
     "name": "stdout",
     "output_type": "stream",
     "text": [
      "Out of Train\n",
      "=> Saving checkpoint\n",
      "~~~~ In test ~~~~\n",
      "Loss = 0.8042969611974863\n",
      "IoU Score = 0.47028762102127075\n",
      "Dice Score = 0.6249335408210754\n",
      "~~~~~ Out of test ~~~~~\n",
      "~~~~~epoch => 54\n",
      "Accuracy: 99.24758911132812\n",
      "Dice Score: 0.6249335408210754\n",
      "IOU: 0.47028762102127075\n",
      "Loss: 0.8042969611974863\n",
      "Correct Pixel: 11433322\n",
      "Total Pixel: 11520000\n",
      "~~~~~~~~~~~~~~~~~end epoch\n",
      "In Train\n",
      "length of loader 39\n"
     ]
    },
    {
     "name": "stderr",
     "output_type": "stream",
     "text": [
      "100%|███████████████████████████████████████████████████████████████████████| 39/39 [00:14<00:00,  2.61it/s, loss=0.27]\n"
     ]
    },
    {
     "name": "stdout",
     "output_type": "stream",
     "text": [
      "Out of Train\n",
      "=> Saving checkpoint\n",
      "~~~~ In test ~~~~\n",
      "Loss = 0.8038087303821857\n",
      "IoU Score = 0.42464855313301086\n",
      "Dice Score = 0.5820526480674744\n",
      "~~~~~ Out of test ~~~~~\n",
      "~~~~~epoch => 55\n",
      "Accuracy: 99.19544982910156\n",
      "Dice Score: 0.5820526480674744\n",
      "IOU: 0.42464855313301086\n",
      "Loss: 0.8038087303821857\n",
      "Correct Pixel: 11427316\n",
      "Total Pixel: 11520000\n",
      "~~~~~~~~~~~~~~~~~end epoch\n",
      "In Train\n",
      "length of loader 39\n"
     ]
    },
    {
     "name": "stderr",
     "output_type": "stream",
     "text": [
      "100%|███████████████████████████████████████████████████████████████████████| 39/39 [00:14<00:00,  2.61it/s, loss=0.28]\n"
     ]
    },
    {
     "name": "stdout",
     "output_type": "stream",
     "text": [
      "Out of Train\n",
      "=> Saving checkpoint\n",
      "~~~~ In test ~~~~\n",
      "Loss = 0.803927114376655\n",
      "IoU Score = 0.525005042552948\n",
      "Dice Score = 0.6747224926948547\n",
      "~~~~~ Out of test ~~~~~\n",
      "~~~~~epoch => 56\n",
      "Accuracy: 99.29214477539062\n",
      "Dice Score: 0.6747224926948547\n",
      "IOU: 0.525005042552948\n",
      "Loss: 0.803927114376655\n",
      "Correct Pixel: 11438455\n",
      "Total Pixel: 11520000\n",
      "~~~~~~~~~~~~~~~~~end epoch\n",
      "In Train\n",
      "length of loader 39\n"
     ]
    },
    {
     "name": "stderr",
     "output_type": "stream",
     "text": [
      "100%|██████████████████████████████████████████████████████████████████████| 39/39 [00:14<00:00,  2.62it/s, loss=0.259]\n"
     ]
    },
    {
     "name": "stdout",
     "output_type": "stream",
     "text": [
      "Out of Train\n",
      "=> Saving checkpoint\n",
      "~~~~ In test ~~~~\n",
      "Loss = 0.8039761506594144\n",
      "IoU Score = 0.427681028842926\n",
      "Dice Score = 0.5796228647232056\n",
      "~~~~~ Out of test ~~~~~\n",
      "~~~~~epoch => 57\n",
      "Accuracy: 99.19713592529297\n",
      "Dice Score: 0.5796228647232056\n",
      "IOU: 0.427681028842926\n",
      "Loss: 0.8039761506594144\n",
      "Correct Pixel: 11427510\n",
      "Total Pixel: 11520000\n",
      "~~~~~~~~~~~~~~~~~end epoch\n",
      "In Train\n",
      "length of loader 39\n"
     ]
    },
    {
     "name": "stderr",
     "output_type": "stream",
     "text": [
      "100%|██████████████████████████████████████████████████████████████████████| 39/39 [00:14<00:00,  2.62it/s, loss=0.252]\n"
     ]
    },
    {
     "name": "stdout",
     "output_type": "stream",
     "text": [
      "Out of Train\n",
      "=> Saving checkpoint\n",
      "~~~~ In test ~~~~\n",
      "Loss = 0.8027555804986221\n",
      "IoU Score = 0.4791710078716278\n",
      "Dice Score = 0.6308111548423767\n",
      "~~~~~ Out of test ~~~~~\n",
      "~~~~~epoch => 58\n",
      "Accuracy: 99.26132202148438\n",
      "Dice Score: 0.6308111548423767\n",
      "IOU: 0.4791710078716278\n",
      "Loss: 0.8027555804986221\n",
      "Correct Pixel: 11434904\n",
      "Total Pixel: 11520000\n",
      "~~~~~~~~~~~~~~~~~end epoch\n",
      "In Train\n",
      "length of loader 39\n"
     ]
    },
    {
     "name": "stderr",
     "output_type": "stream",
     "text": [
      "100%|██████████████████████████████████████████████████████████████████████| 39/39 [00:14<00:00,  2.62it/s, loss=0.266]\n"
     ]
    },
    {
     "name": "stdout",
     "output_type": "stream",
     "text": [
      "Out of Train\n",
      "=> Saving checkpoint\n",
      "~~~~ In test ~~~~\n",
      "Loss = 0.8017823100090027\n",
      "IoU Score = 0.40728217363357544\n",
      "Dice Score = 0.5576080679893494\n",
      "~~~~~ Out of test ~~~~~\n",
      "~~~~~epoch => 59\n",
      "Accuracy: 99.18612670898438\n",
      "Dice Score: 0.5576080679893494\n",
      "IOU: 0.40728217363357544\n",
      "Loss: 0.8017823100090027\n",
      "Correct Pixel: 11426242\n",
      "Total Pixel: 11520000\n",
      "~~~~~~~~~~~~~~~~~end epoch\n",
      "In Train\n",
      "length of loader 39\n"
     ]
    },
    {
     "name": "stderr",
     "output_type": "stream",
     "text": [
      "100%|██████████████████████████████████████████████████████████████████████| 39/39 [00:14<00:00,  2.61it/s, loss=0.259]\n"
     ]
    },
    {
     "name": "stdout",
     "output_type": "stream",
     "text": [
      "Out of Train\n",
      "=> Saving checkpoint\n",
      "~~~~ In test ~~~~\n",
      "Loss = 0.8012944093117347\n",
      "IoU Score = 0.46040230989456177\n",
      "Dice Score = 0.6141773462295532\n",
      "~~~~~ Out of test ~~~~~\n",
      "~~~~~epoch => 60\n",
      "Accuracy: 99.24613189697266\n",
      "Dice Score: 0.6141773462295532\n",
      "IOU: 0.46040230989456177\n",
      "Loss: 0.8012944093117347\n",
      "Correct Pixel: 11433154\n",
      "Total Pixel: 11520000\n",
      "~~~~~~~~~~~~~~~~~end epoch\n",
      "In Train\n",
      "length of loader 39\n"
     ]
    },
    {
     "name": "stderr",
     "output_type": "stream",
     "text": [
      "100%|██████████████████████████████████████████████████████████████████████| 39/39 [00:15<00:00,  2.60it/s, loss=0.317]\n"
     ]
    },
    {
     "name": "stdout",
     "output_type": "stream",
     "text": [
      "Out of Train\n",
      "=> Saving checkpoint\n",
      "~~~~ In test ~~~~\n",
      "Loss = 0.7999447171504681\n",
      "IoU Score = 0.36951887607574463\n",
      "Dice Score = 0.5244234204292297\n",
      "~~~~~ Out of test ~~~~~\n",
      "~~~~~epoch => 61\n",
      "Accuracy: 99.13411712646484\n",
      "Dice Score: 0.5244234204292297\n",
      "IOU: 0.36951887607574463\n",
      "Loss: 0.7999447171504681\n",
      "Correct Pixel: 11420250\n",
      "Total Pixel: 11520000\n",
      "~~~~~~~~~~~~~~~~~end epoch\n",
      "In Train\n",
      "length of loader 39\n"
     ]
    },
    {
     "name": "stderr",
     "output_type": "stream",
     "text": [
      "100%|██████████████████████████████████████████████████████████████████████| 39/39 [00:14<00:00,  2.61it/s, loss=0.301]\n"
     ]
    },
    {
     "name": "stdout",
     "output_type": "stream",
     "text": [
      "Out of Train\n",
      "=> Saving checkpoint\n",
      "~~~~ In test ~~~~\n",
      "Loss = 0.8016506112538851\n",
      "IoU Score = 0.5118446350097656\n",
      "Dice Score = 0.6640598773956299\n",
      "~~~~~ Out of test ~~~~~\n",
      "~~~~~epoch => 62\n",
      "Accuracy: 99.26692199707031\n",
      "Dice Score: 0.6640598773956299\n",
      "IOU: 0.5118446350097656\n",
      "Loss: 0.8016506112538851\n",
      "Correct Pixel: 11435549\n",
      "Total Pixel: 11520000\n",
      "~~~~~~~~~~~~~~~~~end epoch\n",
      "In Train\n",
      "length of loader 39\n"
     ]
    },
    {
     "name": "stderr",
     "output_type": "stream",
     "text": [
      "100%|██████████████████████████████████████████████████████████████████████| 39/39 [00:14<00:00,  2.60it/s, loss=0.245]\n"
     ]
    },
    {
     "name": "stdout",
     "output_type": "stream",
     "text": [
      "Out of Train\n",
      "=> Saving checkpoint\n",
      "~~~~ In test ~~~~\n",
      "Loss = 0.7996376156806946\n",
      "IoU Score = 0.4222429394721985\n",
      "Dice Score = 0.5788378119468689\n",
      "~~~~~ Out of test ~~~~~\n",
      "~~~~~epoch => 63\n",
      "Accuracy: 99.18441009521484\n",
      "Dice Score: 0.5788378119468689\n",
      "IOU: 0.4222429394721985\n",
      "Loss: 0.7996376156806946\n",
      "Correct Pixel: 11426044\n",
      "Total Pixel: 11520000\n",
      "~~~~~~~~~~~~~~~~~end epoch\n",
      "In Train\n",
      "length of loader 39\n"
     ]
    },
    {
     "name": "stderr",
     "output_type": "stream",
     "text": [
      "100%|██████████████████████████████████████████████████████████████████████| 39/39 [00:14<00:00,  2.61it/s, loss=0.272]\n"
     ]
    },
    {
     "name": "stdout",
     "output_type": "stream",
     "text": [
      "Out of Train\n",
      "=> Saving checkpoint\n",
      "~~~~ In test ~~~~\n",
      "Loss = 0.7978989160977877\n",
      "IoU Score = 0.3409962058067322\n",
      "Dice Score = 0.49514681100845337\n",
      "~~~~~ Out of test ~~~~~\n",
      "~~~~~epoch => 64\n",
      "Accuracy: 99.09375\n",
      "Dice Score: 0.49514681100845337\n",
      "IOU: 0.3409962058067322\n",
      "Loss: 0.7978989160977877\n",
      "Correct Pixel: 11415600\n",
      "Total Pixel: 11520000\n",
      "~~~~~~~~~~~~~~~~~end epoch\n",
      "In Train\n",
      "length of loader 39\n"
     ]
    },
    {
     "name": "stderr",
     "output_type": "stream",
     "text": [
      "100%|██████████████████████████████████████████████████████████████████████| 39/39 [00:14<00:00,  2.60it/s, loss=0.256]\n"
     ]
    },
    {
     "name": "stdout",
     "output_type": "stream",
     "text": [
      "Out of Train\n",
      "=> Saving checkpoint\n",
      "~~~~ In test ~~~~\n",
      "Loss = 0.7974091034669143\n",
      "IoU Score = 0.43836137652397156\n",
      "Dice Score = 0.5949228405952454\n",
      "~~~~~ Out of test ~~~~~\n",
      "~~~~~epoch => 65\n",
      "Accuracy: 99.21424102783203\n",
      "Dice Score: 0.5949228405952454\n",
      "IOU: 0.43836137652397156\n",
      "Loss: 0.7974091034669143\n",
      "Correct Pixel: 11429481\n",
      "Total Pixel: 11520000\n",
      "~~~~~~~~~~~~~~~~~end epoch\n",
      "In Train\n",
      "length of loader 39\n"
     ]
    },
    {
     "name": "stderr",
     "output_type": "stream",
     "text": [
      "100%|██████████████████████████████████████████████████████████████████████| 39/39 [00:14<00:00,  2.61it/s, loss=0.244]\n"
     ]
    },
    {
     "name": "stdout",
     "output_type": "stream",
     "text": [
      "Out of Train\n",
      "=> Saving checkpoint\n",
      "~~~~ In test ~~~~\n",
      "Loss = 0.7968990848614619\n",
      "IoU Score = 0.4015483558177948\n",
      "Dice Score = 0.5580312609672546\n",
      "~~~~~ Out of test ~~~~~\n",
      "~~~~~epoch => 66\n",
      "Accuracy: 99.16301727294922\n",
      "Dice Score: 0.5580312609672546\n",
      "IOU: 0.4015483558177948\n",
      "Loss: 0.7968990848614619\n",
      "Correct Pixel: 11423580\n",
      "Total Pixel: 11520000\n",
      "~~~~~~~~~~~~~~~~~end epoch\n",
      "In Train\n",
      "length of loader 39\n"
     ]
    },
    {
     "name": "stderr",
     "output_type": "stream",
     "text": [
      "100%|██████████████████████████████████████████████████████████████████████| 39/39 [00:14<00:00,  2.61it/s, loss=0.243]\n"
     ]
    },
    {
     "name": "stdout",
     "output_type": "stream",
     "text": [
      "Out of Train\n",
      "=> Saving checkpoint\n",
      "~~~~ In test ~~~~\n",
      "Loss = 0.7963538674207834\n",
      "IoU Score = 0.5534162521362305\n",
      "Dice Score = 0.7009270191192627\n",
      "~~~~~ Out of test ~~~~~\n",
      "~~~~~epoch => 67\n",
      "Accuracy: 99.32963562011719\n",
      "Dice Score: 0.7009270191192627\n",
      "IOU: 0.5534162521362305\n",
      "Loss: 0.7963538674207834\n",
      "Correct Pixel: 11442774\n",
      "Total Pixel: 11520000\n",
      "~~~~~~~~~~~~~~~~~end epoch\n",
      "In Train\n",
      "length of loader 39\n"
     ]
    },
    {
     "name": "stderr",
     "output_type": "stream",
     "text": [
      "100%|██████████████████████████████████████████████████████████████████████| 39/39 [00:14<00:00,  2.62it/s, loss=0.241]\n"
     ]
    },
    {
     "name": "stdout",
     "output_type": "stream",
     "text": [
      "Out of Train\n",
      "=> Saving checkpoint\n",
      "~~~~ In test ~~~~\n",
      "Loss = 0.795506802889017\n",
      "IoU Score = 0.46675294637680054\n",
      "Dice Score = 0.6232391595840454\n",
      "~~~~~ Out of test ~~~~~\n",
      "~~~~~epoch => 68\n",
      "Accuracy: 99.24345397949219\n",
      "Dice Score: 0.6232391595840454\n",
      "IOU: 0.46675294637680054\n",
      "Loss: 0.795506802889017\n",
      "Correct Pixel: 11432845\n",
      "Total Pixel: 11520000\n",
      "~~~~~~~~~~~~~~~~~end epoch\n",
      "In Train\n",
      "length of loader 39\n"
     ]
    },
    {
     "name": "stderr",
     "output_type": "stream",
     "text": [
      "100%|██████████████████████████████████████████████████████████████████████| 39/39 [00:14<00:00,  2.61it/s, loss=0.236]\n"
     ]
    },
    {
     "name": "stdout",
     "output_type": "stream",
     "text": [
      "Out of Train\n",
      "=> Saving checkpoint\n",
      "~~~~ In test ~~~~\n",
      "Loss = 0.7951044807067285\n",
      "IoU Score = 0.49494943022727966\n",
      "Dice Score = 0.6504532694816589\n",
      "~~~~~ Out of test ~~~~~\n",
      "~~~~~epoch => 69\n",
      "Accuracy: 99.26864624023438\n",
      "Dice Score: 0.6504532694816589\n",
      "IOU: 0.49494943022727966\n",
      "Loss: 0.7951044807067285\n",
      "Correct Pixel: 11435748\n",
      "Total Pixel: 11520000\n",
      "~~~~~~~~~~~~~~~~~end epoch\n",
      "In Train\n",
      "length of loader 39\n"
     ]
    },
    {
     "name": "stderr",
     "output_type": "stream",
     "text": [
      "100%|██████████████████████████████████████████████████████████████████████| 39/39 [00:14<00:00,  2.62it/s, loss=0.238]\n"
     ]
    },
    {
     "name": "stdout",
     "output_type": "stream",
     "text": [
      "Out of Train\n",
      "=> Saving checkpoint\n",
      "~~~~ In test ~~~~\n",
      "Loss = 0.7942529137317951\n",
      "IoU Score = 0.44392791390419006\n",
      "Dice Score = 0.6029710173606873\n",
      "~~~~~ Out of test ~~~~~\n",
      "~~~~~epoch => 70\n",
      "Accuracy: 99.21255493164062\n",
      "Dice Score: 0.6029710173606873\n",
      "IOU: 0.44392791390419006\n",
      "Loss: 0.7942529137317951\n",
      "Correct Pixel: 11429286\n",
      "Total Pixel: 11520000\n",
      "~~~~~~~~~~~~~~~~~end epoch\n",
      "In Train\n",
      "length of loader 39\n"
     ]
    },
    {
     "name": "stderr",
     "output_type": "stream",
     "text": [
      "100%|███████████████████████████████████████████████████████████████████████| 39/39 [00:14<00:00,  2.62it/s, loss=0.32]\n"
     ]
    },
    {
     "name": "stdout",
     "output_type": "stream",
     "text": [
      "Out of Train\n",
      "=> Saving checkpoint\n",
      "~~~~ In test ~~~~\n",
      "Loss = 0.7958145095751836\n",
      "IoU Score = 0.5816827416419983\n",
      "Dice Score = 0.7255685925483704\n",
      "~~~~~ Out of test ~~~~~\n",
      "~~~~~epoch => 71\n",
      "Accuracy: 99.35572052001953\n",
      "Dice Score: 0.7255685925483704\n",
      "IOU: 0.5816827416419983\n",
      "Loss: 0.7958145095751836\n",
      "Correct Pixel: 11445779\n",
      "Total Pixel: 11520000\n",
      "~~~~~~~~~~~~~~~~~end epoch\n",
      "In Train\n",
      "length of loader 39\n"
     ]
    },
    {
     "name": "stderr",
     "output_type": "stream",
     "text": [
      "100%|███████████████████████████████████████████████████████████████████████| 39/39 [00:14<00:00,  2.61it/s, loss=0.23]\n"
     ]
    },
    {
     "name": "stdout",
     "output_type": "stream",
     "text": [
      "Out of Train\n",
      "=> Saving checkpoint\n",
      "~~~~ In test ~~~~\n",
      "Loss = 0.793165766275846\n",
      "IoU Score = 0.46356531977653503\n",
      "Dice Score = 0.6223961710929871\n",
      "~~~~~ Out of test ~~~~~\n",
      "~~~~~epoch => 72\n",
      "Accuracy: 99.2394790649414\n",
      "Dice Score: 0.6223961710929871\n",
      "IOU: 0.46356531977653503\n",
      "Loss: 0.793165766275846\n",
      "Correct Pixel: 11432388\n",
      "Total Pixel: 11520000\n",
      "~~~~~~~~~~~~~~~~~end epoch\n",
      "In Train\n",
      "length of loader 39\n"
     ]
    },
    {
     "name": "stderr",
     "output_type": "stream",
     "text": [
      "100%|██████████████████████████████████████████████████████████████████████| 39/39 [00:14<00:00,  2.60it/s, loss=0.292]\n"
     ]
    },
    {
     "name": "stdout",
     "output_type": "stream",
     "text": [
      "Out of Train\n",
      "=> Saving checkpoint\n",
      "~~~~ In test ~~~~\n",
      "Loss = 0.7939584117669326\n",
      "IoU Score = 0.477446973323822\n",
      "Dice Score = 0.6339647769927979\n",
      "~~~~~ Out of test ~~~~~\n",
      "~~~~~epoch => 73\n",
      "Accuracy: 99.25332641601562\n",
      "Dice Score: 0.6339647769927979\n",
      "IOU: 0.477446973323822\n",
      "Loss: 0.7939584117669326\n",
      "Correct Pixel: 11433983\n",
      "Total Pixel: 11520000\n",
      "~~~~~~~~~~~~~~~~~end epoch\n",
      "In Train\n",
      "length of loader 39\n"
     ]
    },
    {
     "name": "stderr",
     "output_type": "stream",
     "text": [
      "100%|██████████████████████████████████████████████████████████████████████| 39/39 [00:14<00:00,  2.61it/s, loss=0.233]\n"
     ]
    },
    {
     "name": "stdout",
     "output_type": "stream",
     "text": [
      "Out of Train\n",
      "=> Saving checkpoint\n",
      "~~~~ In test ~~~~\n",
      "Loss = 0.7925148056103632\n",
      "IoU Score = 0.4575352072715759\n",
      "Dice Score = 0.6096016764640808\n",
      "~~~~~ Out of test ~~~~~\n",
      "~~~~~epoch => 74\n",
      "Accuracy: 99.23312377929688\n",
      "Dice Score: 0.6096016764640808\n",
      "IOU: 0.4575352072715759\n",
      "Loss: 0.7925148056103632\n",
      "Correct Pixel: 11431656\n",
      "Total Pixel: 11520000\n",
      "~~~~~~~~~~~~~~~~~end epoch\n",
      "In Train\n",
      "length of loader 39\n"
     ]
    },
    {
     "name": "stderr",
     "output_type": "stream",
     "text": [
      "100%|██████████████████████████████████████████████████████████████████████| 39/39 [00:14<00:00,  2.62it/s, loss=0.225]\n"
     ]
    },
    {
     "name": "stdout",
     "output_type": "stream",
     "text": [
      "Out of Train\n",
      "=> Saving checkpoint\n",
      "~~~~ In test ~~~~\n",
      "Loss = 0.7900164677546575\n",
      "IoU Score = 0.4698852598667145\n",
      "Dice Score = 0.6245223879814148\n",
      "~~~~~ Out of test ~~~~~\n",
      "~~~~~epoch => 75\n",
      "Accuracy: 99.25717163085938\n",
      "Dice Score: 0.6245223879814148\n",
      "IOU: 0.4698852598667145\n",
      "Loss: 0.7900164677546575\n",
      "Correct Pixel: 11434426\n",
      "Total Pixel: 11520000\n",
      "~~~~~~~~~~~~~~~~~end epoch\n",
      "In Train\n",
      "length of loader 39\n"
     ]
    },
    {
     "name": "stderr",
     "output_type": "stream",
     "text": [
      "100%|██████████████████████████████████████████████████████████████████████| 39/39 [00:14<00:00,  2.62it/s, loss=0.225]\n"
     ]
    },
    {
     "name": "stdout",
     "output_type": "stream",
     "text": [
      "Out of Train\n",
      "=> Saving checkpoint\n",
      "~~~~ In test ~~~~\n",
      "Loss = 0.7897463807692895\n",
      "IoU Score = 0.45460912585258484\n",
      "Dice Score = 0.6104698181152344\n",
      "~~~~~ Out of test ~~~~~\n",
      "~~~~~epoch => 76\n",
      "Accuracy: 99.24137115478516\n",
      "Dice Score: 0.6104698181152344\n",
      "IOU: 0.45460912585258484\n",
      "Loss: 0.7897463807692895\n",
      "Correct Pixel: 11432606\n",
      "Total Pixel: 11520000\n",
      "~~~~~~~~~~~~~~~~~end epoch\n",
      "In Train\n",
      "length of loader 39\n"
     ]
    },
    {
     "name": "stderr",
     "output_type": "stream",
     "text": [
      "100%|██████████████████████████████████████████████████████████████████████| 39/39 [00:14<00:00,  2.62it/s, loss=0.224]\n"
     ]
    },
    {
     "name": "stdout",
     "output_type": "stream",
     "text": [
      "Out of Train\n",
      "=> Saving checkpoint\n",
      "~~~~ In test ~~~~\n",
      "Loss = 0.7888619074454675\n",
      "IoU Score = 0.38262102007865906\n",
      "Dice Score = 0.5394880175590515\n",
      "~~~~~ Out of test ~~~~~\n",
      "~~~~~epoch => 77\n",
      "Accuracy: 99.15342712402344\n",
      "Dice Score: 0.5394880175590515\n",
      "IOU: 0.38262102007865906\n",
      "Loss: 0.7888619074454675\n",
      "Correct Pixel: 11422474\n",
      "Total Pixel: 11520000\n",
      "~~~~~~~~~~~~~~~~~end epoch\n",
      "In Train\n",
      "length of loader 39\n"
     ]
    },
    {
     "name": "stderr",
     "output_type": "stream",
     "text": [
      "100%|██████████████████████████████████████████████████████████████████████| 39/39 [00:14<00:00,  2.61it/s, loss=0.222]\n"
     ]
    },
    {
     "name": "stdout",
     "output_type": "stream",
     "text": [
      "Out of Train\n",
      "=> Saving checkpoint\n",
      "~~~~ In test ~~~~\n",
      "Loss = 0.7886607142595145\n",
      "IoU Score = 0.5373570322990417\n",
      "Dice Score = 0.6862156987190247\n",
      "~~~~~ Out of test ~~~~~\n",
      "~~~~~epoch => 78\n",
      "Accuracy: 99.33160400390625\n",
      "Dice Score: 0.6862156987190247\n",
      "IOU: 0.5373570322990417\n",
      "Loss: 0.7886607142595145\n",
      "Correct Pixel: 11443001\n",
      "Total Pixel: 11520000\n",
      "~~~~~~~~~~~~~~~~~end epoch\n",
      "In Train\n",
      "length of loader 39\n"
     ]
    },
    {
     "name": "stderr",
     "output_type": "stream",
     "text": [
      "100%|██████████████████████████████████████████████████████████████████████| 39/39 [00:14<00:00,  2.62it/s, loss=0.218]\n"
     ]
    },
    {
     "name": "stdout",
     "output_type": "stream",
     "text": [
      "Out of Train\n",
      "=> Saving checkpoint\n",
      "~~~~ In test ~~~~\n",
      "Loss = 0.788110980620751\n",
      "IoU Score = 0.5067360401153564\n",
      "Dice Score = 0.6584821343421936\n",
      "~~~~~ Out of test ~~~~~\n",
      "~~~~~epoch => 79\n",
      "Accuracy: 99.30012512207031\n",
      "Dice Score: 0.6584821343421936\n",
      "IOU: 0.5067360401153564\n",
      "Loss: 0.788110980620751\n",
      "Correct Pixel: 11439374\n",
      "Total Pixel: 11520000\n",
      "~~~~~~~~~~~~~~~~~end epoch\n",
      "In Train\n",
      "length of loader 39\n"
     ]
    },
    {
     "name": "stderr",
     "output_type": "stream",
     "text": [
      "100%|███████████████████████████████████████████████████████████████████████| 39/39 [00:14<00:00,  2.62it/s, loss=0.22]\n"
     ]
    },
    {
     "name": "stdout",
     "output_type": "stream",
     "text": [
      "Out of Train\n",
      "=> Saving checkpoint\n",
      "~~~~ In test ~~~~\n",
      "Loss = 0.7877496618490952\n",
      "IoU Score = 0.4849400222301483\n",
      "Dice Score = 0.6407532095909119\n",
      "~~~~~ Out of test ~~~~~\n",
      "~~~~~epoch => 80\n",
      "Accuracy: 99.27179718017578\n",
      "Dice Score: 0.6407532095909119\n",
      "IOU: 0.4849400222301483\n",
      "Loss: 0.7877496618490952\n",
      "Correct Pixel: 11436111\n",
      "Total Pixel: 11520000\n",
      "~~~~~~~~~~~~~~~~~end epoch\n",
      "In Train\n",
      "length of loader 39\n"
     ]
    },
    {
     "name": "stderr",
     "output_type": "stream",
     "text": [
      "100%|██████████████████████████████████████████████████████████████████████| 39/39 [00:14<00:00,  2.62it/s, loss=0.289]\n"
     ]
    },
    {
     "name": "stdout",
     "output_type": "stream",
     "text": [
      "Out of Train\n",
      "=> Saving checkpoint\n",
      "~~~~ In test ~~~~\n",
      "Loss = 0.7873273079211895\n",
      "IoU Score = 0.4361640214920044\n",
      "Dice Score = 0.5881974697113037\n",
      "~~~~~ Out of test ~~~~~\n",
      "~~~~~epoch => 81\n",
      "Accuracy: 99.22551727294922\n",
      "Dice Score: 0.5881974697113037\n",
      "IOU: 0.4361640214920044\n",
      "Loss: 0.7873273079211895\n",
      "Correct Pixel: 11430779\n",
      "Total Pixel: 11520000\n",
      "~~~~~~~~~~~~~~~~~end epoch\n",
      "In Train\n",
      "length of loader 39\n"
     ]
    },
    {
     "name": "stderr",
     "output_type": "stream",
     "text": [
      "100%|██████████████████████████████████████████████████████████████████████| 39/39 [00:14<00:00,  2.62it/s, loss=0.218]\n"
     ]
    },
    {
     "name": "stdout",
     "output_type": "stream",
     "text": [
      "Out of Train\n",
      "=> Saving checkpoint\n",
      "~~~~ In test ~~~~\n",
      "Loss = 0.7865303525557885\n",
      "IoU Score = 0.5846577286720276\n",
      "Dice Score = 0.7281344532966614\n",
      "~~~~~ Out of test ~~~~~\n",
      "~~~~~epoch => 82\n",
      "Accuracy: 99.36443328857422\n",
      "Dice Score: 0.7281344532966614\n",
      "IOU: 0.5846577286720276\n",
      "Loss: 0.7865303525557885\n",
      "Correct Pixel: 11446782\n",
      "Total Pixel: 11520000\n",
      "~~~~~~~~~~~~~~~~~end epoch\n",
      "In Train\n",
      "length of loader 39\n"
     ]
    },
    {
     "name": "stderr",
     "output_type": "stream",
     "text": [
      "100%|██████████████████████████████████████████████████████████████████████| 39/39 [00:14<00:00,  2.64it/s, loss=0.224]\n"
     ]
    },
    {
     "name": "stdout",
     "output_type": "stream",
     "text": [
      "Out of Train\n",
      "=> Saving checkpoint\n",
      "~~~~ In test ~~~~\n",
      "Loss = 0.786244089786823\n",
      "IoU Score = 0.5687387585639954\n",
      "Dice Score = 0.7148587703704834\n",
      "~~~~~ Out of test ~~~~~\n",
      "~~~~~epoch => 83\n",
      "Accuracy: 99.3660888671875\n",
      "Dice Score: 0.7148587703704834\n",
      "IOU: 0.5687387585639954\n",
      "Loss: 0.786244089786823\n",
      "Correct Pixel: 11446973\n",
      "Total Pixel: 11520000\n",
      "~~~~~~~~~~~~~~~~~end epoch\n",
      "In Train\n",
      "length of loader 39\n"
     ]
    },
    {
     "name": "stderr",
     "output_type": "stream",
     "text": [
      "100%|██████████████████████████████████████████████████████████████████████| 39/39 [00:14<00:00,  2.64it/s, loss=0.211]\n"
     ]
    },
    {
     "name": "stdout",
     "output_type": "stream",
     "text": [
      "Out of Train\n",
      "=> Saving checkpoint\n",
      "~~~~ In test ~~~~\n",
      "Loss = 0.7853386356280401\n",
      "IoU Score = 0.5980047583580017\n",
      "Dice Score = 0.7398009300231934\n",
      "~~~~~ Out of test ~~~~~\n",
      "~~~~~epoch => 84\n",
      "Accuracy: 99.38273620605469\n",
      "Dice Score: 0.7398009300231934\n",
      "IOU: 0.5980047583580017\n",
      "Loss: 0.7853386356280401\n",
      "Correct Pixel: 11448891\n",
      "Total Pixel: 11520000\n",
      "~~~~~~~~~~~~~~~~~end epoch\n",
      "In Train\n",
      "length of loader 39\n"
     ]
    },
    {
     "name": "stderr",
     "output_type": "stream",
     "text": [
      "100%|██████████████████████████████████████████████████████████████████████| 39/39 [00:14<00:00,  2.64it/s, loss=0.216]\n"
     ]
    },
    {
     "name": "stdout",
     "output_type": "stream",
     "text": [
      "Out of Train\n",
      "=> Saving checkpoint\n",
      "~~~~ In test ~~~~\n",
      "Loss = 0.7847356200218201\n",
      "IoU Score = 0.5891851782798767\n",
      "Dice Score = 0.7318914532661438\n",
      "~~~~~ Out of test ~~~~~\n",
      "~~~~~epoch => 85\n",
      "Accuracy: 99.37747955322266\n",
      "Dice Score: 0.7318914532661438\n",
      "IOU: 0.5891851782798767\n",
      "Loss: 0.7847356200218201\n",
      "Correct Pixel: 11448285\n",
      "Total Pixel: 11520000\n",
      "~~~~~~~~~~~~~~~~~end epoch\n",
      "In Train\n",
      "length of loader 39\n"
     ]
    },
    {
     "name": "stderr",
     "output_type": "stream",
     "text": [
      "100%|██████████████████████████████████████████████████████████████████████| 39/39 [00:14<00:00,  2.64it/s, loss=0.213]\n"
     ]
    },
    {
     "name": "stdout",
     "output_type": "stream",
     "text": [
      "Out of Train\n",
      "=> Saving checkpoint\n",
      "~~~~ In test ~~~~\n",
      "Loss = 0.7842181875155523\n",
      "IoU Score = 0.5215257406234741\n",
      "Dice Score = 0.6736115217208862\n",
      "~~~~~ Out of test ~~~~~\n",
      "~~~~~epoch => 86\n",
      "Accuracy: 99.31916809082031\n",
      "Dice Score: 0.6736115217208862\n",
      "IOU: 0.5215257406234741\n",
      "Loss: 0.7842181875155523\n",
      "Correct Pixel: 11441568\n",
      "Total Pixel: 11520000\n",
      "~~~~~~~~~~~~~~~~~end epoch\n",
      "In Train\n",
      "length of loader 39\n"
     ]
    },
    {
     "name": "stderr",
     "output_type": "stream",
     "text": [
      "100%|██████████████████████████████████████████████████████████████████████| 39/39 [00:15<00:00,  2.49it/s, loss=0.218]\n"
     ]
    },
    {
     "name": "stdout",
     "output_type": "stream",
     "text": [
      "Out of Train\n",
      "=> Saving checkpoint\n",
      "~~~~ In test ~~~~\n",
      "Loss = 0.7835467778719388\n",
      "IoU Score = 0.5217424631118774\n",
      "Dice Score = 0.6768388748168945\n",
      "~~~~~ Out of test ~~~~~\n",
      "~~~~~epoch => 87\n",
      "Accuracy: 99.30132293701172\n",
      "Dice Score: 0.6768388748168945\n",
      "IOU: 0.5217424631118774\n",
      "Loss: 0.7835467778719388\n",
      "Correct Pixel: 11439513\n",
      "Total Pixel: 11520000\n",
      "~~~~~~~~~~~~~~~~~end epoch\n",
      "In Train\n",
      "length of loader 39\n"
     ]
    },
    {
     "name": "stderr",
     "output_type": "stream",
     "text": [
      "100%|██████████████████████████████████████████████████████████████████████| 39/39 [00:15<00:00,  2.48it/s, loss=0.224]\n"
     ]
    },
    {
     "name": "stdout",
     "output_type": "stream",
     "text": [
      "Out of Train\n",
      "=> Saving checkpoint\n",
      "~~~~ In test ~~~~\n",
      "Loss = 0.7830202075151297\n",
      "IoU Score = 0.5904374122619629\n",
      "Dice Score = 0.7347531318664551\n",
      "~~~~~ Out of test ~~~~~\n",
      "~~~~~epoch => 88\n",
      "Accuracy: 99.3758316040039\n",
      "Dice Score: 0.7347531318664551\n",
      "IOU: 0.5904374122619629\n",
      "Loss: 0.7830202075151297\n",
      "Correct Pixel: 11448096\n",
      "Total Pixel: 11520000\n",
      "~~~~~~~~~~~~~~~~~end epoch\n",
      "In Train\n",
      "length of loader 39\n"
     ]
    },
    {
     "name": "stderr",
     "output_type": "stream",
     "text": [
      "100%|██████████████████████████████████████████████████████████████████████| 39/39 [00:15<00:00,  2.50it/s, loss=0.225]\n"
     ]
    },
    {
     "name": "stdout",
     "output_type": "stream",
     "text": [
      "Out of Train\n",
      "=> Saving checkpoint\n",
      "~~~~ In test ~~~~\n",
      "Loss = 0.7836497517732474\n",
      "IoU Score = 0.540218710899353\n",
      "Dice Score = 0.691426157951355\n",
      "~~~~~ Out of test ~~~~~\n",
      "~~~~~epoch => 89\n",
      "Accuracy: 99.32300567626953\n",
      "Dice Score: 0.691426157951355\n",
      "IOU: 0.540218710899353\n",
      "Loss: 0.7836497517732474\n",
      "Correct Pixel: 11442010\n",
      "Total Pixel: 11520000\n",
      "~~~~~~~~~~~~~~~~~end epoch\n",
      "In Train\n",
      "length of loader 39\n"
     ]
    },
    {
     "name": "stderr",
     "output_type": "stream",
     "text": [
      "100%|██████████████████████████████████████████████████████████████████████| 39/39 [00:15<00:00,  2.46it/s, loss=0.206]\n"
     ]
    },
    {
     "name": "stdout",
     "output_type": "stream",
     "text": [
      "Out of Train\n",
      "=> Saving checkpoint\n",
      "~~~~ In test ~~~~\n",
      "Loss = 0.7821777967306284\n",
      "IoU Score = 0.4287835657596588\n",
      "Dice Score = 0.5853028297424316\n",
      "~~~~~ Out of test ~~~~~\n",
      "~~~~~epoch => 90\n",
      "Accuracy: 99.18775939941406\n",
      "Dice Score: 0.5853028297424316\n",
      "IOU: 0.4287835657596588\n",
      "Loss: 0.7821777967306284\n",
      "Correct Pixel: 11426430\n",
      "Total Pixel: 11520000\n",
      "~~~~~~~~~~~~~~~~~end epoch\n",
      "In Train\n",
      "length of loader 39\n"
     ]
    },
    {
     "name": "stderr",
     "output_type": "stream",
     "text": [
      "100%|██████████████████████████████████████████████████████████████████████| 39/39 [00:15<00:00,  2.51it/s, loss=0.206]\n"
     ]
    },
    {
     "name": "stdout",
     "output_type": "stream",
     "text": [
      "Out of Train\n",
      "=> Saving checkpoint\n",
      "~~~~ In test ~~~~\n",
      "Loss = 0.7809755710455087\n",
      "IoU Score = 0.49886396527290344\n",
      "Dice Score = 0.6510180234909058\n",
      "~~~~~ Out of test ~~~~~\n",
      "~~~~~epoch => 91\n",
      "Accuracy: 99.2916030883789\n",
      "Dice Score: 0.6510180234909058\n",
      "IOU: 0.49886396527290344\n",
      "Loss: 0.7809755710455087\n",
      "Correct Pixel: 11438393\n",
      "Total Pixel: 11520000\n",
      "~~~~~~~~~~~~~~~~~end epoch\n",
      "In Train\n",
      "length of loader 39\n"
     ]
    },
    {
     "name": "stderr",
     "output_type": "stream",
     "text": [
      "100%|████████████████████████████████████████████████████████████████████████| 39/39 [00:15<00:00,  2.50it/s, loss=0.2]\n"
     ]
    },
    {
     "name": "stdout",
     "output_type": "stream",
     "text": [
      "Out of Train\n",
      "=> Saving checkpoint\n",
      "~~~~ In test ~~~~\n",
      "Loss = 0.7810014302913959\n",
      "IoU Score = 0.5378590226173401\n",
      "Dice Score = 0.6876382231712341\n",
      "~~~~~ Out of test ~~~~~\n",
      "~~~~~epoch => 92\n",
      "Accuracy: 99.33599853515625\n",
      "Dice Score: 0.6876382231712341\n",
      "IOU: 0.5378590226173401\n",
      "Loss: 0.7810014302913959\n",
      "Correct Pixel: 11443507\n",
      "Total Pixel: 11520000\n",
      "~~~~~~~~~~~~~~~~~end epoch\n",
      "In Train\n",
      "length of loader 39\n"
     ]
    },
    {
     "name": "stderr",
     "output_type": "stream",
     "text": [
      "100%|██████████████████████████████████████████████████████████████████████| 39/39 [00:15<00:00,  2.55it/s, loss=0.213]\n"
     ]
    },
    {
     "name": "stdout",
     "output_type": "stream",
     "text": [
      "Out of Train\n",
      "=> Saving checkpoint\n",
      "~~~~ In test ~~~~\n",
      "Loss = 0.7802565464606652\n",
      "IoU Score = 0.5618486404418945\n",
      "Dice Score = 0.7095387578010559\n",
      "~~~~~ Out of test ~~~~~\n",
      "~~~~~epoch => 93\n",
      "Accuracy: 99.34010314941406\n",
      "Dice Score: 0.7095387578010559\n",
      "IOU: 0.5618486404418945\n",
      "Loss: 0.7802565464606652\n",
      "Correct Pixel: 11443980\n",
      "Total Pixel: 11520000\n",
      "~~~~~~~~~~~~~~~~~end epoch\n",
      "In Train\n",
      "length of loader 39\n"
     ]
    },
    {
     "name": "stderr",
     "output_type": "stream",
     "text": [
      "100%|██████████████████████████████████████████████████████████████████████| 39/39 [00:15<00:00,  2.54it/s, loss=0.213]\n"
     ]
    },
    {
     "name": "stdout",
     "output_type": "stream",
     "text": [
      "Out of Train\n",
      "=> Saving checkpoint\n",
      "~~~~ In test ~~~~\n",
      "Loss = 0.78144770860672\n",
      "IoU Score = 0.6093347668647766\n",
      "Dice Score = 0.7503278255462646\n",
      "~~~~~ Out of test ~~~~~\n",
      "~~~~~epoch => 94\n",
      "Accuracy: 99.3763656616211\n",
      "Dice Score: 0.7503278255462646\n",
      "IOU: 0.6093347668647766\n",
      "Loss: 0.78144770860672\n",
      "Correct Pixel: 11448157\n",
      "Total Pixel: 11520000\n",
      "~~~~~~~~~~~~~~~~~end epoch\n",
      "In Train\n",
      "length of loader 39\n"
     ]
    },
    {
     "name": "stderr",
     "output_type": "stream",
     "text": [
      "100%|██████████████████████████████████████████████████████████████████████| 39/39 [00:15<00:00,  2.55it/s, loss=0.205]\n"
     ]
    },
    {
     "name": "stdout",
     "output_type": "stream",
     "text": [
      "Out of Train\n",
      "=> Saving checkpoint\n",
      "~~~~ In test ~~~~\n",
      "Loss = 0.779236784348121\n",
      "IoU Score = 0.5195128917694092\n",
      "Dice Score = 0.6679067015647888\n",
      "~~~~~ Out of test ~~~~~\n",
      "~~~~~epoch => 95\n",
      "Accuracy: 99.32477569580078\n",
      "Dice Score: 0.6679067015647888\n",
      "IOU: 0.5195128917694092\n",
      "Loss: 0.779236784348121\n",
      "Correct Pixel: 11442214\n",
      "Total Pixel: 11520000\n",
      "~~~~~~~~~~~~~~~~~end epoch\n",
      "In Train\n",
      "length of loader 39\n"
     ]
    },
    {
     "name": "stderr",
     "output_type": "stream",
     "text": [
      "100%|██████████████████████████████████████████████████████████████████████| 39/39 [00:15<00:00,  2.56it/s, loss=0.204]\n"
     ]
    },
    {
     "name": "stdout",
     "output_type": "stream",
     "text": [
      "Out of Train\n",
      "=> Saving checkpoint\n",
      "~~~~ In test ~~~~\n",
      "Loss = 0.7784615113185003\n",
      "IoU Score = 0.4676963686943054\n",
      "Dice Score = 0.618765652179718\n",
      "~~~~~ Out of test ~~~~~\n",
      "~~~~~epoch => 96\n",
      "Accuracy: 99.26921844482422\n",
      "Dice Score: 0.618765652179718\n",
      "IOU: 0.4676963686943054\n",
      "Loss: 0.7784615113185003\n",
      "Correct Pixel: 11435814\n",
      "Total Pixel: 11520000\n",
      "~~~~~~~~~~~~~~~~~end epoch\n",
      "In Train\n",
      "length of loader 39\n"
     ]
    },
    {
     "name": "stderr",
     "output_type": "stream",
     "text": [
      "100%|██████████████████████████████████████████████████████████████████████| 39/39 [00:15<00:00,  2.55it/s, loss=0.202]\n"
     ]
    },
    {
     "name": "stdout",
     "output_type": "stream",
     "text": [
      "Out of Train\n",
      "=> Saving checkpoint\n",
      "~~~~ In test ~~~~\n",
      "Loss = 0.777865822498615\n",
      "IoU Score = 0.5559732913970947\n",
      "Dice Score = 0.7019745111465454\n",
      "~~~~~ Out of test ~~~~~\n",
      "~~~~~epoch => 97\n",
      "Accuracy: 99.34355926513672\n",
      "Dice Score: 0.7019745111465454\n",
      "IOU: 0.5559732913970947\n",
      "Loss: 0.777865822498615\n",
      "Correct Pixel: 11444378\n",
      "Total Pixel: 11520000\n",
      "~~~~~~~~~~~~~~~~~end epoch\n",
      "In Train\n",
      "length of loader 39\n"
     ]
    },
    {
     "name": "stderr",
     "output_type": "stream",
     "text": [
      "100%|██████████████████████████████████████████████████████████████████████| 39/39 [00:15<00:00,  2.55it/s, loss=0.212]\n"
     ]
    },
    {
     "name": "stdout",
     "output_type": "stream",
     "text": [
      "Out of Train\n",
      "=> Saving checkpoint\n",
      "~~~~ In test ~~~~\n",
      "Loss = 0.7771363716859084\n",
      "IoU Score = 0.5396038293838501\n",
      "Dice Score = 0.6887704730033875\n",
      "~~~~~ Out of test ~~~~~\n",
      "~~~~~epoch => 98\n",
      "Accuracy: 99.32467651367188\n",
      "Dice Score: 0.6887704730033875\n",
      "IOU: 0.5396038293838501\n",
      "Loss: 0.7771363716859084\n",
      "Correct Pixel: 11442202\n",
      "Total Pixel: 11520000\n",
      "~~~~~~~~~~~~~~~~~end epoch\n",
      "In Train\n",
      "length of loader 39\n"
     ]
    },
    {
     "name": "stderr",
     "output_type": "stream",
     "text": [
      "100%|██████████████████████████████████████████████████████████████████████| 39/39 [00:15<00:00,  2.55it/s, loss=0.197]\n"
     ]
    },
    {
     "name": "stdout",
     "output_type": "stream",
     "text": [
      "Out of Train\n",
      "=> Saving checkpoint\n",
      "~~~~ In test ~~~~\n",
      "Loss = 0.7769069488231952\n",
      "IoU Score = 0.5368339419364929\n",
      "Dice Score = 0.6862035393714905\n",
      "~~~~~ Out of test ~~~~~\n",
      "~~~~~epoch => 99\n",
      "Accuracy: 99.3268814086914\n",
      "Dice Score: 0.6862035393714905\n",
      "IOU: 0.5368339419364929\n",
      "Loss: 0.7769069488231952\n",
      "Correct Pixel: 11442457\n",
      "Total Pixel: 11520000\n",
      "~~~~~~~~~~~~~~~~~end epoch\n",
      "In Train\n",
      "length of loader 39\n"
     ]
    },
    {
     "name": "stderr",
     "output_type": "stream",
     "text": [
      "100%|██████████████████████████████████████████████████████████████████████| 39/39 [00:15<00:00,  2.49it/s, loss=0.192]\n"
     ]
    },
    {
     "name": "stdout",
     "output_type": "stream",
     "text": [
      "Out of Train\n",
      "=> Saving checkpoint\n",
      "~~~~ In test ~~~~\n",
      "Loss = 0.7761918902397156\n",
      "IoU Score = 0.5101333856582642\n",
      "Dice Score = 0.6609594225883484\n",
      "~~~~~ Out of test ~~~~~\n",
      "~~~~~epoch => 100\n",
      "Accuracy: 99.30999755859375\n",
      "Dice Score: 0.6609594225883484\n",
      "IOU: 0.5101333856582642\n",
      "Loss: 0.7761918902397156\n",
      "Correct Pixel: 11440512\n",
      "Total Pixel: 11520000\n",
      "~~~~~~~~~~~~~~~~~end epoch\n",
      "In Train\n",
      "length of loader 39\n"
     ]
    },
    {
     "name": "stderr",
     "output_type": "stream",
     "text": [
      "100%|██████████████████████████████████████████████████████████████████████| 39/39 [00:15<00:00,  2.49it/s, loss=0.192]\n"
     ]
    },
    {
     "name": "stdout",
     "output_type": "stream",
     "text": [
      "Out of Train\n",
      "=> Saving checkpoint\n",
      "~~~~ In test ~~~~\n",
      "Loss = 0.7765768124507024\n",
      "IoU Score = 0.5589570999145508\n",
      "Dice Score = 0.7060614824295044\n",
      "~~~~~ Out of test ~~~~~\n",
      "~~~~~epoch => 101\n",
      "Accuracy: 99.3674545288086\n",
      "Dice Score: 0.7060614824295044\n",
      "IOU: 0.5589570999145508\n",
      "Loss: 0.7765768124507024\n",
      "Correct Pixel: 11447130\n",
      "Total Pixel: 11520000\n",
      "~~~~~~~~~~~~~~~~~end epoch\n",
      "In Train\n",
      "length of loader 39\n"
     ]
    },
    {
     "name": "stderr",
     "output_type": "stream",
     "text": [
      "100%|██████████████████████████████████████████████████████████████████████| 39/39 [00:15<00:00,  2.55it/s, loss=0.201]\n"
     ]
    },
    {
     "name": "stdout",
     "output_type": "stream",
     "text": [
      "Out of Train\n",
      "=> Saving checkpoint\n",
      "~~~~ In test ~~~~\n",
      "Loss = 0.7752321683443509\n",
      "IoU Score = 0.5466868281364441\n",
      "Dice Score = 0.6962258815765381\n",
      "~~~~~ Out of test ~~~~~\n",
      "~~~~~epoch => 102\n",
      "Accuracy: 99.34349060058594\n",
      "Dice Score: 0.6962258815765381\n",
      "IOU: 0.5466868281364441\n",
      "Loss: 0.7752321683443509\n",
      "Correct Pixel: 11444370\n",
      "Total Pixel: 11520000\n",
      "~~~~~~~~~~~~~~~~~end epoch\n",
      "In Train\n",
      "length of loader 39\n"
     ]
    },
    {
     "name": "stderr",
     "output_type": "stream",
     "text": [
      "100%|██████████████████████████████████████████████████████████████████████| 39/39 [00:15<00:00,  2.51it/s, loss=0.186]\n"
     ]
    },
    {
     "name": "stdout",
     "output_type": "stream",
     "text": [
      "Out of Train\n",
      "=> Saving checkpoint\n",
      "~~~~ In test ~~~~\n",
      "Loss = 0.7743464295680706\n",
      "IoU Score = 0.5700117349624634\n",
      "Dice Score = 0.7161491513252258\n",
      "~~~~~ Out of test ~~~~~\n",
      "~~~~~epoch => 103\n",
      "Accuracy: 99.3733901977539\n",
      "Dice Score: 0.7161491513252258\n",
      "IOU: 0.5700117349624634\n",
      "Loss: 0.7743464295680706\n",
      "Correct Pixel: 11447814\n",
      "Total Pixel: 11520000\n",
      "~~~~~~~~~~~~~~~~~end epoch\n",
      "In Train\n",
      "length of loader 39\n"
     ]
    },
    {
     "name": "stderr",
     "output_type": "stream",
     "text": [
      "100%|██████████████████████████████████████████████████████████████████████| 39/39 [00:15<00:00,  2.49it/s, loss=0.187]\n"
     ]
    },
    {
     "name": "stdout",
     "output_type": "stream",
     "text": [
      "Out of Train\n",
      "=> Saving checkpoint\n",
      "~~~~ In test ~~~~\n",
      "Loss = 0.7738437881836524\n",
      "IoU Score = 0.6011151075363159\n",
      "Dice Score = 0.7428719997406006\n",
      "~~~~~ Out of test ~~~~~\n",
      "~~~~~epoch => 104\n",
      "Accuracy: 99.3930435180664\n",
      "Dice Score: 0.7428719997406006\n",
      "IOU: 0.6011151075363159\n",
      "Loss: 0.7738437881836524\n",
      "Correct Pixel: 11450078\n",
      "Total Pixel: 11520000\n",
      "~~~~~~~~~~~~~~~~~end epoch\n",
      "In Train\n",
      "length of loader 39\n"
     ]
    },
    {
     "name": "stderr",
     "output_type": "stream",
     "text": [
      "100%|██████████████████████████████████████████████████████████████████████| 39/39 [00:15<00:00,  2.55it/s, loss=0.193]\n"
     ]
    },
    {
     "name": "stdout",
     "output_type": "stream",
     "text": [
      "Out of Train\n",
      "=> Saving checkpoint\n",
      "~~~~ In test ~~~~\n",
      "Loss = 0.7736661709271945\n",
      "IoU Score = 0.6091698408126831\n",
      "Dice Score = 0.7493777871131897\n",
      "~~~~~ Out of test ~~~~~\n",
      "~~~~~epoch => 105\n",
      "Accuracy: 99.4016342163086\n",
      "Dice Score: 0.7493777871131897\n",
      "IOU: 0.6091698408126831\n",
      "Loss: 0.7736661709271945\n",
      "Correct Pixel: 11451068\n",
      "Total Pixel: 11520000\n",
      "~~~~~~~~~~~~~~~~~end epoch\n",
      "In Train\n",
      "length of loader 39\n"
     ]
    },
    {
     "name": "stderr",
     "output_type": "stream",
     "text": [
      "100%|██████████████████████████████████████████████████████████████████████| 39/39 [00:15<00:00,  2.54it/s, loss=0.187]\n"
     ]
    },
    {
     "name": "stdout",
     "output_type": "stream",
     "text": [
      "Out of Train\n",
      "=> Saving checkpoint\n",
      "~~~~ In test ~~~~\n",
      "Loss = 0.7727710054470942\n",
      "IoU Score = 0.59260493516922\n",
      "Dice Score = 0.736443042755127\n",
      "~~~~~ Out of test ~~~~~\n",
      "~~~~~epoch => 106\n",
      "Accuracy: 99.36114501953125\n",
      "Dice Score: 0.736443042755127\n",
      "IOU: 0.59260493516922\n",
      "Loss: 0.7727710054470942\n",
      "Correct Pixel: 11446404\n",
      "Total Pixel: 11520000\n",
      "~~~~~~~~~~~~~~~~~end epoch\n",
      "In Train\n",
      "length of loader 39\n"
     ]
    },
    {
     "name": "stderr",
     "output_type": "stream",
     "text": [
      "100%|██████████████████████████████████████████████████████████████████████| 39/39 [00:15<00:00,  2.54it/s, loss=0.178]\n"
     ]
    },
    {
     "name": "stdout",
     "output_type": "stream",
     "text": [
      "Out of Train\n",
      "=> Saving checkpoint\n",
      "~~~~ In test ~~~~\n",
      "Loss = 0.7724605202674866\n",
      "IoU Score = 0.5492653250694275\n",
      "Dice Score = 0.6981188058853149\n",
      "~~~~~ Out of test ~~~~~\n",
      "~~~~~epoch => 107\n",
      "Accuracy: 99.34278869628906\n",
      "Dice Score: 0.6981188058853149\n",
      "IOU: 0.5492653250694275\n",
      "Loss: 0.7724605202674866\n",
      "Correct Pixel: 11444289\n",
      "Total Pixel: 11520000\n",
      "~~~~~~~~~~~~~~~~~end epoch\n",
      "In Train\n",
      "length of loader 39\n"
     ]
    },
    {
     "name": "stderr",
     "output_type": "stream",
     "text": [
      "100%|███████████████████████████████████████████████████████████████████████| 39/39 [00:15<00:00,  2.55it/s, loss=0.19]\n"
     ]
    },
    {
     "name": "stdout",
     "output_type": "stream",
     "text": [
      "Out of Train\n",
      "=> Saving checkpoint\n",
      "~~~~ In test ~~~~\n",
      "Loss = 0.7722605237594018\n",
      "IoU Score = 0.5095920562744141\n",
      "Dice Score = 0.6618555188179016\n",
      "~~~~~ Out of test ~~~~~\n",
      "~~~~~epoch => 108\n",
      "Accuracy: 99.31161499023438\n",
      "Dice Score: 0.6618555188179016\n",
      "IOU: 0.5095920562744141\n",
      "Loss: 0.7722605237594018\n",
      "Correct Pixel: 11440698\n",
      "Total Pixel: 11520000\n",
      "~~~~~~~~~~~~~~~~~end epoch\n",
      "In Train\n",
      "length of loader 39\n"
     ]
    },
    {
     "name": "stderr",
     "output_type": "stream",
     "text": [
      "100%|███████████████████████████████████████████████████████████████████████| 39/39 [00:15<00:00,  2.46it/s, loss=0.18]\n"
     ]
    },
    {
     "name": "stdout",
     "output_type": "stream",
     "text": [
      "Out of Train\n",
      "=> Saving checkpoint\n",
      "~~~~ In test ~~~~\n",
      "Loss = 0.771160038617941\n",
      "IoU Score = 0.5026501417160034\n",
      "Dice Score = 0.6528013348579407\n",
      "~~~~~ Out of test ~~~~~\n",
      "~~~~~epoch => 109\n",
      "Accuracy: 99.2982177734375\n",
      "Dice Score: 0.6528013348579407\n",
      "IOU: 0.5026501417160034\n",
      "Loss: 0.771160038617941\n",
      "Correct Pixel: 11439155\n",
      "Total Pixel: 11520000\n",
      "~~~~~~~~~~~~~~~~~end epoch\n",
      "In Train\n",
      "length of loader 39\n"
     ]
    },
    {
     "name": "stderr",
     "output_type": "stream",
     "text": [
      "100%|███████████████████████████████████████████████████████████████████████| 39/39 [00:15<00:00,  2.48it/s, loss=0.18]\n"
     ]
    },
    {
     "name": "stdout",
     "output_type": "stream",
     "text": [
      "Out of Train\n",
      "=> Saving checkpoint\n",
      "~~~~ In test ~~~~\n",
      "Loss = 0.7703169400875385\n",
      "IoU Score = 0.5671639442443848\n",
      "Dice Score = 0.7146624326705933\n",
      "~~~~~ Out of test ~~~~~\n",
      "~~~~~epoch => 110\n",
      "Accuracy: 99.37592315673828\n",
      "Dice Score: 0.7146624326705933\n",
      "IOU: 0.5671639442443848\n",
      "Loss: 0.7703169400875385\n",
      "Correct Pixel: 11448106\n",
      "Total Pixel: 11520000\n",
      "~~~~~~~~~~~~~~~~~end epoch\n",
      "In Train\n",
      "length of loader 39\n"
     ]
    },
    {
     "name": "stderr",
     "output_type": "stream",
     "text": [
      "100%|██████████████████████████████████████████████████████████████████████| 39/39 [00:15<00:00,  2.52it/s, loss=0.188]\n"
     ]
    },
    {
     "name": "stdout",
     "output_type": "stream",
     "text": [
      "Out of Train\n",
      "=> Saving checkpoint\n",
      "~~~~ In test ~~~~\n",
      "Loss = 0.7709374473645136\n",
      "IoU Score = 0.5745394229888916\n",
      "Dice Score = 0.7205915451049805\n",
      "~~~~~ Out of test ~~~~~\n",
      "~~~~~epoch => 111\n",
      "Accuracy: 99.37508392333984\n",
      "Dice Score: 0.7205915451049805\n",
      "IOU: 0.5745394229888916\n",
      "Loss: 0.7709374473645136\n",
      "Correct Pixel: 11448009\n",
      "Total Pixel: 11520000\n",
      "~~~~~~~~~~~~~~~~~end epoch\n",
      "In Train\n",
      "length of loader 39\n"
     ]
    },
    {
     "name": "stderr",
     "output_type": "stream",
     "text": [
      "100%|██████████████████████████████████████████████████████████████████████| 39/39 [00:15<00:00,  2.54it/s, loss=0.198]\n"
     ]
    },
    {
     "name": "stdout",
     "output_type": "stream",
     "text": [
      "Out of Train\n",
      "=> Saving checkpoint\n",
      "~~~~ In test ~~~~\n",
      "Loss = 0.7697787193151621\n",
      "IoU Score = 0.6301010847091675\n",
      "Dice Score = 0.7663694024085999\n",
      "~~~~~ Out of test ~~~~~\n",
      "~~~~~epoch => 112\n",
      "Accuracy: 99.42667388916016\n",
      "Dice Score: 0.7663694024085999\n",
      "IOU: 0.6301010847091675\n",
      "Loss: 0.7697787193151621\n",
      "Correct Pixel: 11453953\n",
      "Total Pixel: 11520000\n",
      "~~~~~~~~~~~~~~~~~end epoch\n",
      "In Train\n",
      "length of loader 39\n"
     ]
    },
    {
     "name": "stderr",
     "output_type": "stream",
     "text": [
      "100%|██████████████████████████████████████████████████████████████████████| 39/39 [00:15<00:00,  2.51it/s, loss=0.176]\n"
     ]
    },
    {
     "name": "stdout",
     "output_type": "stream",
     "text": [
      "Out of Train\n",
      "=> Saving checkpoint\n",
      "~~~~ In test ~~~~\n",
      "Loss = 0.7686861019868118\n",
      "IoU Score = 0.6020604372024536\n",
      "Dice Score = 0.7433804273605347\n",
      "~~~~~ Out of test ~~~~~\n",
      "~~~~~epoch => 113\n",
      "Accuracy: 99.41439819335938\n",
      "Dice Score: 0.7433804273605347\n",
      "IOU: 0.6020604372024536\n",
      "Loss: 0.7686861019868118\n",
      "Correct Pixel: 11452538\n",
      "Total Pixel: 11520000\n",
      "~~~~~~~~~~~~~~~~~end epoch\n",
      "In Train\n",
      "length of loader 39\n"
     ]
    },
    {
     "name": "stderr",
     "output_type": "stream",
     "text": [
      "100%|██████████████████████████████████████████████████████████████████████| 39/39 [00:15<00:00,  2.46it/s, loss=0.183]\n"
     ]
    },
    {
     "name": "stdout",
     "output_type": "stream",
     "text": [
      "Out of Train\n",
      "=> Saving checkpoint\n",
      "~~~~ In test ~~~~\n",
      "Loss = 0.7682836743501517\n",
      "IoU Score = 0.5542879104614258\n",
      "Dice Score = 0.7007396221160889\n",
      "~~~~~ Out of test ~~~~~\n",
      "~~~~~epoch => 114\n",
      "Accuracy: 99.35670471191406\n",
      "Dice Score: 0.7007396221160889\n",
      "IOU: 0.5542879104614258\n",
      "Loss: 0.7682836743501517\n",
      "Correct Pixel: 11445892\n",
      "Total Pixel: 11520000\n",
      "~~~~~~~~~~~~~~~~~end epoch\n",
      "In Train\n",
      "length of loader 39\n"
     ]
    },
    {
     "name": "stderr",
     "output_type": "stream",
     "text": [
      "100%|██████████████████████████████████████████████████████████████████████| 39/39 [00:15<00:00,  2.48it/s, loss=0.194]\n"
     ]
    },
    {
     "name": "stdout",
     "output_type": "stream",
     "text": [
      "Out of Train\n",
      "=> Saving checkpoint\n",
      "~~~~ In test ~~~~\n",
      "Loss = 0.7685311620052044\n",
      "IoU Score = 0.4907233417034149\n",
      "Dice Score = 0.644644558429718\n",
      "~~~~~ Out of test ~~~~~\n",
      "~~~~~epoch => 115\n",
      "Accuracy: 99.27910614013672\n",
      "Dice Score: 0.644644558429718\n",
      "IOU: 0.4907233417034149\n",
      "Loss: 0.7685311620052044\n",
      "Correct Pixel: 11436953\n",
      "Total Pixel: 11520000\n",
      "~~~~~~~~~~~~~~~~~end epoch\n",
      "In Train\n",
      "length of loader 39\n"
     ]
    },
    {
     "name": "stderr",
     "output_type": "stream",
     "text": [
      "100%|██████████████████████████████████████████████████████████████████████| 39/39 [00:16<00:00,  2.33it/s, loss=0.279]\n"
     ]
    },
    {
     "name": "stdout",
     "output_type": "stream",
     "text": [
      "Out of Train\n",
      "=> Saving checkpoint\n",
      "~~~~ In test ~~~~\n",
      "Loss = 0.770940377162053\n",
      "IoU Score = 0.6403390765190125\n",
      "Dice Score = 0.7772289514541626\n",
      "~~~~~ Out of test ~~~~~\n",
      "~~~~~epoch => 116\n",
      "Accuracy: 99.40410614013672\n",
      "Dice Score: 0.7772289514541626\n",
      "IOU: 0.6403390765190125\n",
      "Loss: 0.770940377162053\n",
      "Correct Pixel: 11451353\n",
      "Total Pixel: 11520000\n",
      "~~~~~~~~~~~~~~~~~end epoch\n",
      "In Train\n",
      "length of loader 39\n"
     ]
    },
    {
     "name": "stderr",
     "output_type": "stream",
     "text": [
      "100%|██████████████████████████████████████████████████████████████████████| 39/39 [00:16<00:00,  2.39it/s, loss=0.207]\n"
     ]
    },
    {
     "name": "stdout",
     "output_type": "stream",
     "text": [
      "Out of Train\n",
      "=> Saving checkpoint\n",
      "~~~~ In test ~~~~\n",
      "Loss = 0.7669303738153898\n",
      "IoU Score = 0.5245367884635925\n",
      "Dice Score = 0.6733967661857605\n",
      "~~~~~ Out of test ~~~~~\n",
      "~~~~~epoch => 117\n",
      "Accuracy: 99.301025390625\n",
      "Dice Score: 0.6733967661857605\n",
      "IOU: 0.5245367884635925\n",
      "Loss: 0.7669303738153898\n",
      "Correct Pixel: 11439478\n",
      "Total Pixel: 11520000\n",
      "~~~~~~~~~~~~~~~~~end epoch\n",
      "In Train\n",
      "length of loader 39\n"
     ]
    },
    {
     "name": "stderr",
     "output_type": "stream",
     "text": [
      "100%|██████████████████████████████████████████████████████████████████████| 39/39 [00:15<00:00,  2.48it/s, loss=0.171]\n"
     ]
    },
    {
     "name": "stdout",
     "output_type": "stream",
     "text": [
      "Out of Train\n",
      "=> Saving checkpoint\n",
      "~~~~ In test ~~~~\n",
      "Loss = 0.7663087386351365\n",
      "IoU Score = 0.5346235036849976\n",
      "Dice Score = 0.6824232339859009\n",
      "~~~~~ Out of test ~~~~~\n",
      "~~~~~epoch => 118\n",
      "Accuracy: 99.33546447753906\n",
      "Dice Score: 0.6824232339859009\n",
      "IOU: 0.5346235036849976\n",
      "Loss: 0.7663087386351365\n",
      "Correct Pixel: 11443446\n",
      "Total Pixel: 11520000\n",
      "~~~~~~~~~~~~~~~~~end epoch\n",
      "In Train\n",
      "length of loader 39\n"
     ]
    },
    {
     "name": "stderr",
     "output_type": "stream",
     "text": [
      "100%|██████████████████████████████████████████████████████████████████████| 39/39 [00:15<00:00,  2.48it/s, loss=0.165]\n"
     ]
    },
    {
     "name": "stdout",
     "output_type": "stream",
     "text": [
      "Out of Train\n",
      "=> Saving checkpoint\n",
      "~~~~ In test ~~~~\n",
      "Loss = 0.765424540409675\n",
      "IoU Score = 0.5414975881576538\n",
      "Dice Score = 0.6883729100227356\n",
      "~~~~~ Out of test ~~~~~\n",
      "~~~~~epoch => 119\n",
      "Accuracy: 99.34748840332031\n",
      "Dice Score: 0.6883729100227356\n",
      "IOU: 0.5414975881576538\n",
      "Loss: 0.765424540409675\n",
      "Correct Pixel: 11444831\n",
      "Total Pixel: 11520000\n",
      "~~~~~~~~~~~~~~~~~end epoch\n",
      "In Train\n",
      "length of loader 39\n"
     ]
    },
    {
     "name": "stderr",
     "output_type": "stream",
     "text": [
      "100%|██████████████████████████████████████████████████████████████████████| 39/39 [00:16<00:00,  2.40it/s, loss=0.165]\n"
     ]
    },
    {
     "name": "stdout",
     "output_type": "stream",
     "text": [
      "Out of Train\n",
      "=> Saving checkpoint\n",
      "~~~~ In test ~~~~\n",
      "Loss = 0.7652826125805194\n",
      "IoU Score = 0.579123318195343\n",
      "Dice Score = 0.7222103476524353\n",
      "~~~~~ Out of test ~~~~~\n",
      "~~~~~epoch => 120\n",
      "Accuracy: 99.38847351074219\n",
      "Dice Score: 0.7222103476524353\n",
      "IOU: 0.579123318195343\n",
      "Loss: 0.7652826125805194\n",
      "Correct Pixel: 11449552\n",
      "Total Pixel: 11520000\n",
      "~~~~~~~~~~~~~~~~~end epoch\n",
      "In Train\n",
      "length of loader 39\n"
     ]
    },
    {
     "name": "stderr",
     "output_type": "stream",
     "text": [
      "100%|██████████████████████████████████████████████████████████████████████| 39/39 [00:15<00:00,  2.46it/s, loss=0.269]\n"
     ]
    },
    {
     "name": "stdout",
     "output_type": "stream",
     "text": [
      "Out of Train\n",
      "=> Saving checkpoint\n",
      "~~~~ In test ~~~~\n",
      "Loss = 0.7662485471138587\n",
      "IoU Score = 0.5724296569824219\n",
      "Dice Score = 0.7183775305747986\n",
      "~~~~~ Out of test ~~~~~\n",
      "~~~~~epoch => 121\n",
      "Accuracy: 99.38842010498047\n",
      "Dice Score: 0.7183775305747986\n",
      "IOU: 0.5724296569824219\n",
      "Loss: 0.7662485471138587\n",
      "Correct Pixel: 11449546\n",
      "Total Pixel: 11520000\n",
      "~~~~~~~~~~~~~~~~~end epoch\n",
      "In Train\n",
      "length of loader 39\n"
     ]
    },
    {
     "name": "stderr",
     "output_type": "stream",
     "text": [
      "100%|██████████████████████████████████████████████████████████████████████| 39/39 [00:15<00:00,  2.53it/s, loss=0.173]\n"
     ]
    },
    {
     "name": "stdout",
     "output_type": "stream",
     "text": [
      "Out of Train\n",
      "=> Saving checkpoint\n",
      "~~~~ In test ~~~~\n",
      "Loss = 0.7643172970184913\n",
      "IoU Score = 0.5485630631446838\n",
      "Dice Score = 0.694201648235321\n",
      "~~~~~ Out of test ~~~~~\n",
      "~~~~~epoch => 122\n",
      "Accuracy: 99.32787322998047\n",
      "Dice Score: 0.694201648235321\n",
      "IOU: 0.5485630631446838\n",
      "Loss: 0.7643172970184913\n",
      "Correct Pixel: 11442571\n",
      "Total Pixel: 11520000\n",
      "~~~~~~~~~~~~~~~~~end epoch\n",
      "In Train\n",
      "length of loader 39\n"
     ]
    },
    {
     "name": "stderr",
     "output_type": "stream",
     "text": [
      "100%|██████████████████████████████████████████████████████████████████████| 39/39 [00:15<00:00,  2.51it/s, loss=0.159]\n"
     ]
    },
    {
     "name": "stdout",
     "output_type": "stream",
     "text": [
      "Out of Train\n",
      "=> Saving checkpoint\n",
      "~~~~ In test ~~~~\n",
      "Loss = 0.7640331937716558\n",
      "IoU Score = 0.5030736923217773\n",
      "Dice Score = 0.6549568176269531\n",
      "~~~~~ Out of test ~~~~~\n",
      "~~~~~epoch => 123\n",
      "Accuracy: 99.27704620361328\n",
      "Dice Score: 0.6549568176269531\n",
      "IOU: 0.5030736923217773\n",
      "Loss: 0.7640331937716558\n",
      "Correct Pixel: 11436715\n",
      "Total Pixel: 11520000\n",
      "~~~~~~~~~~~~~~~~~end epoch\n",
      "In Train\n",
      "length of loader 39\n"
     ]
    },
    {
     "name": "stderr",
     "output_type": "stream",
     "text": [
      "100%|██████████████████████████████████████████████████████████████████████| 39/39 [00:16<00:00,  2.41it/s, loss=0.163]\n"
     ]
    },
    {
     "name": "stdout",
     "output_type": "stream",
     "text": [
      "Out of Train\n",
      "=> Saving checkpoint\n",
      "~~~~ In test ~~~~\n",
      "Loss = 0.7638438756649311\n",
      "IoU Score = 0.5506004095077515\n",
      "Dice Score = 0.6985350847244263\n",
      "~~~~~ Out of test ~~~~~\n",
      "~~~~~epoch => 124\n",
      "Accuracy: 99.34410095214844\n",
      "Dice Score: 0.6985350847244263\n",
      "IOU: 0.5506004095077515\n",
      "Loss: 0.7638438756649311\n",
      "Correct Pixel: 11444441\n",
      "Total Pixel: 11520000\n",
      "~~~~~~~~~~~~~~~~~end epoch\n",
      "In Train\n",
      "length of loader 39\n"
     ]
    },
    {
     "name": "stderr",
     "output_type": "stream",
     "text": [
      "100%|██████████████████████████████████████████████████████████████████████| 39/39 [00:15<00:00,  2.53it/s, loss=0.191]\n"
     ]
    },
    {
     "name": "stdout",
     "output_type": "stream",
     "text": [
      "Out of Train\n",
      "=> Saving checkpoint\n",
      "~~~~ In test ~~~~\n",
      "Loss = 0.7634411820998559\n",
      "IoU Score = 0.515648603439331\n",
      "Dice Score = 0.6651619672775269\n",
      "~~~~~ Out of test ~~~~~\n",
      "~~~~~epoch => 125\n",
      "Accuracy: 99.31421661376953\n",
      "Dice Score: 0.6651619672775269\n",
      "IOU: 0.515648603439331\n",
      "Loss: 0.7634411820998559\n",
      "Correct Pixel: 11440998\n",
      "Total Pixel: 11520000\n",
      "~~~~~~~~~~~~~~~~~end epoch\n",
      "In Train\n",
      "length of loader 39\n"
     ]
    },
    {
     "name": "stderr",
     "output_type": "stream",
     "text": [
      "100%|██████████████████████████████████████████████████████████████████████| 39/39 [00:15<00:00,  2.52it/s, loss=0.184]\n"
     ]
    },
    {
     "name": "stdout",
     "output_type": "stream",
     "text": [
      "Out of Train\n",
      "=> Saving checkpoint\n",
      "~~~~ In test ~~~~\n",
      "Loss = 0.7626256530101483\n",
      "IoU Score = 0.5858937501907349\n",
      "Dice Score = 0.7299644351005554\n",
      "~~~~~ Out of test ~~~~~\n",
      "~~~~~epoch => 126\n",
      "Accuracy: 99.39982604980469\n",
      "Dice Score: 0.7299644351005554\n",
      "IOU: 0.5858937501907349\n",
      "Loss: 0.7626256530101483\n",
      "Correct Pixel: 11450860\n",
      "Total Pixel: 11520000\n",
      "~~~~~~~~~~~~~~~~~end epoch\n",
      "In Train\n",
      "length of loader 39\n"
     ]
    },
    {
     "name": "stderr",
     "output_type": "stream",
     "text": [
      "100%|██████████████████████████████████████████████████████████████████████| 39/39 [00:15<00:00,  2.51it/s, loss=0.158]\n"
     ]
    },
    {
     "name": "stdout",
     "output_type": "stream",
     "text": [
      "Out of Train\n",
      "=> Saving checkpoint\n",
      "~~~~ In test ~~~~\n",
      "Loss = 0.7616457526500409\n",
      "IoU Score = 0.4592367708683014\n",
      "Dice Score = 0.6074482202529907\n",
      "~~~~~ Out of test ~~~~~\n",
      "~~~~~epoch => 127\n",
      "Accuracy: 99.24781036376953\n",
      "Dice Score: 0.6074482202529907\n",
      "IOU: 0.4592367708683014\n",
      "Loss: 0.7616457526500409\n",
      "Correct Pixel: 11433348\n",
      "Total Pixel: 11520000\n",
      "~~~~~~~~~~~~~~~~~end epoch\n",
      "In Train\n",
      "length of loader 39\n"
     ]
    },
    {
     "name": "stderr",
     "output_type": "stream",
     "text": [
      "100%|██████████████████████████████████████████████████████████████████████| 39/39 [00:15<00:00,  2.51it/s, loss=0.158]\n"
     ]
    },
    {
     "name": "stdout",
     "output_type": "stream",
     "text": [
      "Out of Train\n",
      "=> Saving checkpoint\n",
      "~~~~ In test ~~~~\n",
      "Loss = 0.7614190074113699\n",
      "IoU Score = 0.49915048480033875\n",
      "Dice Score = 0.6485703587532043\n",
      "~~~~~ Out of test ~~~~~\n",
      "~~~~~epoch => 128\n",
      "Accuracy: 99.30230712890625\n",
      "Dice Score: 0.6485703587532043\n",
      "IOU: 0.49915048480033875\n",
      "Loss: 0.7614190074113699\n",
      "Correct Pixel: 11439625\n",
      "Total Pixel: 11520000\n",
      "~~~~~~~~~~~~~~~~~end epoch\n",
      "In Train\n",
      "length of loader 39\n"
     ]
    },
    {
     "name": "stderr",
     "output_type": "stream",
     "text": [
      "100%|██████████████████████████████████████████████████████████████████████| 39/39 [00:15<00:00,  2.45it/s, loss=0.224]\n"
     ]
    },
    {
     "name": "stdout",
     "output_type": "stream",
     "text": [
      "Out of Train\n",
      "=> Saving checkpoint\n",
      "~~~~ In test ~~~~\n",
      "Loss = 0.7614796941096966\n",
      "IoU Score = 0.5243667960166931\n",
      "Dice Score = 0.6732512712478638\n",
      "~~~~~ Out of test ~~~~~\n",
      "~~~~~epoch => 129\n",
      "Accuracy: 99.32288360595703\n",
      "Dice Score: 0.6732512712478638\n",
      "IOU: 0.5243667960166931\n",
      "Loss: 0.7614796941096966\n",
      "Correct Pixel: 11441996\n",
      "Total Pixel: 11520000\n",
      "~~~~~~~~~~~~~~~~~end epoch\n",
      "In Train\n",
      "length of loader 39\n"
     ]
    },
    {
     "name": "stderr",
     "output_type": "stream",
     "text": [
      "100%|███████████████████████████████████████████████████████████████████████| 39/39 [00:15<00:00,  2.46it/s, loss=0.17]\n"
     ]
    },
    {
     "name": "stdout",
     "output_type": "stream",
     "text": [
      "Out of Train\n",
      "=> Saving checkpoint\n",
      "~~~~ In test ~~~~\n",
      "Loss = 0.7607100514265207\n",
      "IoU Score = 0.44224846363067627\n",
      "Dice Score = 0.5960518717765808\n",
      "~~~~~ Out of test ~~~~~\n",
      "~~~~~epoch => 130\n",
      "Accuracy: 99.21157836914062\n",
      "Dice Score: 0.5960518717765808\n",
      "IOU: 0.44224846363067627\n",
      "Loss: 0.7607100514265207\n",
      "Correct Pixel: 11429174\n",
      "Total Pixel: 11520000\n",
      "~~~~~~~~~~~~~~~~~end epoch\n",
      "In Train\n",
      "length of loader 39\n"
     ]
    },
    {
     "name": "stderr",
     "output_type": "stream",
     "text": [
      "100%|██████████████████████████████████████████████████████████████████████| 39/39 [00:15<00:00,  2.54it/s, loss=0.181]\n"
     ]
    },
    {
     "name": "stdout",
     "output_type": "stream",
     "text": [
      "Out of Train\n",
      "=> Saving checkpoint\n",
      "~~~~ In test ~~~~\n",
      "Loss = 0.7601864200371963\n",
      "IoU Score = 0.4283201992511749\n",
      "Dice Score = 0.5843445062637329\n",
      "~~~~~ Out of test ~~~~~\n",
      "~~~~~epoch => 131\n",
      "Accuracy: 99.18751525878906\n",
      "Dice Score: 0.5843445062637329\n",
      "IOU: 0.4283201992511749\n",
      "Loss: 0.7601864200371963\n",
      "Correct Pixel: 11426402\n",
      "Total Pixel: 11520000\n",
      "~~~~~~~~~~~~~~~~~end epoch\n",
      "In Train\n",
      "length of loader 39\n"
     ]
    },
    {
     "name": "stderr",
     "output_type": "stream",
     "text": [
      "100%|███████████████████████████████████████████████████████████████████████| 39/39 [00:16<00:00,  2.42it/s, loss=0.16]\n"
     ]
    },
    {
     "name": "stdout",
     "output_type": "stream",
     "text": [
      "Out of Train\n",
      "=> Saving checkpoint\n",
      "~~~~ In test ~~~~\n",
      "Loss = 0.7589379686575669\n",
      "IoU Score = 0.49795064330101013\n",
      "Dice Score = 0.6495989561080933\n",
      "~~~~~ Out of test ~~~~~\n",
      "~~~~~epoch => 132\n",
      "Accuracy: 99.29049682617188\n",
      "Dice Score: 0.6495989561080933\n",
      "IOU: 0.49795064330101013\n",
      "Loss: 0.7589379686575669\n",
      "Correct Pixel: 11438265\n",
      "Total Pixel: 11520000\n",
      "~~~~~~~~~~~~~~~~~end epoch\n",
      "In Train\n",
      "length of loader 39\n"
     ]
    },
    {
     "name": "stderr",
     "output_type": "stream",
     "text": [
      "100%|███████████████████████████████████████████████████████████████████████| 39/39 [00:15<00:00,  2.47it/s, loss=0.15]\n"
     ]
    },
    {
     "name": "stdout",
     "output_type": "stream",
     "text": [
      "Out of Train\n",
      "=> Saving checkpoint\n",
      "~~~~ In test ~~~~\n",
      "Loss = 0.7587873523051922\n",
      "IoU Score = 0.5537615418434143\n",
      "Dice Score = 0.6998487710952759\n",
      "~~~~~ Out of test ~~~~~\n",
      "~~~~~epoch => 133\n",
      "Accuracy: 99.35106658935547\n",
      "Dice Score: 0.6998487710952759\n",
      "IOU: 0.5537615418434143\n",
      "Loss: 0.7587873523051922\n",
      "Correct Pixel: 11445243\n",
      "Total Pixel: 11520000\n",
      "~~~~~~~~~~~~~~~~~end epoch\n",
      "In Train\n",
      "length of loader 39\n"
     ]
    },
    {
     "name": "stderr",
     "output_type": "stream",
     "text": [
      "100%|██████████████████████████████████████████████████████████████████████| 39/39 [00:15<00:00,  2.54it/s, loss=0.159]\n"
     ]
    },
    {
     "name": "stdout",
     "output_type": "stream",
     "text": [
      "Out of Train\n",
      "=> Saving checkpoint\n",
      "~~~~ In test ~~~~\n",
      "Loss = 0.7587347259888282\n",
      "IoU Score = 0.4842226803302765\n",
      "Dice Score = 0.6384961009025574\n",
      "~~~~~ Out of test ~~~~~\n",
      "~~~~~epoch => 134\n",
      "Accuracy: 99.27113342285156\n",
      "Dice Score: 0.6384961009025574\n",
      "IOU: 0.4842226803302765\n",
      "Loss: 0.7587347259888282\n",
      "Correct Pixel: 11436034\n",
      "Total Pixel: 11520000\n",
      "~~~~~~~~~~~~~~~~~end epoch\n",
      "In Train\n",
      "length of loader 39\n"
     ]
    },
    {
     "name": "stderr",
     "output_type": "stream",
     "text": [
      "100%|███████████████████████████████████████████████████████████████████████| 39/39 [00:15<00:00,  2.55it/s, loss=0.15]\n"
     ]
    },
    {
     "name": "stdout",
     "output_type": "stream",
     "text": [
      "Out of Train\n",
      "=> Saving checkpoint\n",
      "~~~~ In test ~~~~\n",
      "Loss = 0.7580463106815631\n",
      "IoU Score = 0.5355281829833984\n",
      "Dice Score = 0.6847041249275208\n",
      "~~~~~ Out of test ~~~~~\n",
      "~~~~~epoch => 135\n",
      "Accuracy: 99.33509826660156\n",
      "Dice Score: 0.6847041249275208\n",
      "IOU: 0.5355281829833984\n",
      "Loss: 0.7580463106815631\n",
      "Correct Pixel: 11443403\n",
      "Total Pixel: 11520000\n",
      "~~~~~~~~~~~~~~~~~end epoch\n",
      "In Train\n",
      "length of loader 39\n"
     ]
    },
    {
     "name": "stderr",
     "output_type": "stream",
     "text": [
      "100%|██████████████████████████████████████████████████████████████████████| 39/39 [00:15<00:00,  2.53it/s, loss=0.152]\n"
     ]
    },
    {
     "name": "stdout",
     "output_type": "stream",
     "text": [
      "Out of Train\n",
      "=> Saving checkpoint\n",
      "~~~~ In test ~~~~\n",
      "Loss = 0.7573150212948139\n",
      "IoU Score = 0.5546471476554871\n",
      "Dice Score = 0.700190007686615\n",
      "~~~~~ Out of test ~~~~~\n",
      "~~~~~epoch => 136\n",
      "Accuracy: 99.34733581542969\n",
      "Dice Score: 0.700190007686615\n",
      "IOU: 0.5546471476554871\n",
      "Loss: 0.7573150212948139\n",
      "Correct Pixel: 11444813\n",
      "Total Pixel: 11520000\n",
      "~~~~~~~~~~~~~~~~~end epoch\n",
      "In Train\n",
      "length of loader 39\n"
     ]
    },
    {
     "name": "stderr",
     "output_type": "stream",
     "text": [
      "100%|██████████████████████████████████████████████████████████████████████| 39/39 [00:15<00:00,  2.52it/s, loss=0.152]\n"
     ]
    },
    {
     "name": "stdout",
     "output_type": "stream",
     "text": [
      "Out of Train\n",
      "=> Saving checkpoint\n",
      "~~~~ In test ~~~~\n",
      "Loss = 0.7574930741236761\n",
      "IoU Score = 0.5305508375167847\n",
      "Dice Score = 0.6800138354301453\n",
      "~~~~~ Out of test ~~~~~\n",
      "~~~~~epoch => 137\n",
      "Accuracy: 99.32762908935547\n",
      "Dice Score: 0.6800138354301453\n",
      "IOU: 0.5305508375167847\n",
      "Loss: 0.7574930741236761\n",
      "Correct Pixel: 11442543\n",
      "Total Pixel: 11520000\n",
      "~~~~~~~~~~~~~~~~~end epoch\n",
      "In Train\n",
      "length of loader 39\n"
     ]
    },
    {
     "name": "stderr",
     "output_type": "stream",
     "text": [
      "100%|██████████████████████████████████████████████████████████████████████| 39/39 [00:15<00:00,  2.54it/s, loss=0.149]\n"
     ]
    },
    {
     "name": "stdout",
     "output_type": "stream",
     "text": [
      "Out of Train\n",
      "=> Saving checkpoint\n",
      "~~~~ In test ~~~~\n",
      "Loss = 0.7562527427306542\n",
      "IoU Score = 0.551928699016571\n",
      "Dice Score = 0.698196291923523\n",
      "~~~~~ Out of test ~~~~~\n",
      "~~~~~epoch => 138\n",
      "Accuracy: 99.3562240600586\n",
      "Dice Score: 0.698196291923523\n",
      "IOU: 0.551928699016571\n",
      "Loss: 0.7562527427306542\n",
      "Correct Pixel: 11445837\n",
      "Total Pixel: 11520000\n",
      "~~~~~~~~~~~~~~~~~end epoch\n",
      "In Train\n",
      "length of loader 39\n"
     ]
    },
    {
     "name": "stderr",
     "output_type": "stream",
     "text": [
      "100%|██████████████████████████████████████████████████████████████████████| 39/39 [00:15<00:00,  2.53it/s, loss=0.155]\n"
     ]
    },
    {
     "name": "stdout",
     "output_type": "stream",
     "text": [
      "Out of Train\n",
      "=> Saving checkpoint\n",
      "~~~~ In test ~~~~\n",
      "Loss = 0.7564830825879023\n",
      "IoU Score = 0.5369930267333984\n",
      "Dice Score = 0.6861344575881958\n",
      "~~~~~ Out of test ~~~~~\n",
      "~~~~~epoch => 139\n",
      "Accuracy: 99.33358764648438\n",
      "Dice Score: 0.6861344575881958\n",
      "IOU: 0.5369930267333984\n",
      "Loss: 0.7564830825879023\n",
      "Correct Pixel: 11443229\n",
      "Total Pixel: 11520000\n",
      "~~~~~~~~~~~~~~~~~end epoch\n",
      "In Train\n",
      "length of loader 39\n"
     ]
    },
    {
     "name": "stderr",
     "output_type": "stream",
     "text": [
      "100%|██████████████████████████████████████████████████████████████████████| 39/39 [00:15<00:00,  2.54it/s, loss=0.159]\n"
     ]
    },
    {
     "name": "stdout",
     "output_type": "stream",
     "text": [
      "Out of Train\n",
      "=> Saving checkpoint\n",
      "~~~~ In test ~~~~\n",
      "Loss = 0.755276803786938\n",
      "IoU Score = 0.5982211232185364\n",
      "Dice Score = 0.7388742566108704\n",
      "~~~~~ Out of test ~~~~~\n",
      "~~~~~epoch => 140\n",
      "Accuracy: 99.40629577636719\n",
      "Dice Score: 0.7388742566108704\n",
      "IOU: 0.5982211232185364\n",
      "Loss: 0.755276803786938\n",
      "Correct Pixel: 11451605\n",
      "Total Pixel: 11520000\n",
      "~~~~~~~~~~~~~~~~~end epoch\n",
      "In Train\n",
      "length of loader 39\n"
     ]
    },
    {
     "name": "stderr",
     "output_type": "stream",
     "text": [
      "100%|██████████████████████████████████████████████████████████████████████| 39/39 [00:15<00:00,  2.56it/s, loss=0.143]\n"
     ]
    },
    {
     "name": "stdout",
     "output_type": "stream",
     "text": [
      "Out of Train\n",
      "=> Saving checkpoint\n",
      "~~~~ In test ~~~~\n",
      "Loss = 0.7552432463719294\n",
      "IoU Score = 0.4721304774284363\n",
      "Dice Score = 0.6258610486984253\n",
      "~~~~~ Out of test ~~~~~\n",
      "~~~~~epoch => 141\n",
      "Accuracy: 99.24720001220703\n",
      "Dice Score: 0.6258610486984253\n",
      "IOU: 0.4721304774284363\n",
      "Loss: 0.7552432463719294\n",
      "Correct Pixel: 11433277\n",
      "Total Pixel: 11520000\n",
      "~~~~~~~~~~~~~~~~~end epoch\n",
      "In Train\n",
      "length of loader 39\n"
     ]
    },
    {
     "name": "stderr",
     "output_type": "stream",
     "text": [
      "100%|██████████████████████████████████████████████████████████████████████| 39/39 [00:15<00:00,  2.55it/s, loss=0.144]\n"
     ]
    },
    {
     "name": "stdout",
     "output_type": "stream",
     "text": [
      "Out of Train\n",
      "=> Saving checkpoint\n",
      "~~~~ In test ~~~~\n",
      "Loss = 0.7544883810556852\n",
      "IoU Score = 0.570318877696991\n",
      "Dice Score = 0.7138015627861023\n",
      "~~~~~ Out of test ~~~~~\n",
      "~~~~~epoch => 142\n",
      "Accuracy: 99.37519836425781\n",
      "Dice Score: 0.7138015627861023\n",
      "IOU: 0.570318877696991\n",
      "Loss: 0.7544883810556852\n",
      "Correct Pixel: 11448023\n",
      "Total Pixel: 11520000\n",
      "~~~~~~~~~~~~~~~~~end epoch\n",
      "In Train\n",
      "length of loader 39\n"
     ]
    },
    {
     "name": "stderr",
     "output_type": "stream",
     "text": [
      "100%|██████████████████████████████████████████████████████████████████████| 39/39 [00:15<00:00,  2.55it/s, loss=0.163]\n"
     ]
    },
    {
     "name": "stdout",
     "output_type": "stream",
     "text": [
      "Out of Train\n",
      "=> Saving checkpoint\n",
      "~~~~ In test ~~~~\n",
      "Loss = 0.7548424418155963\n",
      "IoU Score = 0.5272968411445618\n",
      "Dice Score = 0.6750534176826477\n",
      "~~~~~ Out of test ~~~~~\n",
      "~~~~~epoch => 143\n",
      "Accuracy: 99.3255844116211\n",
      "Dice Score: 0.6750534176826477\n",
      "IOU: 0.5272968411445618\n",
      "Loss: 0.7548424418155963\n",
      "Correct Pixel: 11442307\n",
      "Total Pixel: 11520000\n",
      "~~~~~~~~~~~~~~~~~end epoch\n",
      "In Train\n",
      "length of loader 39\n"
     ]
    },
    {
     "name": "stderr",
     "output_type": "stream",
     "text": [
      "100%|██████████████████████████████████████████████████████████████████████| 39/39 [00:15<00:00,  2.56it/s, loss=0.138]\n"
     ]
    },
    {
     "name": "stdout",
     "output_type": "stream",
     "text": [
      "Out of Train\n",
      "=> Saving checkpoint\n",
      "~~~~ In test ~~~~\n",
      "Loss = 0.7535382646780747\n",
      "IoU Score = 0.5843235850334167\n",
      "Dice Score = 0.7263399362564087\n",
      "~~~~~ Out of test ~~~~~\n",
      "~~~~~epoch => 144\n",
      "Accuracy: 99.3865737915039\n",
      "Dice Score: 0.7263399362564087\n",
      "IOU: 0.5843235850334167\n",
      "Loss: 0.7535382646780747\n",
      "Correct Pixel: 11449333\n",
      "Total Pixel: 11520000\n",
      "~~~~~~~~~~~~~~~~~end epoch\n",
      "In Train\n",
      "length of loader 39\n"
     ]
    },
    {
     "name": "stderr",
     "output_type": "stream",
     "text": [
      "100%|██████████████████████████████████████████████████████████████████████| 39/39 [00:15<00:00,  2.54it/s, loss=0.137]\n"
     ]
    },
    {
     "name": "stdout",
     "output_type": "stream",
     "text": [
      "Out of Train\n",
      "=> Saving checkpoint\n",
      "~~~~ In test ~~~~\n",
      "Loss = 0.752842339185568\n",
      "IoU Score = 0.5601688623428345\n",
      "Dice Score = 0.7050615549087524\n",
      "~~~~~ Out of test ~~~~~\n",
      "~~~~~epoch => 145\n",
      "Accuracy: 99.3613510131836\n",
      "Dice Score: 0.7050615549087524\n",
      "IOU: 0.5601688623428345\n",
      "Loss: 0.752842339185568\n",
      "Correct Pixel: 11446427\n",
      "Total Pixel: 11520000\n",
      "~~~~~~~~~~~~~~~~~end epoch\n",
      "In Train\n",
      "length of loader 39\n"
     ]
    },
    {
     "name": "stderr",
     "output_type": "stream",
     "text": [
      "100%|██████████████████████████████████████████████████████████████████████| 39/39 [00:15<00:00,  2.52it/s, loss=0.137]\n"
     ]
    },
    {
     "name": "stdout",
     "output_type": "stream",
     "text": [
      "Out of Train\n",
      "=> Saving checkpoint\n",
      "~~~~ In test ~~~~\n",
      "Loss = 0.7525221292789166\n",
      "IoU Score = 0.5290471315383911\n",
      "Dice Score = 0.6782383918762207\n",
      "~~~~~ Out of test ~~~~~\n",
      "~~~~~epoch => 146\n",
      "Accuracy: 99.32564544677734\n",
      "Dice Score: 0.6782383918762207\n",
      "IOU: 0.5290471315383911\n",
      "Loss: 0.7525221292789166\n",
      "Correct Pixel: 11442314\n",
      "Total Pixel: 11520000\n",
      "~~~~~~~~~~~~~~~~~end epoch\n",
      "In Train\n",
      "length of loader 39\n"
     ]
    },
    {
     "name": "stderr",
     "output_type": "stream",
     "text": [
      "100%|██████████████████████████████████████████████████████████████████████| 39/39 [00:15<00:00,  2.54it/s, loss=0.136]\n"
     ]
    },
    {
     "name": "stdout",
     "output_type": "stream",
     "text": [
      "Out of Train\n",
      "=> Saving checkpoint\n",
      "~~~~ In test ~~~~\n",
      "Loss = 0.7519378937207736\n",
      "IoU Score = 0.5908513069152832\n",
      "Dice Score = 0.7321034669876099\n",
      "~~~~~ Out of test ~~~~~\n",
      "~~~~~epoch => 147\n",
      "Accuracy: 99.37734985351562\n",
      "Dice Score: 0.7321034669876099\n",
      "IOU: 0.5908513069152832\n",
      "Loss: 0.7519378937207736\n",
      "Correct Pixel: 11448270\n",
      "Total Pixel: 11520000\n",
      "~~~~~~~~~~~~~~~~~end epoch\n",
      "In Train\n",
      "length of loader 39\n"
     ]
    },
    {
     "name": "stderr",
     "output_type": "stream",
     "text": [
      "100%|██████████████████████████████████████████████████████████████████████| 39/39 [00:15<00:00,  2.53it/s, loss=0.143]\n"
     ]
    },
    {
     "name": "stdout",
     "output_type": "stream",
     "text": [
      "Out of Train\n",
      "=> Saving checkpoint\n",
      "~~~~ In test ~~~~\n",
      "Loss = 0.7516495402042682\n",
      "IoU Score = 0.5795462131500244\n",
      "Dice Score = 0.7226371765136719\n",
      "~~~~~ Out of test ~~~~~\n",
      "~~~~~epoch => 148\n",
      "Accuracy: 99.38706970214844\n",
      "Dice Score: 0.7226371765136719\n",
      "IOU: 0.5795462131500244\n",
      "Loss: 0.7516495402042682\n",
      "Correct Pixel: 11449390\n",
      "Total Pixel: 11520000\n",
      "~~~~~~~~~~~~~~~~~end epoch\n",
      "In Train\n",
      "length of loader 39\n"
     ]
    },
    {
     "name": "stderr",
     "output_type": "stream",
     "text": [
      "100%|██████████████████████████████████████████████████████████████████████| 39/39 [00:15<00:00,  2.53it/s, loss=0.136]\n"
     ]
    },
    {
     "name": "stdout",
     "output_type": "stream",
     "text": [
      "Out of Train\n",
      "=> Saving checkpoint\n",
      "~~~~ In test ~~~~\n",
      "Loss = 0.7511015488551214\n",
      "IoU Score = 0.5171478986740112\n",
      "Dice Score = 0.6694668531417847\n",
      "~~~~~ Out of test ~~~~~\n",
      "~~~~~epoch => 149\n",
      "Accuracy: 99.29332733154297\n",
      "Dice Score: 0.6694668531417847\n",
      "IOU: 0.5171478986740112\n",
      "Loss: 0.7511015488551214\n",
      "Correct Pixel: 11438591\n",
      "Total Pixel: 11520000\n",
      "~~~~~~~~~~~~~~~~~end epoch\n",
      "In Train\n",
      "length of loader 39\n"
     ]
    },
    {
     "name": "stderr",
     "output_type": "stream",
     "text": [
      "100%|██████████████████████████████████████████████████████████████████████| 39/39 [00:15<00:00,  2.54it/s, loss=0.134]\n"
     ]
    },
    {
     "name": "stdout",
     "output_type": "stream",
     "text": [
      "Out of Train\n",
      "=> Saving checkpoint\n",
      "~~~~ In test ~~~~\n",
      "Loss = 0.7505997006709759\n",
      "IoU Score = 0.4890103042125702\n",
      "Dice Score = 0.642189621925354\n",
      "~~~~~ Out of test ~~~~~\n",
      "~~~~~epoch => 150\n",
      "Accuracy: 99.28273010253906\n",
      "Dice Score: 0.642189621925354\n",
      "IOU: 0.4890103042125702\n",
      "Loss: 0.7505997006709759\n",
      "Correct Pixel: 11437370\n",
      "Total Pixel: 11520000\n",
      "~~~~~~~~~~~~~~~~~end epoch\n",
      "In Train\n",
      "length of loader 39\n"
     ]
    },
    {
     "name": "stderr",
     "output_type": "stream",
     "text": [
      "100%|██████████████████████████████████████████████████████████████████████| 39/39 [00:15<00:00,  2.47it/s, loss=0.133]\n"
     ]
    },
    {
     "name": "stdout",
     "output_type": "stream",
     "text": [
      "Out of Train\n",
      "=> Saving checkpoint\n",
      "~~~~ In test ~~~~\n",
      "Loss = 0.7500733870726365\n",
      "IoU Score = 0.5817627906799316\n",
      "Dice Score = 0.7249643206596375\n",
      "~~~~~ Out of test ~~~~~\n",
      "~~~~~epoch => 151\n",
      "Accuracy: 99.39254760742188\n",
      "Dice Score: 0.7249643206596375\n",
      "IOU: 0.5817627906799316\n",
      "Loss: 0.7500733870726365\n",
      "Correct Pixel: 11450021\n",
      "Total Pixel: 11520000\n",
      "~~~~~~~~~~~~~~~~~end epoch\n",
      "In Train\n",
      "length of loader 39\n"
     ]
    },
    {
     "name": "stderr",
     "output_type": "stream",
     "text": [
      "100%|██████████████████████████████████████████████████████████████████████| 39/39 [00:15<00:00,  2.46it/s, loss=0.128]\n"
     ]
    },
    {
     "name": "stdout",
     "output_type": "stream",
     "text": [
      "Out of Train\n",
      "=> Saving checkpoint\n",
      "~~~~ In test ~~~~\n",
      "Loss = 0.7495620755048898\n",
      "IoU Score = 0.5813137888908386\n",
      "Dice Score = 0.7249612212181091\n",
      "~~~~~ Out of test ~~~~~\n",
      "~~~~~epoch => 152\n",
      "Accuracy: 99.3892822265625\n",
      "Dice Score: 0.7249612212181091\n",
      "IOU: 0.5813137888908386\n",
      "Loss: 0.7495620755048898\n",
      "Correct Pixel: 11449645\n",
      "Total Pixel: 11520000\n",
      "~~~~~~~~~~~~~~~~~end epoch\n",
      "In Train\n",
      "length of loader 39\n"
     ]
    },
    {
     "name": "stderr",
     "output_type": "stream",
     "text": [
      "100%|██████████████████████████████████████████████████████████████████████| 39/39 [00:15<00:00,  2.47it/s, loss=0.139]\n"
     ]
    },
    {
     "name": "stdout",
     "output_type": "stream",
     "text": [
      "Out of Train\n",
      "=> Saving checkpoint\n",
      "~~~~ In test ~~~~\n",
      "Loss = 0.7496123130504901\n",
      "IoU Score = 0.5855842232704163\n",
      "Dice Score = 0.7279685139656067\n",
      "~~~~~ Out of test ~~~~~\n",
      "~~~~~epoch => 153\n",
      "Accuracy: 99.39840698242188\n",
      "Dice Score: 0.7279685139656067\n",
      "IOU: 0.5855842232704163\n",
      "Loss: 0.7496123130504901\n",
      "Correct Pixel: 11450696\n",
      "Total Pixel: 11520000\n",
      "~~~~~~~~~~~~~~~~~end epoch\n",
      "In Train\n",
      "length of loader 39\n"
     ]
    },
    {
     "name": "stderr",
     "output_type": "stream",
     "text": [
      "100%|██████████████████████████████████████████████████████████████████████| 39/39 [00:15<00:00,  2.49it/s, loss=0.175]\n"
     ]
    },
    {
     "name": "stdout",
     "output_type": "stream",
     "text": [
      "Out of Train\n",
      "=> Saving checkpoint\n",
      "~~~~ In test ~~~~\n",
      "Loss = 0.7489849787492019\n",
      "IoU Score = 0.5366275906562805\n",
      "Dice Score = 0.684633195400238\n",
      "~~~~~ Out of test ~~~~~\n",
      "~~~~~epoch => 154\n",
      "Accuracy: 99.33894348144531\n",
      "Dice Score: 0.684633195400238\n",
      "IOU: 0.5366275906562805\n",
      "Loss: 0.7489849787492019\n",
      "Correct Pixel: 11443846\n",
      "Total Pixel: 11520000\n",
      "~~~~~~~~~~~~~~~~~end epoch\n",
      "In Train\n",
      "length of loader 39\n"
     ]
    },
    {
     "name": "stderr",
     "output_type": "stream",
     "text": [
      "100%|██████████████████████████████████████████████████████████████████████| 39/39 [00:15<00:00,  2.49it/s, loss=0.129]\n"
     ]
    },
    {
     "name": "stdout",
     "output_type": "stream",
     "text": [
      "Out of Train\n",
      "=> Saving checkpoint\n",
      "~~~~ In test ~~~~\n",
      "Loss = 0.7483906012315017\n",
      "IoU Score = 0.5558998584747314\n",
      "Dice Score = 0.7013373374938965\n",
      "~~~~~ Out of test ~~~~~\n",
      "~~~~~epoch => 155\n",
      "Accuracy: 99.35661315917969\n",
      "Dice Score: 0.7013373374938965\n",
      "IOU: 0.5558998584747314\n",
      "Loss: 0.7483906012315017\n",
      "Correct Pixel: 11445882\n",
      "Total Pixel: 11520000\n",
      "~~~~~~~~~~~~~~~~~end epoch\n",
      "In Train\n",
      "length of loader 39\n"
     ]
    },
    {
     "name": "stderr",
     "output_type": "stream",
     "text": [
      "100%|██████████████████████████████████████████████████████████████████████| 39/39 [00:15<00:00,  2.50it/s, loss=0.136]\n"
     ]
    },
    {
     "name": "stdout",
     "output_type": "stream",
     "text": [
      "Out of Train\n",
      "=> Saving checkpoint\n",
      "~~~~ In test ~~~~\n",
      "Loss = 0.7480212174929105\n",
      "IoU Score = 0.607795774936676\n",
      "Dice Score = 0.7474993467330933\n",
      "~~~~~ Out of test ~~~~~\n",
      "~~~~~epoch => 156\n",
      "Accuracy: 99.41453552246094\n",
      "Dice Score: 0.7474993467330933\n",
      "IOU: 0.607795774936676\n",
      "Loss: 0.7480212174929105\n",
      "Correct Pixel: 11452555\n",
      "Total Pixel: 11520000\n",
      "~~~~~~~~~~~~~~~~~end epoch\n",
      "In Train\n",
      "length of loader 39\n"
     ]
    },
    {
     "name": "stderr",
     "output_type": "stream",
     "text": [
      "100%|██████████████████████████████████████████████████████████████████████| 39/39 [00:15<00:00,  2.54it/s, loss=0.127]\n"
     ]
    },
    {
     "name": "stdout",
     "output_type": "stream",
     "text": [
      "Out of Train\n",
      "=> Saving checkpoint\n",
      "~~~~ In test ~~~~\n",
      "Loss = 0.7477309933075538\n",
      "IoU Score = 0.5158854722976685\n",
      "Dice Score = 0.6673490405082703\n",
      "~~~~~ Out of test ~~~~~\n",
      "~~~~~epoch => 157\n",
      "Accuracy: 99.31301879882812\n",
      "Dice Score: 0.6673490405082703\n",
      "IOU: 0.5158854722976685\n",
      "Loss: 0.7477309933075538\n",
      "Correct Pixel: 11440860\n",
      "Total Pixel: 11520000\n",
      "~~~~~~~~~~~~~~~~~end epoch\n",
      "In Train\n",
      "length of loader 39\n"
     ]
    },
    {
     "name": "stderr",
     "output_type": "stream",
     "text": [
      "100%|██████████████████████████████████████████████████████████████████████| 39/39 [00:15<00:00,  2.54it/s, loss=0.128]\n"
     ]
    },
    {
     "name": "stdout",
     "output_type": "stream",
     "text": [
      "Out of Train\n",
      "=> Saving checkpoint\n",
      "~~~~ In test ~~~~\n",
      "Loss = 0.7471778209392841\n",
      "IoU Score = 0.5613660216331482\n",
      "Dice Score = 0.7073844075202942\n",
      "~~~~~ Out of test ~~~~~\n",
      "~~~~~epoch => 158\n",
      "Accuracy: 99.36700439453125\n",
      "Dice Score: 0.7073844075202942\n",
      "IOU: 0.5613660216331482\n",
      "Loss: 0.7471778209392841\n",
      "Correct Pixel: 11447079\n",
      "Total Pixel: 11520000\n",
      "~~~~~~~~~~~~~~~~~end epoch\n",
      "In Train\n",
      "length of loader 39\n"
     ]
    },
    {
     "name": "stderr",
     "output_type": "stream",
     "text": [
      "100%|██████████████████████████████████████████████████████████████████████| 39/39 [00:15<00:00,  2.54it/s, loss=0.123]\n"
     ]
    },
    {
     "name": "stdout",
     "output_type": "stream",
     "text": [
      "Out of Train\n",
      "=> Saving checkpoint\n",
      "~~~~ In test ~~~~\n",
      "Loss = 0.7463825849386362\n",
      "IoU Score = 0.6328788995742798\n",
      "Dice Score = 0.7667514085769653\n",
      "~~~~~ Out of test ~~~~~\n",
      "~~~~~epoch => 159\n",
      "Accuracy: 99.44771575927734\n",
      "Dice Score: 0.7667514085769653\n",
      "IOU: 0.6328788995742798\n",
      "Loss: 0.7463825849386362\n",
      "Correct Pixel: 11456377\n",
      "Total Pixel: 11520000\n",
      "~~~~~~~~~~~~~~~~~end epoch\n",
      "In Train\n",
      "length of loader 39\n"
     ]
    },
    {
     "name": "stderr",
     "output_type": "stream",
     "text": [
      "100%|██████████████████████████████████████████████████████████████████████| 39/39 [00:15<00:00,  2.55it/s, loss=0.124]\n"
     ]
    },
    {
     "name": "stdout",
     "output_type": "stream",
     "text": [
      "Out of Train\n",
      "=> Saving checkpoint\n",
      "~~~~ In test ~~~~\n",
      "Loss = 0.7459694376358619\n",
      "IoU Score = 0.6021400094032288\n",
      "Dice Score = 0.7422678470611572\n",
      "~~~~~ Out of test ~~~~~\n",
      "~~~~~epoch => 160\n",
      "Accuracy: 99.42483520507812\n",
      "Dice Score: 0.7422678470611572\n",
      "IOU: 0.6021400094032288\n",
      "Loss: 0.7459694376358619\n",
      "Correct Pixel: 11453741\n",
      "Total Pixel: 11520000\n",
      "~~~~~~~~~~~~~~~~~end epoch\n",
      "In Train\n",
      "length of loader 39\n"
     ]
    },
    {
     "name": "stderr",
     "output_type": "stream",
     "text": [
      "100%|██████████████████████████████████████████████████████████████████████| 39/39 [00:15<00:00,  2.55it/s, loss=0.123]\n"
     ]
    },
    {
     "name": "stdout",
     "output_type": "stream",
     "text": [
      "Out of Train\n",
      "=> Saving checkpoint\n",
      "~~~~ In test ~~~~\n",
      "Loss = 0.7459746599197388\n",
      "IoU Score = 0.6048430800437927\n",
      "Dice Score = 0.7438677549362183\n",
      "~~~~~ Out of test ~~~~~\n",
      "~~~~~epoch => 161\n",
      "Accuracy: 99.41436767578125\n",
      "Dice Score: 0.7438677549362183\n",
      "IOU: 0.6048430800437927\n",
      "Loss: 0.7459746599197388\n",
      "Correct Pixel: 11452535\n",
      "Total Pixel: 11520000\n",
      "~~~~~~~~~~~~~~~~~end epoch\n",
      "In Train\n",
      "length of loader 39\n"
     ]
    },
    {
     "name": "stderr",
     "output_type": "stream",
     "text": [
      "100%|██████████████████████████████████████████████████████████████████████| 39/39 [00:15<00:00,  2.54it/s, loss=0.125]\n"
     ]
    },
    {
     "name": "stdout",
     "output_type": "stream",
     "text": [
      "Out of Train\n",
      "=> Saving checkpoint\n",
      "~~~~ In test ~~~~\n",
      "Loss = 0.7450979902194097\n",
      "IoU Score = 0.6192254424095154\n",
      "Dice Score = 0.7551431059837341\n",
      "~~~~~ Out of test ~~~~~\n",
      "~~~~~epoch => 162\n",
      "Accuracy: 99.42955017089844\n",
      "Dice Score: 0.7551431059837341\n",
      "IOU: 0.6192254424095154\n",
      "Loss: 0.7450979902194097\n",
      "Correct Pixel: 11454284\n",
      "Total Pixel: 11520000\n",
      "~~~~~~~~~~~~~~~~~end epoch\n",
      "In Train\n",
      "length of loader 39\n"
     ]
    },
    {
     "name": "stderr",
     "output_type": "stream",
     "text": [
      "100%|██████████████████████████████████████████████████████████████████████| 39/39 [00:15<00:00,  2.52it/s, loss=0.123]\n"
     ]
    },
    {
     "name": "stdout",
     "output_type": "stream",
     "text": [
      "Out of Train\n",
      "=> Saving checkpoint\n",
      "~~~~ In test ~~~~\n",
      "Loss = 0.7450021092708294\n",
      "IoU Score = 0.5789462327957153\n",
      "Dice Score = 0.7223280668258667\n",
      "~~~~~ Out of test ~~~~~\n",
      "~~~~~epoch => 163\n",
      "Accuracy: 99.3895263671875\n",
      "Dice Score: 0.7223280668258667\n",
      "IOU: 0.5789462327957153\n",
      "Loss: 0.7450021092708294\n",
      "Correct Pixel: 11449673\n",
      "Total Pixel: 11520000\n",
      "~~~~~~~~~~~~~~~~~end epoch\n",
      "In Train\n",
      "length of loader 39\n"
     ]
    },
    {
     "name": "stderr",
     "output_type": "stream",
     "text": [
      "100%|██████████████████████████████████████████████████████████████████████| 39/39 [00:15<00:00,  2.53it/s, loss=0.119]\n"
     ]
    },
    {
     "name": "stdout",
     "output_type": "stream",
     "text": [
      "Out of Train\n",
      "=> Saving checkpoint\n",
      "~~~~ In test ~~~~\n",
      "Loss = 0.7445671283281766\n",
      "IoU Score = 0.5580724477767944\n",
      "Dice Score = 0.7023645043373108\n",
      "~~~~~ Out of test ~~~~~\n",
      "~~~~~epoch => 164\n",
      "Accuracy: 99.36846923828125\n",
      "Dice Score: 0.7023645043373108\n",
      "IOU: 0.5580724477767944\n",
      "Loss: 0.7445671283281766\n",
      "Correct Pixel: 11447248\n",
      "Total Pixel: 11520000\n",
      "~~~~~~~~~~~~~~~~~end epoch\n",
      "In Train\n",
      "length of loader 39\n"
     ]
    },
    {
     "name": "stderr",
     "output_type": "stream",
     "text": [
      "100%|██████████████████████████████████████████████████████████████████████| 39/39 [00:15<00:00,  2.55it/s, loss=0.125]\n"
     ]
    },
    {
     "name": "stdout",
     "output_type": "stream",
     "text": [
      "Out of Train\n",
      "=> Saving checkpoint\n",
      "~~~~ In test ~~~~\n",
      "Loss = 0.7441169298612155\n",
      "IoU Score = 0.5889555811882019\n",
      "Dice Score = 0.7310014963150024\n",
      "~~~~~ Out of test ~~~~~\n",
      "~~~~~epoch => 165\n",
      "Accuracy: 99.40475463867188\n",
      "Dice Score: 0.7310014963150024\n",
      "IOU: 0.5889555811882019\n",
      "Loss: 0.7441169298612155\n",
      "Correct Pixel: 11451427\n",
      "Total Pixel: 11520000\n",
      "~~~~~~~~~~~~~~~~~end epoch\n",
      "In Train\n",
      "length of loader 39\n"
     ]
    },
    {
     "name": "stderr",
     "output_type": "stream",
     "text": [
      "100%|██████████████████████████████████████████████████████████████████████| 39/39 [00:15<00:00,  2.54it/s, loss=0.162]\n"
     ]
    },
    {
     "name": "stdout",
     "output_type": "stream",
     "text": [
      "Out of Train\n",
      "=> Saving checkpoint\n",
      "~~~~ In test ~~~~\n",
      "Loss = 0.7461321170513446\n",
      "IoU Score = 0.631287157535553\n",
      "Dice Score = 0.767572283744812\n",
      "~~~~~ Out of test ~~~~~\n",
      "~~~~~epoch => 166\n",
      "Accuracy: 99.41728210449219\n",
      "Dice Score: 0.767572283744812\n",
      "IOU: 0.631287157535553\n",
      "Loss: 0.7461321170513446\n",
      "Correct Pixel: 11452871\n",
      "Total Pixel: 11520000\n",
      "~~~~~~~~~~~~~~~~~end epoch\n",
      "In Train\n",
      "length of loader 39\n"
     ]
    },
    {
     "name": "stderr",
     "output_type": "stream",
     "text": [
      "100%|██████████████████████████████████████████████████████████████████████| 39/39 [00:15<00:00,  2.55it/s, loss=0.118]\n"
     ]
    },
    {
     "name": "stdout",
     "output_type": "stream",
     "text": [
      "Out of Train\n",
      "=> Saving checkpoint\n",
      "~~~~ In test ~~~~\n",
      "Loss = 0.7440191415640024\n",
      "IoU Score = 0.4974925220012665\n",
      "Dice Score = 0.649650514125824\n",
      "~~~~~ Out of test ~~~~~\n",
      "~~~~~epoch => 167\n",
      "Accuracy: 99.28831481933594\n",
      "Dice Score: 0.649650514125824\n",
      "IOU: 0.4974925220012665\n",
      "Loss: 0.7440191415640024\n",
      "Correct Pixel: 11438014\n",
      "Total Pixel: 11520000\n",
      "~~~~~~~~~~~~~~~~~end epoch\n",
      "In Train\n",
      "length of loader 39\n"
     ]
    },
    {
     "name": "stderr",
     "output_type": "stream",
     "text": [
      "100%|██████████████████████████████████████████████████████████████████████| 39/39 [00:15<00:00,  2.56it/s, loss=0.123]\n"
     ]
    },
    {
     "name": "stdout",
     "output_type": "stream",
     "text": [
      "Out of Train\n",
      "=> Saving checkpoint\n",
      "~~~~ In test ~~~~\n",
      "Loss = 0.7434521042383634\n",
      "IoU Score = 0.4461691379547119\n",
      "Dice Score = 0.6013751029968262\n",
      "~~~~~ Out of test ~~~~~\n",
      "~~~~~epoch => 168\n",
      "Accuracy: 99.21543884277344\n",
      "Dice Score: 0.6013751029968262\n",
      "IOU: 0.4461691379547119\n",
      "Loss: 0.7434521042383634\n",
      "Correct Pixel: 11429618\n",
      "Total Pixel: 11520000\n",
      "~~~~~~~~~~~~~~~~~end epoch\n",
      "In Train\n",
      "length of loader 39\n"
     ]
    },
    {
     "name": "stderr",
     "output_type": "stream",
     "text": [
      "100%|███████████████████████████████████████████████████████████████████████| 39/39 [00:15<00:00,  2.55it/s, loss=0.12]\n"
     ]
    },
    {
     "name": "stdout",
     "output_type": "stream",
     "text": [
      "Out of Train\n",
      "=> Saving checkpoint\n",
      "~~~~ In test ~~~~\n",
      "Loss = 0.742877510877756\n",
      "IoU Score = 0.550776481628418\n",
      "Dice Score = 0.6976314783096313\n",
      "~~~~~ Out of test ~~~~~\n",
      "~~~~~epoch => 169\n",
      "Accuracy: 99.3587417602539\n",
      "Dice Score: 0.6976314783096313\n",
      "IOU: 0.550776481628418\n",
      "Loss: 0.742877510877756\n",
      "Correct Pixel: 11446127\n",
      "Total Pixel: 11520000\n",
      "~~~~~~~~~~~~~~~~~end epoch\n",
      "In Train\n",
      "length of loader 39\n"
     ]
    },
    {
     "name": "stderr",
     "output_type": "stream",
     "text": [
      "100%|██████████████████████████████████████████████████████████████████████| 39/39 [00:15<00:00,  2.54it/s, loss=0.145]\n"
     ]
    },
    {
     "name": "stdout",
     "output_type": "stream",
     "text": [
      "Out of Train\n",
      "=> Saving checkpoint\n",
      "~~~~ In test ~~~~\n",
      "Loss = 0.7432490082887503\n",
      "IoU Score = 0.5811918377876282\n",
      "Dice Score = 0.7251505851745605\n",
      "~~~~~ Out of test ~~~~~\n",
      "~~~~~epoch => 170\n",
      "Accuracy: 99.39419555664062\n",
      "Dice Score: 0.7251505851745605\n",
      "IOU: 0.5811918377876282\n",
      "Loss: 0.7432490082887503\n",
      "Correct Pixel: 11450211\n",
      "Total Pixel: 11520000\n",
      "~~~~~~~~~~~~~~~~~end epoch\n",
      "In Train\n",
      "length of loader 39\n"
     ]
    },
    {
     "name": "stderr",
     "output_type": "stream",
     "text": [
      "100%|██████████████████████████████████████████████████████████████████████| 39/39 [00:15<00:00,  2.50it/s, loss=0.126]\n"
     ]
    },
    {
     "name": "stdout",
     "output_type": "stream",
     "text": [
      "Out of Train\n",
      "=> Saving checkpoint\n",
      "~~~~ In test ~~~~\n",
      "Loss = 0.7419367753542386\n",
      "IoU Score = 0.5653521418571472\n",
      "Dice Score = 0.7082886099815369\n",
      "~~~~~ Out of test ~~~~~\n",
      "~~~~~epoch => 171\n",
      "Accuracy: 99.3683090209961\n",
      "Dice Score: 0.7082886099815369\n",
      "IOU: 0.5653521418571472\n",
      "Loss: 0.7419367753542386\n",
      "Correct Pixel: 11447229\n",
      "Total Pixel: 11520000\n",
      "~~~~~~~~~~~~~~~~~end epoch\n",
      "In Train\n",
      "length of loader 39\n"
     ]
    },
    {
     "name": "stderr",
     "output_type": "stream",
     "text": [
      "100%|██████████████████████████████████████████████████████████████████████| 39/39 [00:15<00:00,  2.49it/s, loss=0.115]\n"
     ]
    },
    {
     "name": "stdout",
     "output_type": "stream",
     "text": [
      "Out of Train\n",
      "=> Saving checkpoint\n",
      "~~~~ In test ~~~~\n",
      "Loss = 0.7417581860835736\n",
      "IoU Score = 0.5611314177513123\n",
      "Dice Score = 0.7053742408752441\n",
      "~~~~~ Out of test ~~~~~\n",
      "~~~~~epoch => 172\n",
      "Accuracy: 99.3572998046875\n",
      "Dice Score: 0.7053742408752441\n",
      "IOU: 0.5611314177513123\n",
      "Loss: 0.7417581860835736\n",
      "Correct Pixel: 11445961\n",
      "Total Pixel: 11520000\n",
      "~~~~~~~~~~~~~~~~~end epoch\n",
      "In Train\n",
      "length of loader 39\n"
     ]
    },
    {
     "name": "stderr",
     "output_type": "stream",
     "text": [
      "100%|██████████████████████████████████████████████████████████████████████| 39/39 [00:15<00:00,  2.50it/s, loss=0.112]\n"
     ]
    },
    {
     "name": "stdout",
     "output_type": "stream",
     "text": [
      "Out of Train\n",
      "=> Saving checkpoint\n",
      "~~~~ In test ~~~~\n",
      "Loss = 0.7412053346633911\n",
      "IoU Score = 0.6088650822639465\n",
      "Dice Score = 0.7474521994590759\n",
      "~~~~~ Out of test ~~~~~\n",
      "~~~~~epoch => 173\n",
      "Accuracy: 99.41140747070312\n",
      "Dice Score: 0.7474521994590759\n",
      "IOU: 0.6088650822639465\n",
      "Loss: 0.7412053346633911\n",
      "Correct Pixel: 11452194\n",
      "Total Pixel: 11520000\n",
      "~~~~~~~~~~~~~~~~~end epoch\n",
      "In Train\n",
      "length of loader 39\n"
     ]
    },
    {
     "name": "stderr",
     "output_type": "stream",
     "text": [
      "100%|███████████████████████████████████████████████████████████████████████| 39/39 [00:15<00:00,  2.55it/s, loss=0.11]\n"
     ]
    },
    {
     "name": "stdout",
     "output_type": "stream",
     "text": [
      "Out of Train\n",
      "=> Saving checkpoint\n",
      "~~~~ In test ~~~~\n",
      "Loss = 0.7408897464091961\n",
      "IoU Score = 0.5410492420196533\n",
      "Dice Score = 0.6907602548599243\n",
      "~~~~~ Out of test ~~~~~\n",
      "~~~~~epoch => 174\n",
      "Accuracy: 99.32051086425781\n",
      "Dice Score: 0.6907602548599243\n",
      "IOU: 0.5410492420196533\n",
      "Loss: 0.7408897464091961\n",
      "Correct Pixel: 11441723\n",
      "Total Pixel: 11520000\n",
      "~~~~~~~~~~~~~~~~~end epoch\n",
      "In Train\n",
      "length of loader 39\n"
     ]
    },
    {
     "name": "stderr",
     "output_type": "stream",
     "text": [
      "100%|██████████████████████████████████████████████████████████████████████| 39/39 [00:15<00:00,  2.55it/s, loss=0.112]\n"
     ]
    },
    {
     "name": "stdout",
     "output_type": "stream",
     "text": [
      "Out of Train\n",
      "=> Saving checkpoint\n",
      "~~~~ In test ~~~~\n",
      "Loss = 0.7402588174893305\n",
      "IoU Score = 0.5788035988807678\n",
      "Dice Score = 0.7224647402763367\n",
      "~~~~~ Out of test ~~~~~\n",
      "~~~~~epoch => 175\n",
      "Accuracy: 99.3575668334961\n",
      "Dice Score: 0.7224647402763367\n",
      "IOU: 0.5788035988807678\n",
      "Loss: 0.7402588174893305\n",
      "Correct Pixel: 11445992\n",
      "Total Pixel: 11520000\n",
      "~~~~~~~~~~~~~~~~~end epoch\n",
      "In Train\n",
      "length of loader 39\n"
     ]
    },
    {
     "name": "stderr",
     "output_type": "stream",
     "text": [
      "100%|██████████████████████████████████████████████████████████████████████| 39/39 [00:15<00:00,  2.56it/s, loss=0.115]\n"
     ]
    },
    {
     "name": "stdout",
     "output_type": "stream",
     "text": [
      "Out of Train\n",
      "=> Saving checkpoint\n",
      "~~~~ In test ~~~~\n",
      "Loss = 0.7398872237939101\n",
      "IoU Score = 0.5872241854667664\n",
      "Dice Score = 0.729943573474884\n",
      "~~~~~ Out of test ~~~~~\n",
      "~~~~~epoch => 176\n",
      "Accuracy: 99.40007019042969\n",
      "Dice Score: 0.729943573474884\n",
      "IOU: 0.5872241854667664\n",
      "Loss: 0.7398872237939101\n",
      "Correct Pixel: 11450888\n",
      "Total Pixel: 11520000\n",
      "~~~~~~~~~~~~~~~~~end epoch\n",
      "In Train\n",
      "length of loader 39\n"
     ]
    },
    {
     "name": "stderr",
     "output_type": "stream",
     "text": [
      "100%|██████████████████████████████████████████████████████████████████████| 39/39 [00:15<00:00,  2.55it/s, loss=0.114]\n"
     ]
    },
    {
     "name": "stdout",
     "output_type": "stream",
     "text": [
      "Out of Train\n",
      "=> Saving checkpoint\n",
      "~~~~ In test ~~~~\n",
      "Loss = 0.7394623664709238\n",
      "IoU Score = 0.5974156856536865\n",
      "Dice Score = 0.7381531000137329\n",
      "~~~~~ Out of test ~~~~~\n",
      "~~~~~epoch => 177\n",
      "Accuracy: 99.41084289550781\n",
      "Dice Score: 0.7381531000137329\n",
      "IOU: 0.5974156856536865\n",
      "Loss: 0.7394623664709238\n",
      "Correct Pixel: 11452129\n",
      "Total Pixel: 11520000\n",
      "~~~~~~~~~~~~~~~~~end epoch\n",
      "In Train\n",
      "length of loader 39\n"
     ]
    },
    {
     "name": "stderr",
     "output_type": "stream",
     "text": [
      "100%|██████████████████████████████████████████████████████████████████████| 39/39 [00:15<00:00,  2.53it/s, loss=0.109]\n"
     ]
    },
    {
     "name": "stdout",
     "output_type": "stream",
     "text": [
      "Out of Train\n",
      "=> Saving checkpoint\n",
      "~~~~ In test ~~~~\n",
      "Loss = 0.7390092886411227\n",
      "IoU Score = 0.5930102467536926\n",
      "Dice Score = 0.7338691353797913\n",
      "~~~~~ Out of test ~~~~~\n",
      "~~~~~epoch => 178\n",
      "Accuracy: 99.39900207519531\n",
      "Dice Score: 0.7338691353797913\n",
      "IOU: 0.5930102467536926\n",
      "Loss: 0.7390092886411227\n",
      "Correct Pixel: 11450765\n",
      "Total Pixel: 11520000\n",
      "~~~~~~~~~~~~~~~~~end epoch\n",
      "In Train\n",
      "length of loader 39\n"
     ]
    },
    {
     "name": "stderr",
     "output_type": "stream",
     "text": [
      "100%|██████████████████████████████████████████████████████████████████████| 39/39 [00:15<00:00,  2.55it/s, loss=0.109]\n"
     ]
    },
    {
     "name": "stdout",
     "output_type": "stream",
     "text": [
      "Out of Train\n",
      "=> Saving checkpoint\n",
      "~~~~ In test ~~~~\n",
      "Loss = 0.7387724748024573\n",
      "IoU Score = 0.5884392857551575\n",
      "Dice Score = 0.7310634851455688\n",
      "~~~~~ Out of test ~~~~~\n",
      "~~~~~epoch => 179\n",
      "Accuracy: 99.3994369506836\n",
      "Dice Score: 0.7310634851455688\n",
      "IOU: 0.5884392857551575\n",
      "Loss: 0.7387724748024573\n",
      "Correct Pixel: 11450815\n",
      "Total Pixel: 11520000\n",
      "~~~~~~~~~~~~~~~~~end epoch\n",
      "In Train\n",
      "length of loader 39\n"
     ]
    },
    {
     "name": "stderr",
     "output_type": "stream",
     "text": [
      "100%|██████████████████████████████████████████████████████████████████████| 39/39 [00:15<00:00,  2.53it/s, loss=0.107]\n"
     ]
    },
    {
     "name": "stdout",
     "output_type": "stream",
     "text": [
      "Out of Train\n",
      "=> Saving checkpoint\n",
      "~~~~ In test ~~~~\n",
      "Loss = 0.738432737497183\n",
      "IoU Score = 0.6058024764060974\n",
      "Dice Score = 0.7459327578544617\n",
      "~~~~~ Out of test ~~~~~\n",
      "~~~~~epoch => 180\n",
      "Accuracy: 99.41426849365234\n",
      "Dice Score: 0.7459327578544617\n",
      "IOU: 0.6058024764060974\n",
      "Loss: 0.738432737497183\n",
      "Correct Pixel: 11452523\n",
      "Total Pixel: 11520000\n",
      "~~~~~~~~~~~~~~~~~end epoch\n",
      "In Train\n",
      "length of loader 39\n"
     ]
    },
    {
     "name": "stderr",
     "output_type": "stream",
     "text": [
      "100%|██████████████████████████████████████████████████████████████████████| 39/39 [00:16<00:00,  2.41it/s, loss=0.116]\n"
     ]
    },
    {
     "name": "stdout",
     "output_type": "stream",
     "text": [
      "Out of Train\n",
      "=> Saving checkpoint\n",
      "~~~~ In test ~~~~\n",
      "Loss = 0.7378547466718234\n",
      "IoU Score = 0.5960257649421692\n",
      "Dice Score = 0.737714409828186\n",
      "~~~~~ Out of test ~~~~~\n",
      "~~~~~epoch => 181\n",
      "Accuracy: 99.4100112915039\n",
      "Dice Score: 0.737714409828186\n",
      "IOU: 0.5960257649421692\n",
      "Loss: 0.7378547466718234\n",
      "Correct Pixel: 11452033\n",
      "Total Pixel: 11520000\n",
      "~~~~~~~~~~~~~~~~~end epoch\n",
      "In Train\n",
      "length of loader 39\n"
     ]
    },
    {
     "name": "stderr",
     "output_type": "stream",
     "text": [
      "100%|██████████████████████████████████████████████████████████████████████| 39/39 [00:15<00:00,  2.49it/s, loss=0.109]\n"
     ]
    },
    {
     "name": "stdout",
     "output_type": "stream",
     "text": [
      "Out of Train\n",
      "=> Saving checkpoint\n",
      "~~~~ In test ~~~~\n",
      "Loss = 0.7377694753500131\n",
      "IoU Score = 0.6198331713676453\n",
      "Dice Score = 0.7570854425430298\n",
      "~~~~~ Out of test ~~~~~\n",
      "~~~~~epoch => 182\n",
      "Accuracy: 99.43816375732422\n",
      "Dice Score: 0.7570854425430298\n",
      "IOU: 0.6198331713676453\n",
      "Loss: 0.7377694753500131\n",
      "Correct Pixel: 11455277\n",
      "Total Pixel: 11520000\n",
      "~~~~~~~~~~~~~~~~~end epoch\n",
      "In Train\n",
      "length of loader 39\n"
     ]
    },
    {
     "name": "stderr",
     "output_type": "stream",
     "text": [
      "100%|██████████████████████████████████████████████████████████████████████| 39/39 [00:15<00:00,  2.47it/s, loss=0.106]\n"
     ]
    },
    {
     "name": "stdout",
     "output_type": "stream",
     "text": [
      "Out of Train\n",
      "=> Saving checkpoint\n",
      "~~~~ In test ~~~~\n",
      "Loss = 0.7372685808401841\n",
      "IoU Score = 0.5844798684120178\n",
      "Dice Score = 0.7270679473876953\n",
      "~~~~~ Out of test ~~~~~\n",
      "~~~~~epoch => 183\n",
      "Accuracy: 99.39838409423828\n",
      "Dice Score: 0.7270679473876953\n",
      "IOU: 0.5844798684120178\n",
      "Loss: 0.7372685808401841\n",
      "Correct Pixel: 11450694\n",
      "Total Pixel: 11520000\n",
      "~~~~~~~~~~~~~~~~~end epoch\n",
      "In Train\n",
      "length of loader 39\n"
     ]
    },
    {
     "name": "stderr",
     "output_type": "stream",
     "text": [
      "100%|██████████████████████████████████████████████████████████████████████| 39/39 [00:15<00:00,  2.53it/s, loss=0.105]\n"
     ]
    },
    {
     "name": "stdout",
     "output_type": "stream",
     "text": [
      "Out of Train\n",
      "=> Saving checkpoint\n",
      "~~~~ In test ~~~~\n",
      "Loss = 0.7366457627369807\n",
      "IoU Score = 0.6076733469963074\n",
      "Dice Score = 0.7465912103652954\n",
      "~~~~~ Out of test ~~~~~\n",
      "~~~~~epoch => 184\n",
      "Accuracy: 99.4179458618164\n",
      "Dice Score: 0.7465912103652954\n",
      "IOU: 0.6076733469963074\n",
      "Loss: 0.7366457627369807\n",
      "Correct Pixel: 11452947\n",
      "Total Pixel: 11520000\n",
      "~~~~~~~~~~~~~~~~~end epoch\n",
      "In Train\n",
      "length of loader 39\n"
     ]
    },
    {
     "name": "stderr",
     "output_type": "stream",
     "text": [
      "100%|██████████████████████████████████████████████████████████████████████| 39/39 [00:15<00:00,  2.56it/s, loss=0.101]\n"
     ]
    },
    {
     "name": "stdout",
     "output_type": "stream",
     "text": [
      "Out of Train\n",
      "=> Saving checkpoint\n",
      "~~~~ In test ~~~~\n",
      "Loss = 0.7362236426426814\n",
      "IoU Score = 0.578950822353363\n",
      "Dice Score = 0.722465991973877\n",
      "~~~~~ Out of test ~~~~~\n",
      "~~~~~epoch => 185\n",
      "Accuracy: 99.3903579711914\n",
      "Dice Score: 0.722465991973877\n",
      "IOU: 0.578950822353363\n",
      "Loss: 0.7362236426426814\n",
      "Correct Pixel: 11449769\n",
      "Total Pixel: 11520000\n",
      "~~~~~~~~~~~~~~~~~end epoch\n",
      "In Train\n",
      "length of loader 39\n"
     ]
    },
    {
     "name": "stderr",
     "output_type": "stream",
     "text": [
      "100%|██████████████████████████████████████████████████████████████████████| 39/39 [00:15<00:00,  2.49it/s, loss=0.102]\n"
     ]
    },
    {
     "name": "stdout",
     "output_type": "stream",
     "text": [
      "Out of Train\n",
      "=> Saving checkpoint\n",
      "~~~~ In test ~~~~\n",
      "Loss = 0.7359435099821824\n",
      "IoU Score = 0.6287819743156433\n",
      "Dice Score = 0.7646616697311401\n",
      "~~~~~ Out of test ~~~~~\n",
      "~~~~~epoch => 186\n",
      "Accuracy: 99.44348907470703\n",
      "Dice Score: 0.7646616697311401\n",
      "IOU: 0.6287819743156433\n",
      "Loss: 0.7359435099821824\n",
      "Correct Pixel: 11455890\n",
      "Total Pixel: 11520000\n",
      "~~~~~~~~~~~~~~~~~end epoch\n",
      "In Train\n",
      "length of loader 39\n"
     ]
    },
    {
     "name": "stderr",
     "output_type": "stream",
     "text": [
      "100%|██████████████████████████████████████████████████████████████████████| 39/39 [00:17<00:00,  2.26it/s, loss=0.134]\n"
     ]
    },
    {
     "name": "stdout",
     "output_type": "stream",
     "text": [
      "Out of Train\n",
      "=> Saving checkpoint\n",
      "~~~~ In test ~~~~\n",
      "Loss = 0.7375370951799246\n",
      "IoU Score = 0.5906491279602051\n",
      "Dice Score = 0.7324824333190918\n",
      "~~~~~ Out of test ~~~~~\n",
      "~~~~~epoch => 187\n",
      "Accuracy: 99.40228271484375\n",
      "Dice Score: 0.7324824333190918\n",
      "IOU: 0.5906491279602051\n",
      "Loss: 0.7375370951799246\n",
      "Correct Pixel: 11451143\n",
      "Total Pixel: 11520000\n",
      "~~~~~~~~~~~~~~~~~end epoch\n",
      "In Train\n",
      "length of loader 39\n"
     ]
    },
    {
     "name": "stderr",
     "output_type": "stream",
     "text": [
      "100%|██████████████████████████████████████████████████████████████████████| 39/39 [00:15<00:00,  2.53it/s, loss=0.111]\n"
     ]
    },
    {
     "name": "stdout",
     "output_type": "stream",
     "text": [
      "Out of Train\n",
      "=> Saving checkpoint\n",
      "~~~~ In test ~~~~\n",
      "Loss = 0.7358212562707754\n",
      "IoU Score = 0.6062939763069153\n",
      "Dice Score = 0.7452913522720337\n",
      "~~~~~ Out of test ~~~~~\n",
      "~~~~~epoch => 188\n",
      "Accuracy: 99.42638397216797\n",
      "Dice Score: 0.7452913522720337\n",
      "IOU: 0.6062939763069153\n",
      "Loss: 0.7358212562707754\n",
      "Correct Pixel: 11453919\n",
      "Total Pixel: 11520000\n",
      "~~~~~~~~~~~~~~~~~end epoch\n",
      "In Train\n",
      "length of loader 39\n"
     ]
    },
    {
     "name": "stderr",
     "output_type": "stream",
     "text": [
      "100%|██████████████████████████████████████████████████████████████████████| 39/39 [00:15<00:00,  2.53it/s, loss=0.101]\n"
     ]
    },
    {
     "name": "stdout",
     "output_type": "stream",
     "text": [
      "Out of Train\n",
      "=> Saving checkpoint\n",
      "~~~~ In test ~~~~\n",
      "Loss = 0.7351728448501\n",
      "IoU Score = 0.6052245497703552\n",
      "Dice Score = 0.7444936037063599\n",
      "~~~~~ Out of test ~~~~~\n",
      "~~~~~epoch => 189\n",
      "Accuracy: 99.41078186035156\n",
      "Dice Score: 0.7444936037063599\n",
      "IOU: 0.6052245497703552\n",
      "Loss: 0.7351728448501\n",
      "Correct Pixel: 11452122\n",
      "Total Pixel: 11520000\n",
      "~~~~~~~~~~~~~~~~~end epoch\n",
      "In Train\n",
      "length of loader 39\n"
     ]
    },
    {
     "name": "stderr",
     "output_type": "stream",
     "text": [
      "100%|██████████████████████████████████████████████████████████████████████| 39/39 [00:15<00:00,  2.53it/s, loss=0.104]\n"
     ]
    },
    {
     "name": "stdout",
     "output_type": "stream",
     "text": [
      "Out of Train\n",
      "=> Saving checkpoint\n",
      "~~~~ In test ~~~~\n",
      "Loss = 0.7345867294531602\n",
      "IoU Score = 0.6462937593460083\n",
      "Dice Score = 0.777606189250946\n",
      "~~~~~ Out of test ~~~~~\n",
      "~~~~~epoch => 190\n",
      "Accuracy: 99.47244262695312\n",
      "Dice Score: 0.777606189250946\n",
      "IOU: 0.6462937593460083\n",
      "Loss: 0.7345867294531602\n",
      "Correct Pixel: 11459225\n",
      "Total Pixel: 11520000\n",
      "~~~~~~~~~~~~~~~~~end epoch\n",
      "In Train\n",
      "length of loader 39\n"
     ]
    },
    {
     "name": "stderr",
     "output_type": "stream",
     "text": [
      "100%|████████████████████████████████████████████████████████████████████████| 39/39 [00:15<00:00,  2.52it/s, loss=0.1]\n"
     ]
    },
    {
     "name": "stdout",
     "output_type": "stream",
     "text": [
      "Out of Train\n",
      "=> Saving checkpoint\n",
      "~~~~ In test ~~~~\n",
      "Loss = 0.7341157152102544\n",
      "IoU Score = 0.6459130644798279\n",
      "Dice Score = 0.7774757742881775\n",
      "~~~~~ Out of test ~~~~~\n",
      "~~~~~epoch => 191\n",
      "Accuracy: 99.45922088623047\n",
      "Dice Score: 0.7774757742881775\n",
      "IOU: 0.6459130644798279\n",
      "Loss: 0.7341157152102544\n",
      "Correct Pixel: 11457702\n",
      "Total Pixel: 11520000\n",
      "~~~~~~~~~~~~~~~~~end epoch\n",
      "In Train\n",
      "length of loader 39\n"
     ]
    },
    {
     "name": "stderr",
     "output_type": "stream",
     "text": [
      "100%|█████████████████████████████████████████████████████████████████████| 39/39 [00:15<00:00,  2.52it/s, loss=0.0993]\n"
     ]
    },
    {
     "name": "stdout",
     "output_type": "stream",
     "text": [
      "Out of Train\n",
      "=> Saving checkpoint\n",
      "~~~~ In test ~~~~\n",
      "Loss = 0.7338983508256766\n",
      "IoU Score = 0.6422207355499268\n",
      "Dice Score = 0.7756354808807373\n",
      "~~~~~ Out of test ~~~~~\n",
      "~~~~~epoch => 192\n",
      "Accuracy: 99.45323181152344\n",
      "Dice Score: 0.7756354808807373\n",
      "IOU: 0.6422207355499268\n",
      "Loss: 0.7338983508256766\n",
      "Correct Pixel: 11457012\n",
      "Total Pixel: 11520000\n",
      "~~~~~~~~~~~~~~~~~end epoch\n",
      "In Train\n",
      "length of loader 39\n"
     ]
    },
    {
     "name": "stderr",
     "output_type": "stream",
     "text": [
      "100%|█████████████████████████████████████████████████████████████████████| 39/39 [00:15<00:00,  2.54it/s, loss=0.0952]\n"
     ]
    },
    {
     "name": "stdout",
     "output_type": "stream",
     "text": [
      "Out of Train\n",
      "=> Saving checkpoint\n",
      "~~~~ In test ~~~~\n",
      "Loss = 0.7334579642002399\n",
      "IoU Score = 0.6467882990837097\n",
      "Dice Score = 0.7780522704124451\n",
      "~~~~~ Out of test ~~~~~\n",
      "~~~~~epoch => 193\n",
      "Accuracy: 99.468505859375\n",
      "Dice Score: 0.7780522704124451\n",
      "IOU: 0.6467882990837097\n",
      "Loss: 0.7334579642002399\n",
      "Correct Pixel: 11458772\n",
      "Total Pixel: 11520000\n",
      "~~~~~~~~~~~~~~~~~end epoch\n",
      "In Train\n",
      "length of loader 39\n"
     ]
    },
    {
     "name": "stderr",
     "output_type": "stream",
     "text": [
      "100%|█████████████████████████████████████████████████████████████████████| 39/39 [00:15<00:00,  2.53it/s, loss=0.0986]\n"
     ]
    },
    {
     "name": "stdout",
     "output_type": "stream",
     "text": [
      "Out of Train\n",
      "=> Saving checkpoint\n",
      "~~~~ In test ~~~~\n",
      "Loss = 0.7330291958955618\n",
      "IoU Score = 0.5927872061729431\n",
      "Dice Score = 0.7339199185371399\n",
      "~~~~~ Out of test ~~~~~\n",
      "~~~~~epoch => 194\n",
      "Accuracy: 99.40447235107422\n",
      "Dice Score: 0.7339199185371399\n",
      "IOU: 0.5927872061729431\n",
      "Loss: 0.7330291958955618\n",
      "Correct Pixel: 11451395\n",
      "Total Pixel: 11520000\n",
      "~~~~~~~~~~~~~~~~~end epoch\n",
      "In Train\n",
      "length of loader 39\n"
     ]
    },
    {
     "name": "stderr",
     "output_type": "stream",
     "text": [
      "100%|█████████████████████████████████████████████████████████████████████| 39/39 [00:15<00:00,  2.50it/s, loss=0.0947]\n"
     ]
    },
    {
     "name": "stdout",
     "output_type": "stream",
     "text": [
      "Out of Train\n",
      "=> Saving checkpoint\n",
      "~~~~ In test ~~~~\n",
      "Loss = 0.7328675572688763\n",
      "IoU Score = 0.6356728672981262\n",
      "Dice Score = 0.7703350782394409\n",
      "~~~~~ Out of test ~~~~~\n",
      "~~~~~epoch => 195\n",
      "Accuracy: 99.45576477050781\n",
      "Dice Score: 0.7703350782394409\n",
      "IOU: 0.6356728672981262\n",
      "Loss: 0.7328675572688763\n",
      "Correct Pixel: 11457304\n",
      "Total Pixel: 11520000\n",
      "~~~~~~~~~~~~~~~~~end epoch\n",
      "In Train\n",
      "length of loader 39\n"
     ]
    },
    {
     "name": "stderr",
     "output_type": "stream",
     "text": [
      "100%|█████████████████████████████████████████████████████████████████████| 39/39 [00:15<00:00,  2.49it/s, loss=0.0952]\n"
     ]
    },
    {
     "name": "stdout",
     "output_type": "stream",
     "text": [
      "Out of Train\n",
      "=> Saving checkpoint\n",
      "~~~~ In test ~~~~\n",
      "Loss = 0.7326138478059036\n",
      "IoU Score = 0.6257311701774597\n",
      "Dice Score = 0.7621839642524719\n",
      "~~~~~ Out of test ~~~~~\n",
      "~~~~~epoch => 196\n",
      "Accuracy: 99.44850158691406\n",
      "Dice Score: 0.7621839642524719\n",
      "IOU: 0.6257311701774597\n",
      "Loss: 0.7326138478059036\n",
      "Correct Pixel: 11456467\n",
      "Total Pixel: 11520000\n",
      "~~~~~~~~~~~~~~~~~end epoch\n",
      "In Train\n",
      "length of loader 39\n"
     ]
    },
    {
     "name": "stderr",
     "output_type": "stream",
     "text": [
      "100%|█████████████████████████████████████████████████████████████████████| 39/39 [00:15<00:00,  2.54it/s, loss=0.0942]\n"
     ]
    },
    {
     "name": "stdout",
     "output_type": "stream",
     "text": [
      "Out of Train\n",
      "=> Saving checkpoint\n",
      "~~~~ In test ~~~~\n",
      "Loss = 0.7321170293367826\n",
      "IoU Score = 0.6437798738479614\n",
      "Dice Score = 0.7754225134849548\n",
      "~~~~~ Out of test ~~~~~\n",
      "~~~~~epoch => 197\n",
      "Accuracy: 99.47032928466797\n",
      "Dice Score: 0.7754225134849548\n",
      "IOU: 0.6437798738479614\n",
      "Loss: 0.7321170293367826\n",
      "Correct Pixel: 11458982\n",
      "Total Pixel: 11520000\n",
      "~~~~~~~~~~~~~~~~~end epoch\n",
      "In Train\n",
      "length of loader 39\n"
     ]
    },
    {
     "name": "stderr",
     "output_type": "stream",
     "text": [
      "100%|█████████████████████████████████████████████████████████████████████| 39/39 [00:15<00:00,  2.54it/s, loss=0.0914]\n"
     ]
    },
    {
     "name": "stdout",
     "output_type": "stream",
     "text": [
      "Out of Train\n",
      "=> Saving checkpoint\n",
      "~~~~ In test ~~~~\n",
      "Loss = 0.7319488754639258\n",
      "IoU Score = 0.6213933825492859\n",
      "Dice Score = 0.7586614489555359\n",
      "~~~~~ Out of test ~~~~~\n",
      "~~~~~epoch => 198\n",
      "Accuracy: 99.44461822509766\n",
      "Dice Score: 0.7586614489555359\n",
      "IOU: 0.6213933825492859\n",
      "Loss: 0.7319488754639258\n",
      "Correct Pixel: 11456020\n",
      "Total Pixel: 11520000\n",
      "~~~~~~~~~~~~~~~~~end epoch\n",
      "In Train\n",
      "length of loader 39\n"
     ]
    },
    {
     "name": "stderr",
     "output_type": "stream",
     "text": [
      "100%|██████████████████████████████████████████████████████████████████████| 39/39 [00:15<00:00,  2.54it/s, loss=0.107]\n"
     ]
    },
    {
     "name": "stdout",
     "output_type": "stream",
     "text": [
      "Out of Train\n",
      "=> Saving checkpoint\n",
      "~~~~ In test ~~~~\n",
      "Loss = 0.7322520292722262\n",
      "IoU Score = 0.6705346703529358\n",
      "Dice Score = 0.7981967329978943\n",
      "~~~~~ Out of test ~~~~~\n",
      "~~~~~epoch => 199\n",
      "Accuracy: 99.49109649658203\n",
      "Dice Score: 0.7981967329978943\n",
      "IOU: 0.6705346703529358\n",
      "Loss: 0.7322520292722262\n",
      "Correct Pixel: 11461374\n",
      "Total Pixel: 11520000\n",
      "~~~~~~~~~~~~~~~~~end epoch\n"
     ]
    }
   ],
   "source": [
    "column_names = {'epoch':[]\n",
    "                , 'accuracy':[]\n",
    "                , 'dice_score':[]\n",
    "                , 'IoU_score':[]\n",
    "                , 'Loss': []\n",
    "                , 'correct_pixels':[]\n",
    "                , 'total_pixel':[]}\n",
    "df = pd.DataFrame(columns=column_names)\n",
    "\n",
    "\n",
    "labels = [\"Accuracy\", \"Dice Score\", \"IOU\", \"Loss\", \"Correct Pixel\", \"Total Pixel\"]\n",
    "\n",
    "train_loader, val_loader = get_loaders(\n",
    "    TRAIN_IMG_DIR,\n",
    "    TRAIN_MASK_DIR,\n",
    "    VAL_IMG_DIR,\n",
    "    VAL_MASK_DIR,\n",
    "    BATCH_SIZE,\n",
    "    train_transform,\n",
    "    val_transforms,\n",
    "    NUM_WORKERS,\n",
    "    PIN_MEMORY,\n",
    ")\n",
    "\n",
    "\n",
    "model = UNET().to(DEVICE)\n",
    "loss_fn = nn.BCEWithLogitsLoss()\n",
    "optimizer = optim.Adam(model.parameters(), lr=LEARNING_RATE)\n",
    "\n",
    "if LOAD_MODEL:\n",
    "    load_checkpoint(torch.load(\"my_checkpoint.pth.tar\"), model)\n",
    "\n",
    "single_epoch_result = validate_model(val_loader, model, device=DEVICE)\n",
    "print(f'length of train loader -> {len(train_loader)}')\n",
    "print(\"First Check - Before training starts\")\n",
    "for label, item in zip(labels, single_epoch_result):\n",
    "    print(f\"{label}: {item}\")\n",
    "    \n",
    "scaler = torch.cuda.amp.GradScaler()\n",
    "\n",
    "for epoch in range(NUM_EPOCHS):\n",
    "    single_epoch_result = []\n",
    "    train_model(train_loader, model, optimizer, loss_fn, scaler)\n",
    "    \n",
    "    # save model\n",
    "    checkpoint = {\n",
    "        \"state_dict\": model.state_dict(),\n",
    "        \"optimizer\":optimizer.state_dict(),\n",
    "    }\n",
    "    save_checkpoint(checkpoint)\n",
    "\n",
    "    # Saving model accuracy to a csv \n",
    "    single_epoch_result = validate_model(val_loader, model)\n",
    "    \n",
    "    print(f'~~~~~epoch => {epoch}')\n",
    "    for label, item in zip(labels, single_epoch_result):\n",
    "        print(f\"{label}: {item}\")\n",
    "    print('~~~~~~~~~~~~~~~~~end epoch')\n",
    "    \n",
    "    single_epoch_result.insert(0, epoch)\n",
    "    df.loc[len(df)] = single_epoch_result\n",
    "    #df = df.concat(single_epoch_result)\n",
    "\n",
    "    # print some examples to a folderthu\n",
    "    save_predictions_as_imgs(\n",
    "        val_loader, model, folder=\"prediction_images/\", device=DEVICE\n",
    "    )\n",
    "\n",
    "\n",
    "# Save the DataFrame as a CSV file\n",
    "csv_path = 'dataframes/' + csv_filename\n",
    "df.to_csv(csv_path, index=False)\n"
   ]
  },
  {
   "cell_type": "code",
   "execution_count": null,
   "id": "84b58bec-fdc4-4832-a727-41682c4e65c3",
   "metadata": {},
   "outputs": [],
   "source": []
  }
 ],
 "metadata": {
  "kernelspec": {
   "display_name": "Python 3 (ipykernel)",
   "language": "python",
   "name": "python3"
  },
  "language_info": {
   "codemirror_mode": {
    "name": "ipython",
    "version": 3
   },
   "file_extension": ".py",
   "mimetype": "text/x-python",
   "name": "python",
   "nbconvert_exporter": "python",
   "pygments_lexer": "ipython3",
   "version": "3.8.10"
  }
 },
 "nbformat": 4,
 "nbformat_minor": 5
}
